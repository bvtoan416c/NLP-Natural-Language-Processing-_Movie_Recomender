{
 "cells": [
  {
   "cell_type": "markdown",
   "id": "64ee4b23",
   "metadata": {
    "papermill": {
     "duration": 0.017555,
     "end_time": "2023-01-27T15:21:53.930647",
     "exception": false,
     "start_time": "2023-01-27T15:21:53.913092",
     "status": "completed"
    },
    "tags": []
   },
   "source": [
    "# Movie_Recomender-System-Using_Machine_Learning(NLP)"
   ]
  },
  {
   "cell_type": "code",
   "execution_count": 1,
   "id": "fac4018f",
   "metadata": {
    "execution": {
     "iopub.execute_input": "2023-01-27T15:21:53.967708Z",
     "iopub.status.busy": "2023-01-27T15:21:53.966703Z",
     "iopub.status.idle": "2023-01-27T15:21:55.075827Z",
     "shell.execute_reply": "2023-01-27T15:21:55.074410Z"
    },
    "papermill": {
     "duration": 1.13006,
     "end_time": "2023-01-27T15:21:55.079086",
     "exception": false,
     "start_time": "2023-01-27T15:21:53.949026",
     "status": "completed"
    },
    "tags": []
   },
   "outputs": [
    {
     "name": "stdout",
     "output_type": "stream",
     "text": [
      "movie.jpg\r\n"
     ]
    }
   ],
   "source": [
    "from IPython.display import Image\n",
    "import os\n",
    "!ls ../input/movie-image"
   ]
  },
  {
   "cell_type": "code",
   "execution_count": 2,
   "id": "6af9fb6f",
   "metadata": {
    "execution": {
     "iopub.execute_input": "2023-01-27T15:21:55.115340Z",
     "iopub.status.busy": "2023-01-27T15:21:55.114603Z",
     "iopub.status.idle": "2023-01-27T15:21:55.129774Z",
     "shell.execute_reply": "2023-01-27T15:21:55.128560Z"
    },
    "papermill": {
     "duration": 0.03534,
     "end_time": "2023-01-27T15:21:55.132388",
     "exception": false,
     "start_time": "2023-01-27T15:21:55.097048",
     "status": "completed"
    },
    "tags": []
   },
   "outputs": [
    {
     "data": {
      "image/jpeg": "[encoded data removed]",
      "text/plain": [
       "<IPython.core.display.Image object>"
      ]
     },
     "execution_count": 2,
     "metadata": {
      "image/jpeg": {
       "height": 300,
       "width": 700
      }
     },
     "output_type": "execute_result"
    }
   ],
   "source": [
    "Image(\"/kaggle/input/movie-image/movie.jpg\",width=700,height=300)"
   ]
  },
  {
   "cell_type": "markdown",
   "id": "39eb9d17",
   "metadata": {
    "papermill": {
     "duration": 0.015893,
     "end_time": "2023-01-27T15:21:55.165575",
     "exception": false,
     "start_time": "2023-01-27T15:21:55.149682",
     "status": "completed"
    },
    "tags": []
   },
   "source": [
    "# Import Libraries And Load"
   ]
  },
  {
   "cell_type": "code",
   "execution_count": 3,
   "id": "29e3209b",
   "metadata": {
    "execution": {
     "iopub.execute_input": "2023-01-27T15:21:55.201118Z",
     "iopub.status.busy": "2023-01-27T15:21:55.199800Z",
     "iopub.status.idle": "2023-01-27T15:21:56.389402Z",
     "shell.execute_reply": "2023-01-27T15:21:56.388224Z"
    },
    "papermill": {
     "duration": 1.21078,
     "end_time": "2023-01-27T15:21:56.392648",
     "exception": false,
     "start_time": "2023-01-27T15:21:55.181868",
     "status": "completed"
    },
    "tags": []
   },
   "outputs": [],
   "source": [
    "import numpy as np \n",
    "import pandas as pd\n",
    "import seaborn as sns\n",
    "import matplotlib.pyplot as plt\n",
    "%matplotlib inline\n"
   ]
  },
  {
   "cell_type": "code",
   "execution_count": 4,
   "id": "93cfb35f",
   "metadata": {
    "execution": {
     "iopub.execute_input": "2023-01-27T15:21:56.428543Z",
     "iopub.status.busy": "2023-01-27T15:21:56.428154Z",
     "iopub.status.idle": "2023-01-27T15:21:57.514832Z",
     "shell.execute_reply": "2023-01-27T15:21:57.513794Z"
    },
    "papermill": {
     "duration": 1.107654,
     "end_time": "2023-01-27T15:21:57.517767",
     "exception": false,
     "start_time": "2023-01-27T15:21:56.410113",
     "status": "completed"
    },
    "tags": []
   },
   "outputs": [],
   "source": [
    "movies=pd.read_csv('/kaggle/input/movies/tmdb_5000_movies.csv',sep=',')\n",
    "credits=pd.read_csv('/kaggle/input/tmdb-credits/tmdb_5000_credits.csv')"
   ]
  },
  {
   "cell_type": "markdown",
   "id": "4f55d6e4",
   "metadata": {
    "papermill": {
     "duration": 0.015949,
     "end_time": "2023-01-27T15:21:57.550089",
     "exception": false,
     "start_time": "2023-01-27T15:21:57.534140",
     "status": "completed"
    },
    "tags": []
   },
   "source": [
    "## Check Overview Movies DataFrame"
   ]
  },
  {
   "cell_type": "code",
   "execution_count": 5,
   "id": "610dd522",
   "metadata": {
    "execution": {
     "iopub.execute_input": "2023-01-27T15:21:57.585164Z",
     "iopub.status.busy": "2023-01-27T15:21:57.584750Z",
     "iopub.status.idle": "2023-01-27T15:21:57.616063Z",
     "shell.execute_reply": "2023-01-27T15:21:57.614735Z"
    },
    "papermill": {
     "duration": 0.052302,
     "end_time": "2023-01-27T15:21:57.618550",
     "exception": false,
     "start_time": "2023-01-27T15:21:57.566248",
     "status": "completed"
    },
    "tags": []
   },
   "outputs": [
    {
     "data": {
      "text/html": [
       "<div>\n",
       "<style scoped>\n",
       "    .dataframe tbody tr th:only-of-type {\n",
       "        vertical-align: middle;\n",
       "    }\n",
       "\n",
       "    .dataframe tbody tr th {\n",
       "        vertical-align: top;\n",
       "    }\n",
       "\n",
       "    .dataframe thead th {\n",
       "        text-align: right;\n",
       "    }\n",
       "</style>\n",
       "<table border=\"1\" class=\"dataframe\">\n",
       "  <thead>\n",
       "    <tr style=\"text-align: right;\">\n",
       "      <th></th>\n",
       "      <th>budget</th>\n",
       "      <th>genres</th>\n",
       "      <th>homepage</th>\n",
       "      <th>id</th>\n",
       "      <th>keywords</th>\n",
       "      <th>original_language</th>\n",
       "      <th>original_title</th>\n",
       "      <th>overview</th>\n",
       "      <th>popularity</th>\n",
       "      <th>production_companies</th>\n",
       "      <th>production_countries</th>\n",
       "      <th>release_date</th>\n",
       "      <th>revenue</th>\n",
       "      <th>runtime</th>\n",
       "      <th>spoken_languages</th>\n",
       "      <th>status</th>\n",
       "      <th>tagline</th>\n",
       "      <th>title</th>\n",
       "      <th>vote_average</th>\n",
       "      <th>vote_count</th>\n",
       "    </tr>\n",
       "  </thead>\n",
       "  <tbody>\n",
       "    <tr>\n",
       "      <th>0</th>\n",
       "      <td>237000000</td>\n",
       "      <td>[{\"id\": 28, \"name\": \"Action\"}, {\"id\": 12, \"nam...</td>\n",
       "      <td>http://www.avatarmovie.com/</td>\n",
       "      <td>19995</td>\n",
       "      <td>[{\"id\": 1463, \"name\": \"culture clash\"}, {\"id\":...</td>\n",
       "      <td>en</td>\n",
       "      <td>Avatar</td>\n",
       "      <td>In the 22nd century, a paraplegic Marine is di...</td>\n",
       "      <td>150.437577</td>\n",
       "      <td>[{\"name\": \"Ingenious Film Partners\", \"id\": 289...</td>\n",
       "      <td>[{\"iso_3166_1\": \"US\", \"name\": \"United States o...</td>\n",
       "      <td>2009-12-10</td>\n",
       "      <td>2787965087</td>\n",
       "      <td>162.0</td>\n",
       "      <td>[{\"iso_639_1\": \"en\", \"name\": \"English\"}, {\"iso...</td>\n",
       "      <td>Released</td>\n",
       "      <td>Enter the World of Pandora.</td>\n",
       "      <td>Avatar</td>\n",
       "      <td>7.2</td>\n",
       "      <td>11800</td>\n",
       "    </tr>\n",
       "    <tr>\n",
       "      <th>1</th>\n",
       "      <td>300000000</td>\n",
       "      <td>[{\"id\": 12, \"name\": \"Adventure\"}, {\"id\": 14, \"...</td>\n",
       "      <td>http://disney.go.com/disneypictures/pirates/</td>\n",
       "      <td>285</td>\n",
       "      <td>[{\"id\": 270, \"name\": \"ocean\"}, {\"id\": 726, \"na...</td>\n",
       "      <td>en</td>\n",
       "      <td>Pirates of the Caribbean: At World's End</td>\n",
       "      <td>Captain Barbossa, long believed to be dead, ha...</td>\n",
       "      <td>139.082615</td>\n",
       "      <td>[{\"name\": \"Walt Disney Pictures\", \"id\": 2}, {\"...</td>\n",
       "      <td>[{\"iso_3166_1\": \"US\", \"name\": \"United States o...</td>\n",
       "      <td>2007-05-19</td>\n",
       "      <td>961000000</td>\n",
       "      <td>169.0</td>\n",
       "      <td>[{\"iso_639_1\": \"en\", \"name\": \"English\"}]</td>\n",
       "      <td>Released</td>\n",
       "      <td>At the end of the world, the adventure begins.</td>\n",
       "      <td>Pirates of the Caribbean: At World's End</td>\n",
       "      <td>6.9</td>\n",
       "      <td>4500</td>\n",
       "    </tr>\n",
       "    <tr>\n",
       "      <th>2</th>\n",
       "      <td>245000000</td>\n",
       "      <td>[{\"id\": 28, \"name\": \"Action\"}, {\"id\": 12, \"nam...</td>\n",
       "      <td>http://www.sonypictures.com/movies/spectre/</td>\n",
       "      <td>206647</td>\n",
       "      <td>[{\"id\": 470, \"name\": \"spy\"}, {\"id\": 818, \"name...</td>\n",
       "      <td>en</td>\n",
       "      <td>Spectre</td>\n",
       "      <td>A cryptic message from Bond’s past sends him o...</td>\n",
       "      <td>107.376788</td>\n",
       "      <td>[{\"name\": \"Columbia Pictures\", \"id\": 5}, {\"nam...</td>\n",
       "      <td>[{\"iso_3166_1\": \"GB\", \"name\": \"United Kingdom\"...</td>\n",
       "      <td>2015-10-26</td>\n",
       "      <td>880674609</td>\n",
       "      <td>148.0</td>\n",
       "      <td>[{\"iso_639_1\": \"fr\", \"name\": \"Fran\\u00e7ais\"},...</td>\n",
       "      <td>Released</td>\n",
       "      <td>A Plan No One Escapes</td>\n",
       "      <td>Spectre</td>\n",
       "      <td>6.3</td>\n",
       "      <td>4466</td>\n",
       "    </tr>\n",
       "    <tr>\n",
       "      <th>3</th>\n",
       "      <td>250000000</td>\n",
       "      <td>[{\"id\": 28, \"name\": \"Action\"}, {\"id\": 80, \"nam...</td>\n",
       "      <td>http://www.thedarkknightrises.com/</td>\n",
       "      <td>49026</td>\n",
       "      <td>[{\"id\": 849, \"name\": \"dc comics\"}, {\"id\": 853,...</td>\n",
       "      <td>en</td>\n",
       "      <td>The Dark Knight Rises</td>\n",
       "      <td>Following the death of District Attorney Harve...</td>\n",
       "      <td>112.312950</td>\n",
       "      <td>[{\"name\": \"Legendary Pictures\", \"id\": 923}, {\"...</td>\n",
       "      <td>[{\"iso_3166_1\": \"US\", \"name\": \"United States o...</td>\n",
       "      <td>2012-07-16</td>\n",
       "      <td>1084939099</td>\n",
       "      <td>165.0</td>\n",
       "      <td>[{\"iso_639_1\": \"en\", \"name\": \"English\"}]</td>\n",
       "      <td>Released</td>\n",
       "      <td>The Legend Ends</td>\n",
       "      <td>The Dark Knight Rises</td>\n",
       "      <td>7.6</td>\n",
       "      <td>9106</td>\n",
       "    </tr>\n",
       "    <tr>\n",
       "      <th>4</th>\n",
       "      <td>260000000</td>\n",
       "      <td>[{\"id\": 28, \"name\": \"Action\"}, {\"id\": 12, \"nam...</td>\n",
       "      <td>http://movies.disney.com/john-carter</td>\n",
       "      <td>49529</td>\n",
       "      <td>[{\"id\": 818, \"name\": \"based on novel\"}, {\"id\":...</td>\n",
       "      <td>en</td>\n",
       "      <td>John Carter</td>\n",
       "      <td>John Carter is a war-weary, former military ca...</td>\n",
       "      <td>43.926995</td>\n",
       "      <td>[{\"name\": \"Walt Disney Pictures\", \"id\": 2}]</td>\n",
       "      <td>[{\"iso_3166_1\": \"US\", \"name\": \"United States o...</td>\n",
       "      <td>2012-03-07</td>\n",
       "      <td>284139100</td>\n",
       "      <td>132.0</td>\n",
       "      <td>[{\"iso_639_1\": \"en\", \"name\": \"English\"}]</td>\n",
       "      <td>Released</td>\n",
       "      <td>Lost in our world, found in another.</td>\n",
       "      <td>John Carter</td>\n",
       "      <td>6.1</td>\n",
       "      <td>2124</td>\n",
       "    </tr>\n",
       "  </tbody>\n",
       "</table>\n",
       "</div>"
      ],
      "text/plain": [
       "      budget                                             genres  \\\n",
       "0  237000000  [{\"id\": 28, \"name\": \"Action\"}, {\"id\": 12, \"nam...   \n",
       "1  300000000  [{\"id\": 12, \"name\": \"Adventure\"}, {\"id\": 14, \"...   \n",
       "2  245000000  [{\"id\": 28, \"name\": \"Action\"}, {\"id\": 12, \"nam...   \n",
       "3  250000000  [{\"id\": 28, \"name\": \"Action\"}, {\"id\": 80, \"nam...   \n",
       "4  260000000  [{\"id\": 28, \"name\": \"Action\"}, {\"id\": 12, \"nam...   \n",
       "\n",
       "                                       homepage      id  \\\n",
       "0                   http://www.avatarmovie.com/   19995   \n",
       "1  http://disney.go.com/disneypictures/pirates/     285   \n",
       "2   http://www.sonypictures.com/movies/spectre/  206647   \n",
       "3            http://www.thedarkknightrises.com/   49026   \n",
       "4          http://movies.disney.com/john-carter   49529   \n",
       "\n",
       "                                            keywords original_language  \\\n",
       "0  [{\"id\": 1463, \"name\": \"culture clash\"}, {\"id\":...                en   \n",
       "1  [{\"id\": 270, \"name\": \"ocean\"}, {\"id\": 726, \"na...                en   \n",
       "2  [{\"id\": 470, \"name\": \"spy\"}, {\"id\": 818, \"name...                en   \n",
       "3  [{\"id\": 849, \"name\": \"dc comics\"}, {\"id\": 853,...                en   \n",
       "4  [{\"id\": 818, \"name\": \"based on novel\"}, {\"id\":...                en   \n",
       "\n",
       "                             original_title  \\\n",
       "0                                    Avatar   \n",
       "1  Pirates of the Caribbean: At World's End   \n",
       "2                                   Spectre   \n",
       "3                     The Dark Knight Rises   \n",
       "4                               John Carter   \n",
       "\n",
       "                                            overview  popularity  \\\n",
       "0  In the 22nd century, a paraplegic Marine is di...  150.437577   \n",
       "1  Captain Barbossa, long believed to be dead, ha...  139.082615   \n",
       "2  A cryptic message from Bond’s past sends him o...  107.376788   \n",
       "3  Following the death of District Attorney Harve...  112.312950   \n",
       "4  John Carter is a war-weary, former military ca...   43.926995   \n",
       "\n",
       "                                production_companies  \\\n",
       "0  [{\"name\": \"Ingenious Film Partners\", \"id\": 289...   \n",
       "1  [{\"name\": \"Walt Disney Pictures\", \"id\": 2}, {\"...   \n",
       "2  [{\"name\": \"Columbia Pictures\", \"id\": 5}, {\"nam...   \n",
       "3  [{\"name\": \"Legendary Pictures\", \"id\": 923}, {\"...   \n",
       "4        [{\"name\": \"Walt Disney Pictures\", \"id\": 2}]   \n",
       "\n",
       "                                production_countries release_date     revenue  \\\n",
       "0  [{\"iso_3166_1\": \"US\", \"name\": \"United States o...   2009-12-10  2787965087   \n",
       "1  [{\"iso_3166_1\": \"US\", \"name\": \"United States o...   2007-05-19   961000000   \n",
       "2  [{\"iso_3166_1\": \"GB\", \"name\": \"United Kingdom\"...   2015-10-26   880674609   \n",
       "3  [{\"iso_3166_1\": \"US\", \"name\": \"United States o...   2012-07-16  1084939099   \n",
       "4  [{\"iso_3166_1\": \"US\", \"name\": \"United States o...   2012-03-07   284139100   \n",
       "\n",
       "   runtime                                   spoken_languages    status  \\\n",
       "0    162.0  [{\"iso_639_1\": \"en\", \"name\": \"English\"}, {\"iso...  Released   \n",
       "1    169.0           [{\"iso_639_1\": \"en\", \"name\": \"English\"}]  Released   \n",
       "2    148.0  [{\"iso_639_1\": \"fr\", \"name\": \"Fran\\u00e7ais\"},...  Released   \n",
       "3    165.0           [{\"iso_639_1\": \"en\", \"name\": \"English\"}]  Released   \n",
       "4    132.0           [{\"iso_639_1\": \"en\", \"name\": \"English\"}]  Released   \n",
       "\n",
       "                                          tagline  \\\n",
       "0                     Enter the World of Pandora.   \n",
       "1  At the end of the world, the adventure begins.   \n",
       "2                           A Plan No One Escapes   \n",
       "3                                 The Legend Ends   \n",
       "4            Lost in our world, found in another.   \n",
       "\n",
       "                                      title  vote_average  vote_count  \n",
       "0                                    Avatar           7.2       11800  \n",
       "1  Pirates of the Caribbean: At World's End           6.9        4500  \n",
       "2                                   Spectre           6.3        4466  \n",
       "3                     The Dark Knight Rises           7.6        9106  \n",
       "4                               John Carter           6.1        2124  "
      ]
     },
     "execution_count": 5,
     "metadata": {},
     "output_type": "execute_result"
    }
   ],
   "source": [
    "# Check column movies Dataframe\n",
    "movies.head(5)"
   ]
  },
  {
   "cell_type": "code",
   "execution_count": 6,
   "id": "121b9295",
   "metadata": {
    "execution": {
     "iopub.execute_input": "2023-01-27T15:21:57.654240Z",
     "iopub.status.busy": "2023-01-27T15:21:57.653795Z",
     "iopub.status.idle": "2023-01-27T15:21:57.660596Z",
     "shell.execute_reply": "2023-01-27T15:21:57.659410Z"
    },
    "papermill": {
     "duration": 0.027228,
     "end_time": "2023-01-27T15:21:57.662852",
     "exception": false,
     "start_time": "2023-01-27T15:21:57.635624",
     "status": "completed"
    },
    "tags": []
   },
   "outputs": [
    {
     "data": {
      "text/plain": [
       "(4803, 20)"
      ]
     },
     "execution_count": 6,
     "metadata": {},
     "output_type": "execute_result"
    }
   ],
   "source": [
    "# Count Column And Row\n",
    "movies.shape"
   ]
  },
  {
   "cell_type": "markdown",
   "id": "9c9f9aef",
   "metadata": {
    "papermill": {
     "duration": 0.016955,
     "end_time": "2023-01-27T15:21:57.697032",
     "exception": false,
     "start_time": "2023-01-27T15:21:57.680077",
     "status": "completed"
    },
    "tags": []
   },
   "source": [
    "**DataSet Movies Has**\n",
    "- 4803 Columns\n",
    "- 20 Rows"
   ]
  },
  {
   "cell_type": "markdown",
   "id": "9c297854",
   "metadata": {
    "papermill": {
     "duration": 0.016675,
     "end_time": "2023-01-27T15:21:57.730556",
     "exception": false,
     "start_time": "2023-01-27T15:21:57.713881",
     "status": "completed"
    },
    "tags": []
   },
   "source": [
    "**Check Overview Credit Dataframe**"
   ]
  },
  {
   "cell_type": "code",
   "execution_count": 7,
   "id": "af908961",
   "metadata": {
    "execution": {
     "iopub.execute_input": "2023-01-27T15:21:57.767121Z",
     "iopub.status.busy": "2023-01-27T15:21:57.766675Z",
     "iopub.status.idle": "2023-01-27T15:21:57.780965Z",
     "shell.execute_reply": "2023-01-27T15:21:57.779594Z"
    },
    "papermill": {
     "duration": 0.035056,
     "end_time": "2023-01-27T15:21:57.783278",
     "exception": false,
     "start_time": "2023-01-27T15:21:57.748222",
     "status": "completed"
    },
    "tags": []
   },
   "outputs": [
    {
     "data": {
      "text/html": [
       "<div>\n",
       "<style scoped>\n",
       "    .dataframe tbody tr th:only-of-type {\n",
       "        vertical-align: middle;\n",
       "    }\n",
       "\n",
       "    .dataframe tbody tr th {\n",
       "        vertical-align: top;\n",
       "    }\n",
       "\n",
       "    .dataframe thead th {\n",
       "        text-align: right;\n",
       "    }\n",
       "</style>\n",
       "<table border=\"1\" class=\"dataframe\">\n",
       "  <thead>\n",
       "    <tr style=\"text-align: right;\">\n",
       "      <th></th>\n",
       "      <th>movie_id</th>\n",
       "      <th>title</th>\n",
       "      <th>cast</th>\n",
       "      <th>crew</th>\n",
       "    </tr>\n",
       "  </thead>\n",
       "  <tbody>\n",
       "    <tr>\n",
       "      <th>0</th>\n",
       "      <td>19995</td>\n",
       "      <td>Avatar</td>\n",
       "      <td>[{\"cast_id\": 242, \"character\": \"Jake Sully\", \"...</td>\n",
       "      <td>[{\"credit_id\": \"52fe48009251416c750aca23\", \"de...</td>\n",
       "    </tr>\n",
       "    <tr>\n",
       "      <th>1</th>\n",
       "      <td>285</td>\n",
       "      <td>Pirates of the Caribbean: At World's End</td>\n",
       "      <td>[{\"cast_id\": 4, \"character\": \"Captain Jack Spa...</td>\n",
       "      <td>[{\"credit_id\": \"52fe4232c3a36847f800b579\", \"de...</td>\n",
       "    </tr>\n",
       "    <tr>\n",
       "      <th>2</th>\n",
       "      <td>206647</td>\n",
       "      <td>Spectre</td>\n",
       "      <td>[{\"cast_id\": 1, \"character\": \"James Bond\", \"cr...</td>\n",
       "      <td>[{\"credit_id\": \"54805967c3a36829b5002c41\", \"de...</td>\n",
       "    </tr>\n",
       "    <tr>\n",
       "      <th>3</th>\n",
       "      <td>49026</td>\n",
       "      <td>The Dark Knight Rises</td>\n",
       "      <td>[{\"cast_id\": 2, \"character\": \"Bruce Wayne / Ba...</td>\n",
       "      <td>[{\"credit_id\": \"52fe4781c3a36847f81398c3\", \"de...</td>\n",
       "    </tr>\n",
       "    <tr>\n",
       "      <th>4</th>\n",
       "      <td>49529</td>\n",
       "      <td>John Carter</td>\n",
       "      <td>[{\"cast_id\": 5, \"character\": \"John Carter\", \"c...</td>\n",
       "      <td>[{\"credit_id\": \"52fe479ac3a36847f813eaa3\", \"de...</td>\n",
       "    </tr>\n",
       "  </tbody>\n",
       "</table>\n",
       "</div>"
      ],
      "text/plain": [
       "   movie_id                                     title  \\\n",
       "0     19995                                    Avatar   \n",
       "1       285  Pirates of the Caribbean: At World's End   \n",
       "2    206647                                   Spectre   \n",
       "3     49026                     The Dark Knight Rises   \n",
       "4     49529                               John Carter   \n",
       "\n",
       "                                                cast  \\\n",
       "0  [{\"cast_id\": 242, \"character\": \"Jake Sully\", \"...   \n",
       "1  [{\"cast_id\": 4, \"character\": \"Captain Jack Spa...   \n",
       "2  [{\"cast_id\": 1, \"character\": \"James Bond\", \"cr...   \n",
       "3  [{\"cast_id\": 2, \"character\": \"Bruce Wayne / Ba...   \n",
       "4  [{\"cast_id\": 5, \"character\": \"John Carter\", \"c...   \n",
       "\n",
       "                                                crew  \n",
       "0  [{\"credit_id\": \"52fe48009251416c750aca23\", \"de...  \n",
       "1  [{\"credit_id\": \"52fe4232c3a36847f800b579\", \"de...  \n",
       "2  [{\"credit_id\": \"54805967c3a36829b5002c41\", \"de...  \n",
       "3  [{\"credit_id\": \"52fe4781c3a36847f81398c3\", \"de...  \n",
       "4  [{\"credit_id\": \"52fe479ac3a36847f813eaa3\", \"de...  "
      ]
     },
     "execution_count": 7,
     "metadata": {},
     "output_type": "execute_result"
    }
   ],
   "source": [
    "credits.head(5)"
   ]
  },
  {
   "cell_type": "code",
   "execution_count": 8,
   "id": "8e7f3246",
   "metadata": {
    "execution": {
     "iopub.execute_input": "2023-01-27T15:21:57.820096Z",
     "iopub.status.busy": "2023-01-27T15:21:57.819637Z",
     "iopub.status.idle": "2023-01-27T15:21:57.826938Z",
     "shell.execute_reply": "2023-01-27T15:21:57.825762Z"
    },
    "papermill": {
     "duration": 0.028472,
     "end_time": "2023-01-27T15:21:57.829330",
     "exception": false,
     "start_time": "2023-01-27T15:21:57.800858",
     "status": "completed"
    },
    "tags": []
   },
   "outputs": [
    {
     "data": {
      "text/plain": [
       "(4803, 4)"
      ]
     },
     "execution_count": 8,
     "metadata": {},
     "output_type": "execute_result"
    }
   ],
   "source": [
    "### Count cloumns and rows\n",
    "credits.shape"
   ]
  },
  {
   "cell_type": "markdown",
   "id": "59b52fb7",
   "metadata": {
    "papermill": {
     "duration": 0.01702,
     "end_time": "2023-01-27T15:21:57.863507",
     "exception": false,
     "start_time": "2023-01-27T15:21:57.846487",
     "status": "completed"
    },
    "tags": []
   },
   "source": [
    "**DataSet Credits Has:**\n",
    "- 4803 Columns\n",
    "- 4 Rows"
   ]
  },
  {
   "cell_type": "code",
   "execution_count": 9,
   "id": "518ab56d",
   "metadata": {
    "execution": {
     "iopub.execute_input": "2023-01-27T15:21:57.899861Z",
     "iopub.status.busy": "2023-01-27T15:21:57.899377Z",
     "iopub.status.idle": "2023-01-27T15:21:57.940590Z",
     "shell.execute_reply": "2023-01-27T15:21:57.938989Z"
    },
    "papermill": {
     "duration": 0.062611,
     "end_time": "2023-01-27T15:21:57.943389",
     "exception": false,
     "start_time": "2023-01-27T15:21:57.880778",
     "status": "completed"
    },
    "tags": []
   },
   "outputs": [],
   "source": [
    "movies=movies.merge(credits,on='title')"
   ]
  },
  {
   "cell_type": "code",
   "execution_count": 10,
   "id": "bfb02f15",
   "metadata": {
    "execution": {
     "iopub.execute_input": "2023-01-27T15:21:57.979966Z",
     "iopub.status.busy": "2023-01-27T15:21:57.979476Z",
     "iopub.status.idle": "2023-01-27T15:21:57.992619Z",
     "shell.execute_reply": "2023-01-27T15:21:57.991427Z"
    },
    "papermill": {
     "duration": 0.034443,
     "end_time": "2023-01-27T15:21:57.995270",
     "exception": false,
     "start_time": "2023-01-27T15:21:57.960827",
     "status": "completed"
    },
    "tags": []
   },
   "outputs": [],
   "source": [
    "# content based recomeneded sysytem--> categorical data is prime focused\n",
    "# Keeping important columns for recomendation\n",
    "\n",
    "movies=movies[[\"movie_id\",\"title\",\"overview\",'genres','keywords','cast','crew']]"
   ]
  },
  {
   "cell_type": "code",
   "execution_count": 11,
   "id": "c27f630f",
   "metadata": {
    "execution": {
     "iopub.execute_input": "2023-01-27T15:21:58.032099Z",
     "iopub.status.busy": "2023-01-27T15:21:58.031639Z",
     "iopub.status.idle": "2023-01-27T15:21:58.048578Z",
     "shell.execute_reply": "2023-01-27T15:21:58.047330Z"
    },
    "papermill": {
     "duration": 0.038459,
     "end_time": "2023-01-27T15:21:58.051002",
     "exception": false,
     "start_time": "2023-01-27T15:21:58.012543",
     "status": "completed"
    },
    "tags": []
   },
   "outputs": [
    {
     "data": {
      "text/html": [
       "<div>\n",
       "<style scoped>\n",
       "    .dataframe tbody tr th:only-of-type {\n",
       "        vertical-align: middle;\n",
       "    }\n",
       "\n",
       "    .dataframe tbody tr th {\n",
       "        vertical-align: top;\n",
       "    }\n",
       "\n",
       "    .dataframe thead th {\n",
       "        text-align: right;\n",
       "    }\n",
       "</style>\n",
       "<table border=\"1\" class=\"dataframe\">\n",
       "  <thead>\n",
       "    <tr style=\"text-align: right;\">\n",
       "      <th></th>\n",
       "      <th>movie_id</th>\n",
       "      <th>title</th>\n",
       "      <th>overview</th>\n",
       "      <th>genres</th>\n",
       "      <th>keywords</th>\n",
       "      <th>cast</th>\n",
       "      <th>crew</th>\n",
       "    </tr>\n",
       "  </thead>\n",
       "  <tbody>\n",
       "    <tr>\n",
       "      <th>0</th>\n",
       "      <td>19995</td>\n",
       "      <td>Avatar</td>\n",
       "      <td>In the 22nd century, a paraplegic Marine is di...</td>\n",
       "      <td>[{\"id\": 28, \"name\": \"Action\"}, {\"id\": 12, \"nam...</td>\n",
       "      <td>[{\"id\": 1463, \"name\": \"culture clash\"}, {\"id\":...</td>\n",
       "      <td>[{\"cast_id\": 242, \"character\": \"Jake Sully\", \"...</td>\n",
       "      <td>[{\"credit_id\": \"52fe48009251416c750aca23\", \"de...</td>\n",
       "    </tr>\n",
       "    <tr>\n",
       "      <th>1</th>\n",
       "      <td>285</td>\n",
       "      <td>Pirates of the Caribbean: At World's End</td>\n",
       "      <td>Captain Barbossa, long believed to be dead, ha...</td>\n",
       "      <td>[{\"id\": 12, \"name\": \"Adventure\"}, {\"id\": 14, \"...</td>\n",
       "      <td>[{\"id\": 270, \"name\": \"ocean\"}, {\"id\": 726, \"na...</td>\n",
       "      <td>[{\"cast_id\": 4, \"character\": \"Captain Jack Spa...</td>\n",
       "      <td>[{\"credit_id\": \"52fe4232c3a36847f800b579\", \"de...</td>\n",
       "    </tr>\n",
       "    <tr>\n",
       "      <th>2</th>\n",
       "      <td>206647</td>\n",
       "      <td>Spectre</td>\n",
       "      <td>A cryptic message from Bond’s past sends him o...</td>\n",
       "      <td>[{\"id\": 28, \"name\": \"Action\"}, {\"id\": 12, \"nam...</td>\n",
       "      <td>[{\"id\": 470, \"name\": \"spy\"}, {\"id\": 818, \"name...</td>\n",
       "      <td>[{\"cast_id\": 1, \"character\": \"James Bond\", \"cr...</td>\n",
       "      <td>[{\"credit_id\": \"54805967c3a36829b5002c41\", \"de...</td>\n",
       "    </tr>\n",
       "    <tr>\n",
       "      <th>3</th>\n",
       "      <td>49026</td>\n",
       "      <td>The Dark Knight Rises</td>\n",
       "      <td>Following the death of District Attorney Harve...</td>\n",
       "      <td>[{\"id\": 28, \"name\": \"Action\"}, {\"id\": 80, \"nam...</td>\n",
       "      <td>[{\"id\": 849, \"name\": \"dc comics\"}, {\"id\": 853,...</td>\n",
       "      <td>[{\"cast_id\": 2, \"character\": \"Bruce Wayne / Ba...</td>\n",
       "      <td>[{\"credit_id\": \"52fe4781c3a36847f81398c3\", \"de...</td>\n",
       "    </tr>\n",
       "    <tr>\n",
       "      <th>4</th>\n",
       "      <td>49529</td>\n",
       "      <td>John Carter</td>\n",
       "      <td>John Carter is a war-weary, former military ca...</td>\n",
       "      <td>[{\"id\": 28, \"name\": \"Action\"}, {\"id\": 12, \"nam...</td>\n",
       "      <td>[{\"id\": 818, \"name\": \"based on novel\"}, {\"id\":...</td>\n",
       "      <td>[{\"cast_id\": 5, \"character\": \"John Carter\", \"c...</td>\n",
       "      <td>[{\"credit_id\": \"52fe479ac3a36847f813eaa3\", \"de...</td>\n",
       "    </tr>\n",
       "  </tbody>\n",
       "</table>\n",
       "</div>"
      ],
      "text/plain": [
       "   movie_id                                     title  \\\n",
       "0     19995                                    Avatar   \n",
       "1       285  Pirates of the Caribbean: At World's End   \n",
       "2    206647                                   Spectre   \n",
       "3     49026                     The Dark Knight Rises   \n",
       "4     49529                               John Carter   \n",
       "\n",
       "                                            overview  \\\n",
       "0  In the 22nd century, a paraplegic Marine is di...   \n",
       "1  Captain Barbossa, long believed to be dead, ha...   \n",
       "2  A cryptic message from Bond’s past sends him o...   \n",
       "3  Following the death of District Attorney Harve...   \n",
       "4  John Carter is a war-weary, former military ca...   \n",
       "\n",
       "                                              genres  \\\n",
       "0  [{\"id\": 28, \"name\": \"Action\"}, {\"id\": 12, \"nam...   \n",
       "1  [{\"id\": 12, \"name\": \"Adventure\"}, {\"id\": 14, \"...   \n",
       "2  [{\"id\": 28, \"name\": \"Action\"}, {\"id\": 12, \"nam...   \n",
       "3  [{\"id\": 28, \"name\": \"Action\"}, {\"id\": 80, \"nam...   \n",
       "4  [{\"id\": 28, \"name\": \"Action\"}, {\"id\": 12, \"nam...   \n",
       "\n",
       "                                            keywords  \\\n",
       "0  [{\"id\": 1463, \"name\": \"culture clash\"}, {\"id\":...   \n",
       "1  [{\"id\": 270, \"name\": \"ocean\"}, {\"id\": 726, \"na...   \n",
       "2  [{\"id\": 470, \"name\": \"spy\"}, {\"id\": 818, \"name...   \n",
       "3  [{\"id\": 849, \"name\": \"dc comics\"}, {\"id\": 853,...   \n",
       "4  [{\"id\": 818, \"name\": \"based on novel\"}, {\"id\":...   \n",
       "\n",
       "                                                cast  \\\n",
       "0  [{\"cast_id\": 242, \"character\": \"Jake Sully\", \"...   \n",
       "1  [{\"cast_id\": 4, \"character\": \"Captain Jack Spa...   \n",
       "2  [{\"cast_id\": 1, \"character\": \"James Bond\", \"cr...   \n",
       "3  [{\"cast_id\": 2, \"character\": \"Bruce Wayne / Ba...   \n",
       "4  [{\"cast_id\": 5, \"character\": \"John Carter\", \"c...   \n",
       "\n",
       "                                                crew  \n",
       "0  [{\"credit_id\": \"52fe48009251416c750aca23\", \"de...  \n",
       "1  [{\"credit_id\": \"52fe4232c3a36847f800b579\", \"de...  \n",
       "2  [{\"credit_id\": \"54805967c3a36829b5002c41\", \"de...  \n",
       "3  [{\"credit_id\": \"52fe4781c3a36847f81398c3\", \"de...  \n",
       "4  [{\"credit_id\": \"52fe479ac3a36847f813eaa3\", \"de...  "
      ]
     },
     "execution_count": 11,
     "metadata": {},
     "output_type": "execute_result"
    }
   ],
   "source": [
    "movies.head(5)"
   ]
  },
  {
   "cell_type": "code",
   "execution_count": 12,
   "id": "9075c1d9",
   "metadata": {
    "execution": {
     "iopub.execute_input": "2023-01-27T15:21:58.088446Z",
     "iopub.status.busy": "2023-01-27T15:21:58.088019Z",
     "iopub.status.idle": "2023-01-27T15:21:58.095499Z",
     "shell.execute_reply": "2023-01-27T15:21:58.094537Z"
    },
    "papermill": {
     "duration": 0.029096,
     "end_time": "2023-01-27T15:21:58.097679",
     "exception": false,
     "start_time": "2023-01-27T15:21:58.068583",
     "status": "completed"
    },
    "tags": []
   },
   "outputs": [
    {
     "data": {
      "text/plain": [
       "(4809, 7)"
      ]
     },
     "execution_count": 12,
     "metadata": {},
     "output_type": "execute_result"
    }
   ],
   "source": [
    "# Checking if ther any null value or not\n",
    "movies.shape"
   ]
  },
  {
   "cell_type": "markdown",
   "id": "62e4b3a7",
   "metadata": {
    "execution": {
     "iopub.execute_input": "2023-01-26T15:25:39.352797Z",
     "iopub.status.busy": "2023-01-26T15:25:39.352320Z",
     "iopub.status.idle": "2023-01-26T15:25:39.360505Z",
     "shell.execute_reply": "2023-01-26T15:25:39.359102Z",
     "shell.execute_reply.started": "2023-01-26T15:25:39.352757Z"
    },
    "papermill": {
     "duration": 0.017716,
     "end_time": "2023-01-27T15:21:58.132990",
     "exception": false,
     "start_time": "2023-01-27T15:21:58.115274",
     "status": "completed"
    },
    "tags": []
   },
   "source": [
    "**Checking If There Any Null Value Or Not**"
   ]
  },
  {
   "cell_type": "code",
   "execution_count": 13,
   "id": "d035f3e9",
   "metadata": {
    "execution": {
     "iopub.execute_input": "2023-01-27T15:21:58.171768Z",
     "iopub.status.busy": "2023-01-27T15:21:58.171356Z",
     "iopub.status.idle": "2023-01-27T15:21:58.184899Z",
     "shell.execute_reply": "2023-01-27T15:21:58.183874Z"
    },
    "papermill": {
     "duration": 0.036117,
     "end_time": "2023-01-27T15:21:58.187412",
     "exception": false,
     "start_time": "2023-01-27T15:21:58.151295",
     "status": "completed"
    },
    "tags": []
   },
   "outputs": [
    {
     "data": {
      "text/plain": [
       "movie_id    0\n",
       "title       0\n",
       "overview    3\n",
       "genres      0\n",
       "keywords    0\n",
       "cast        0\n",
       "crew        0\n",
       "dtype: int64"
      ]
     },
     "execution_count": 13,
     "metadata": {},
     "output_type": "execute_result"
    }
   ],
   "source": [
    "\n",
    "movies.isnull().sum()"
   ]
  },
  {
   "cell_type": "markdown",
   "id": "d7be6744",
   "metadata": {
    "papermill": {
     "duration": 0.017494,
     "end_time": "2023-01-27T15:21:58.223144",
     "exception": false,
     "start_time": "2023-01-27T15:21:58.205650",
     "status": "completed"
    },
    "tags": []
   },
   "source": [
    "- We can see that there are 3 null values in overview variable"
   ]
  },
  {
   "cell_type": "markdown",
   "id": "315f2ad4",
   "metadata": {
    "papermill": {
     "duration": 0.018052,
     "end_time": "2023-01-27T15:21:58.259060",
     "exception": false,
     "start_time": "2023-01-27T15:21:58.241008",
     "status": "completed"
    },
    "tags": []
   },
   "source": [
    "**Drop The Missing Value**"
   ]
  },
  {
   "cell_type": "code",
   "execution_count": 14,
   "id": "ea6d639c",
   "metadata": {
    "execution": {
     "iopub.execute_input": "2023-01-27T15:21:58.296867Z",
     "iopub.status.busy": "2023-01-27T15:21:58.296484Z",
     "iopub.status.idle": "2023-01-27T15:21:58.310061Z",
     "shell.execute_reply": "2023-01-27T15:21:58.308703Z"
    },
    "papermill": {
     "duration": 0.035883,
     "end_time": "2023-01-27T15:21:58.312855",
     "exception": false,
     "start_time": "2023-01-27T15:21:58.276972",
     "status": "completed"
    },
    "tags": []
   },
   "outputs": [],
   "source": [
    "movies.dropna(inplace=True)"
   ]
  },
  {
   "cell_type": "code",
   "execution_count": 15,
   "id": "8efb6b47",
   "metadata": {
    "execution": {
     "iopub.execute_input": "2023-01-27T15:21:58.350664Z",
     "iopub.status.busy": "2023-01-27T15:21:58.350182Z",
     "iopub.status.idle": "2023-01-27T15:21:58.363426Z",
     "shell.execute_reply": "2023-01-27T15:21:58.362082Z"
    },
    "papermill": {
     "duration": 0.035479,
     "end_time": "2023-01-27T15:21:58.366223",
     "exception": false,
     "start_time": "2023-01-27T15:21:58.330744",
     "status": "completed"
    },
    "tags": []
   },
   "outputs": [
    {
     "data": {
      "text/plain": [
       "movie_id    0\n",
       "title       0\n",
       "overview    0\n",
       "genres      0\n",
       "keywords    0\n",
       "cast        0\n",
       "crew        0\n",
       "dtype: int64"
      ]
     },
     "execution_count": 15,
     "metadata": {},
     "output_type": "execute_result"
    }
   ],
   "source": [
    "# Recheck\n",
    "movies.isnull().sum()"
   ]
  },
  {
   "cell_type": "code",
   "execution_count": 16,
   "id": "4172826b",
   "metadata": {
    "execution": {
     "iopub.execute_input": "2023-01-27T15:21:58.404232Z",
     "iopub.status.busy": "2023-01-27T15:21:58.403804Z",
     "iopub.status.idle": "2023-01-27T15:21:58.410913Z",
     "shell.execute_reply": "2023-01-27T15:21:58.409737Z"
    },
    "papermill": {
     "duration": 0.028751,
     "end_time": "2023-01-27T15:21:58.413146",
     "exception": false,
     "start_time": "2023-01-27T15:21:58.384395",
     "status": "completed"
    },
    "tags": []
   },
   "outputs": [
    {
     "data": {
      "text/plain": [
       "(4806, 7)"
      ]
     },
     "execution_count": 16,
     "metadata": {},
     "output_type": "execute_result"
    }
   ],
   "source": [
    "movies.shape"
   ]
  },
  {
   "cell_type": "markdown",
   "id": "6703016e",
   "metadata": {
    "papermill": {
     "duration": 0.01748,
     "end_time": "2023-01-27T15:21:58.449193",
     "exception": false,
     "start_time": "2023-01-27T15:21:58.431713",
     "status": "completed"
    },
    "tags": []
   },
   "source": [
    "**Check Duplicate Value**"
   ]
  },
  {
   "cell_type": "code",
   "execution_count": 17,
   "id": "0426a62d",
   "metadata": {
    "execution": {
     "iopub.execute_input": "2023-01-27T15:21:58.486548Z",
     "iopub.status.busy": "2023-01-27T15:21:58.486115Z",
     "iopub.status.idle": "2023-01-27T15:21:58.593313Z",
     "shell.execute_reply": "2023-01-27T15:21:58.592141Z"
    },
    "papermill": {
     "duration": 0.128682,
     "end_time": "2023-01-27T15:21:58.595741",
     "exception": false,
     "start_time": "2023-01-27T15:21:58.467059",
     "status": "completed"
    },
    "tags": []
   },
   "outputs": [
    {
     "data": {
      "text/plain": [
       "0"
      ]
     },
     "execution_count": 17,
     "metadata": {},
     "output_type": "execute_result"
    }
   ],
   "source": [
    "movies.duplicated().sum()"
   ]
  },
  {
   "cell_type": "markdown",
   "id": "7eeb2df2",
   "metadata": {
    "papermill": {
     "duration": 0.017668,
     "end_time": "2023-01-27T15:21:58.631421",
     "exception": false,
     "start_time": "2023-01-27T15:21:58.613753",
     "status": "completed"
    },
    "tags": []
   },
   "source": [
    "- Here we can see that none of the values are duplicated"
   ]
  },
  {
   "cell_type": "code",
   "execution_count": 18,
   "id": "95f98029",
   "metadata": {
    "execution": {
     "iopub.execute_input": "2023-01-27T15:21:58.671041Z",
     "iopub.status.busy": "2023-01-27T15:21:58.670142Z",
     "iopub.status.idle": "2023-01-27T15:21:58.677702Z",
     "shell.execute_reply": "2023-01-27T15:21:58.676525Z"
    },
    "papermill": {
     "duration": 0.030043,
     "end_time": "2023-01-27T15:21:58.680328",
     "exception": false,
     "start_time": "2023-01-27T15:21:58.650285",
     "status": "completed"
    },
    "tags": []
   },
   "outputs": [
    {
     "data": {
      "text/plain": [
       "'[{\"id\": 28, \"name\": \"Action\"}, {\"id\": 12, \"name\": \"Adventure\"}, {\"id\": 14, \"name\": \"Fantasy\"}, {\"id\": 878, \"name\": \"Science Fiction\"}]'"
      ]
     },
     "execution_count": 18,
     "metadata": {},
     "output_type": "execute_result"
    }
   ],
   "source": [
    "# Handle Genres\n",
    "# I want to make a paragraph to generate for that i want to concate the things\n",
    "movies.iloc[0]['genres']"
   ]
  },
  {
   "cell_type": "code",
   "execution_count": 19,
   "id": "edbc107d",
   "metadata": {
    "execution": {
     "iopub.execute_input": "2023-01-27T15:21:58.718527Z",
     "iopub.status.busy": "2023-01-27T15:21:58.718107Z",
     "iopub.status.idle": "2023-01-27T15:21:58.723862Z",
     "shell.execute_reply": "2023-01-27T15:21:58.722710Z"
    },
    "papermill": {
     "duration": 0.027618,
     "end_time": "2023-01-27T15:21:58.726189",
     "exception": false,
     "start_time": "2023-01-27T15:21:58.698571",
     "status": "completed"
    },
    "tags": []
   },
   "outputs": [],
   "source": [
    "# Building Function\n",
    "# For converting str to list\n",
    "import ast \n",
    "def convert(text):\n",
    "    L=[]\n",
    "    for i in ast.literal_eval(text):\n",
    "        L.append(i['name'])\n",
    "    return L"
   ]
  },
  {
   "cell_type": "code",
   "execution_count": 20,
   "id": "02055956",
   "metadata": {
    "execution": {
     "iopub.execute_input": "2023-01-27T15:21:58.764615Z",
     "iopub.status.busy": "2023-01-27T15:21:58.764224Z",
     "iopub.status.idle": "2023-01-27T15:21:58.923118Z",
     "shell.execute_reply": "2023-01-27T15:21:58.921549Z"
    },
    "papermill": {
     "duration": 0.181543,
     "end_time": "2023-01-27T15:21:58.926112",
     "exception": false,
     "start_time": "2023-01-27T15:21:58.744569",
     "status": "completed"
    },
    "tags": []
   },
   "outputs": [],
   "source": [
    "# Apply Convert Value For Dataframe\n",
    "movies['genres']=movies['genres'].apply(convert)"
   ]
  },
  {
   "cell_type": "code",
   "execution_count": 21,
   "id": "000f335b",
   "metadata": {
    "execution": {
     "iopub.execute_input": "2023-01-27T15:21:58.968867Z",
     "iopub.status.busy": "2023-01-27T15:21:58.968451Z",
     "iopub.status.idle": "2023-01-27T15:21:58.985050Z",
     "shell.execute_reply": "2023-01-27T15:21:58.983905Z"
    },
    "papermill": {
     "duration": 0.041865,
     "end_time": "2023-01-27T15:21:58.987691",
     "exception": false,
     "start_time": "2023-01-27T15:21:58.945826",
     "status": "completed"
    },
    "tags": []
   },
   "outputs": [
    {
     "data": {
      "text/html": [
       "<div>\n",
       "<style scoped>\n",
       "    .dataframe tbody tr th:only-of-type {\n",
       "        vertical-align: middle;\n",
       "    }\n",
       "\n",
       "    .dataframe tbody tr th {\n",
       "        vertical-align: top;\n",
       "    }\n",
       "\n",
       "    .dataframe thead th {\n",
       "        text-align: right;\n",
       "    }\n",
       "</style>\n",
       "<table border=\"1\" class=\"dataframe\">\n",
       "  <thead>\n",
       "    <tr style=\"text-align: right;\">\n",
       "      <th></th>\n",
       "      <th>movie_id</th>\n",
       "      <th>title</th>\n",
       "      <th>overview</th>\n",
       "      <th>genres</th>\n",
       "      <th>keywords</th>\n",
       "      <th>cast</th>\n",
       "      <th>crew</th>\n",
       "    </tr>\n",
       "  </thead>\n",
       "  <tbody>\n",
       "    <tr>\n",
       "      <th>0</th>\n",
       "      <td>19995</td>\n",
       "      <td>Avatar</td>\n",
       "      <td>In the 22nd century, a paraplegic Marine is di...</td>\n",
       "      <td>[Action, Adventure, Fantasy, Science Fiction]</td>\n",
       "      <td>[{\"id\": 1463, \"name\": \"culture clash\"}, {\"id\":...</td>\n",
       "      <td>[{\"cast_id\": 242, \"character\": \"Jake Sully\", \"...</td>\n",
       "      <td>[{\"credit_id\": \"52fe48009251416c750aca23\", \"de...</td>\n",
       "    </tr>\n",
       "    <tr>\n",
       "      <th>1</th>\n",
       "      <td>285</td>\n",
       "      <td>Pirates of the Caribbean: At World's End</td>\n",
       "      <td>Captain Barbossa, long believed to be dead, ha...</td>\n",
       "      <td>[Adventure, Fantasy, Action]</td>\n",
       "      <td>[{\"id\": 270, \"name\": \"ocean\"}, {\"id\": 726, \"na...</td>\n",
       "      <td>[{\"cast_id\": 4, \"character\": \"Captain Jack Spa...</td>\n",
       "      <td>[{\"credit_id\": \"52fe4232c3a36847f800b579\", \"de...</td>\n",
       "    </tr>\n",
       "    <tr>\n",
       "      <th>2</th>\n",
       "      <td>206647</td>\n",
       "      <td>Spectre</td>\n",
       "      <td>A cryptic message from Bond’s past sends him o...</td>\n",
       "      <td>[Action, Adventure, Crime]</td>\n",
       "      <td>[{\"id\": 470, \"name\": \"spy\"}, {\"id\": 818, \"name...</td>\n",
       "      <td>[{\"cast_id\": 1, \"character\": \"James Bond\", \"cr...</td>\n",
       "      <td>[{\"credit_id\": \"54805967c3a36829b5002c41\", \"de...</td>\n",
       "    </tr>\n",
       "    <tr>\n",
       "      <th>3</th>\n",
       "      <td>49026</td>\n",
       "      <td>The Dark Knight Rises</td>\n",
       "      <td>Following the death of District Attorney Harve...</td>\n",
       "      <td>[Action, Crime, Drama, Thriller]</td>\n",
       "      <td>[{\"id\": 849, \"name\": \"dc comics\"}, {\"id\": 853,...</td>\n",
       "      <td>[{\"cast_id\": 2, \"character\": \"Bruce Wayne / Ba...</td>\n",
       "      <td>[{\"credit_id\": \"52fe4781c3a36847f81398c3\", \"de...</td>\n",
       "    </tr>\n",
       "    <tr>\n",
       "      <th>4</th>\n",
       "      <td>49529</td>\n",
       "      <td>John Carter</td>\n",
       "      <td>John Carter is a war-weary, former military ca...</td>\n",
       "      <td>[Action, Adventure, Science Fiction]</td>\n",
       "      <td>[{\"id\": 818, \"name\": \"based on novel\"}, {\"id\":...</td>\n",
       "      <td>[{\"cast_id\": 5, \"character\": \"John Carter\", \"c...</td>\n",
       "      <td>[{\"credit_id\": \"52fe479ac3a36847f813eaa3\", \"de...</td>\n",
       "    </tr>\n",
       "  </tbody>\n",
       "</table>\n",
       "</div>"
      ],
      "text/plain": [
       "   movie_id                                     title  \\\n",
       "0     19995                                    Avatar   \n",
       "1       285  Pirates of the Caribbean: At World's End   \n",
       "2    206647                                   Spectre   \n",
       "3     49026                     The Dark Knight Rises   \n",
       "4     49529                               John Carter   \n",
       "\n",
       "                                            overview  \\\n",
       "0  In the 22nd century, a paraplegic Marine is di...   \n",
       "1  Captain Barbossa, long believed to be dead, ha...   \n",
       "2  A cryptic message from Bond’s past sends him o...   \n",
       "3  Following the death of District Attorney Harve...   \n",
       "4  John Carter is a war-weary, former military ca...   \n",
       "\n",
       "                                          genres  \\\n",
       "0  [Action, Adventure, Fantasy, Science Fiction]   \n",
       "1                   [Adventure, Fantasy, Action]   \n",
       "2                     [Action, Adventure, Crime]   \n",
       "3               [Action, Crime, Drama, Thriller]   \n",
       "4           [Action, Adventure, Science Fiction]   \n",
       "\n",
       "                                            keywords  \\\n",
       "0  [{\"id\": 1463, \"name\": \"culture clash\"}, {\"id\":...   \n",
       "1  [{\"id\": 270, \"name\": \"ocean\"}, {\"id\": 726, \"na...   \n",
       "2  [{\"id\": 470, \"name\": \"spy\"}, {\"id\": 818, \"name...   \n",
       "3  [{\"id\": 849, \"name\": \"dc comics\"}, {\"id\": 853,...   \n",
       "4  [{\"id\": 818, \"name\": \"based on novel\"}, {\"id\":...   \n",
       "\n",
       "                                                cast  \\\n",
       "0  [{\"cast_id\": 242, \"character\": \"Jake Sully\", \"...   \n",
       "1  [{\"cast_id\": 4, \"character\": \"Captain Jack Spa...   \n",
       "2  [{\"cast_id\": 1, \"character\": \"James Bond\", \"cr...   \n",
       "3  [{\"cast_id\": 2, \"character\": \"Bruce Wayne / Ba...   \n",
       "4  [{\"cast_id\": 5, \"character\": \"John Carter\", \"c...   \n",
       "\n",
       "                                                crew  \n",
       "0  [{\"credit_id\": \"52fe48009251416c750aca23\", \"de...  \n",
       "1  [{\"credit_id\": \"52fe4232c3a36847f800b579\", \"de...  \n",
       "2  [{\"credit_id\": \"54805967c3a36829b5002c41\", \"de...  \n",
       "3  [{\"credit_id\": \"52fe4781c3a36847f81398c3\", \"de...  \n",
       "4  [{\"credit_id\": \"52fe479ac3a36847f813eaa3\", \"de...  "
      ]
     },
     "execution_count": 21,
     "metadata": {},
     "output_type": "execute_result"
    }
   ],
   "source": [
    "# Recheck\n",
    "movies.head(5)"
   ]
  },
  {
   "cell_type": "code",
   "execution_count": 22,
   "id": "06685de4",
   "metadata": {
    "execution": {
     "iopub.execute_input": "2023-01-27T15:21:59.027353Z",
     "iopub.status.busy": "2023-01-27T15:21:59.026902Z",
     "iopub.status.idle": "2023-01-27T15:21:59.034799Z",
     "shell.execute_reply": "2023-01-27T15:21:59.033611Z"
    },
    "papermill": {
     "duration": 0.031015,
     "end_time": "2023-01-27T15:21:59.037684",
     "exception": false,
     "start_time": "2023-01-27T15:21:59.006669",
     "status": "completed"
    },
    "tags": []
   },
   "outputs": [
    {
     "data": {
      "text/plain": [
       "'[{\"id\": 1463, \"name\": \"culture clash\"}, {\"id\": 2964, \"name\": \"future\"}, {\"id\": 3386, \"name\": \"space war\"}, {\"id\": 3388, \"name\": \"space colony\"}, {\"id\": 3679, \"name\": \"society\"}, {\"id\": 3801, \"name\": \"space travel\"}, {\"id\": 9685, \"name\": \"futuristic\"}, {\"id\": 9840, \"name\": \"romance\"}, {\"id\": 9882, \"name\": \"space\"}, {\"id\": 9951, \"name\": \"alien\"}, {\"id\": 10148, \"name\": \"tribe\"}, {\"id\": 10158, \"name\": \"alien planet\"}, {\"id\": 10987, \"name\": \"cgi\"}, {\"id\": 11399, \"name\": \"marine\"}, {\"id\": 13065, \"name\": \"soldier\"}, {\"id\": 14643, \"name\": \"battle\"}, {\"id\": 14720, \"name\": \"love affair\"}, {\"id\": 165431, \"name\": \"anti war\"}, {\"id\": 193554, \"name\": \"power relations\"}, {\"id\": 206690, \"name\": \"mind and soul\"}, {\"id\": 209714, \"name\": \"3d\"}]'"
      ]
     },
     "execution_count": 22,
     "metadata": {},
     "output_type": "execute_result"
    }
   ],
   "source": [
    "# Handle keywords\n",
    "\n",
    "movies.iloc[0]['keywords']"
   ]
  },
  {
   "cell_type": "code",
   "execution_count": 23,
   "id": "8f70dc43",
   "metadata": {
    "execution": {
     "iopub.execute_input": "2023-01-27T15:21:59.078342Z",
     "iopub.status.busy": "2023-01-27T15:21:59.077898Z",
     "iopub.status.idle": "2023-01-27T15:21:59.499294Z",
     "shell.execute_reply": "2023-01-27T15:21:59.498330Z"
    },
    "papermill": {
     "duration": 0.444206,
     "end_time": "2023-01-27T15:21:59.501421",
     "exception": false,
     "start_time": "2023-01-27T15:21:59.057215",
     "status": "completed"
    },
    "tags": []
   },
   "outputs": [
    {
     "data": {
      "text/html": [
       "<div>\n",
       "<style scoped>\n",
       "    .dataframe tbody tr th:only-of-type {\n",
       "        vertical-align: middle;\n",
       "    }\n",
       "\n",
       "    .dataframe tbody tr th {\n",
       "        vertical-align: top;\n",
       "    }\n",
       "\n",
       "    .dataframe thead th {\n",
       "        text-align: right;\n",
       "    }\n",
       "</style>\n",
       "<table border=\"1\" class=\"dataframe\">\n",
       "  <thead>\n",
       "    <tr style=\"text-align: right;\">\n",
       "      <th></th>\n",
       "      <th>movie_id</th>\n",
       "      <th>title</th>\n",
       "      <th>overview</th>\n",
       "      <th>genres</th>\n",
       "      <th>keywords</th>\n",
       "      <th>cast</th>\n",
       "      <th>crew</th>\n",
       "    </tr>\n",
       "  </thead>\n",
       "  <tbody>\n",
       "    <tr>\n",
       "      <th>0</th>\n",
       "      <td>19995</td>\n",
       "      <td>Avatar</td>\n",
       "      <td>In the 22nd century, a paraplegic Marine is di...</td>\n",
       "      <td>[Action, Adventure, Fantasy, Science Fiction]</td>\n",
       "      <td>[culture clash, future, space war, space colon...</td>\n",
       "      <td>[{\"cast_id\": 242, \"character\": \"Jake Sully\", \"...</td>\n",
       "      <td>[{\"credit_id\": \"52fe48009251416c750aca23\", \"de...</td>\n",
       "    </tr>\n",
       "    <tr>\n",
       "      <th>1</th>\n",
       "      <td>285</td>\n",
       "      <td>Pirates of the Caribbean: At World's End</td>\n",
       "      <td>Captain Barbossa, long believed to be dead, ha...</td>\n",
       "      <td>[Adventure, Fantasy, Action]</td>\n",
       "      <td>[ocean, drug abuse, exotic island, east india ...</td>\n",
       "      <td>[{\"cast_id\": 4, \"character\": \"Captain Jack Spa...</td>\n",
       "      <td>[{\"credit_id\": \"52fe4232c3a36847f800b579\", \"de...</td>\n",
       "    </tr>\n",
       "    <tr>\n",
       "      <th>2</th>\n",
       "      <td>206647</td>\n",
       "      <td>Spectre</td>\n",
       "      <td>A cryptic message from Bond’s past sends him o...</td>\n",
       "      <td>[Action, Adventure, Crime]</td>\n",
       "      <td>[spy, based on novel, secret agent, sequel, mi...</td>\n",
       "      <td>[{\"cast_id\": 1, \"character\": \"James Bond\", \"cr...</td>\n",
       "      <td>[{\"credit_id\": \"54805967c3a36829b5002c41\", \"de...</td>\n",
       "    </tr>\n",
       "    <tr>\n",
       "      <th>3</th>\n",
       "      <td>49026</td>\n",
       "      <td>The Dark Knight Rises</td>\n",
       "      <td>Following the death of District Attorney Harve...</td>\n",
       "      <td>[Action, Crime, Drama, Thriller]</td>\n",
       "      <td>[dc comics, crime fighter, terrorist, secret i...</td>\n",
       "      <td>[{\"cast_id\": 2, \"character\": \"Bruce Wayne / Ba...</td>\n",
       "      <td>[{\"credit_id\": \"52fe4781c3a36847f81398c3\", \"de...</td>\n",
       "    </tr>\n",
       "    <tr>\n",
       "      <th>4</th>\n",
       "      <td>49529</td>\n",
       "      <td>John Carter</td>\n",
       "      <td>John Carter is a war-weary, former military ca...</td>\n",
       "      <td>[Action, Adventure, Science Fiction]</td>\n",
       "      <td>[based on novel, mars, medallion, space travel...</td>\n",
       "      <td>[{\"cast_id\": 5, \"character\": \"John Carter\", \"c...</td>\n",
       "      <td>[{\"credit_id\": \"52fe479ac3a36847f813eaa3\", \"de...</td>\n",
       "    </tr>\n",
       "  </tbody>\n",
       "</table>\n",
       "</div>"
      ],
      "text/plain": [
       "   movie_id                                     title  \\\n",
       "0     19995                                    Avatar   \n",
       "1       285  Pirates of the Caribbean: At World's End   \n",
       "2    206647                                   Spectre   \n",
       "3     49026                     The Dark Knight Rises   \n",
       "4     49529                               John Carter   \n",
       "\n",
       "                                            overview  \\\n",
       "0  In the 22nd century, a paraplegic Marine is di...   \n",
       "1  Captain Barbossa, long believed to be dead, ha...   \n",
       "2  A cryptic message from Bond’s past sends him o...   \n",
       "3  Following the death of District Attorney Harve...   \n",
       "4  John Carter is a war-weary, former military ca...   \n",
       "\n",
       "                                          genres  \\\n",
       "0  [Action, Adventure, Fantasy, Science Fiction]   \n",
       "1                   [Adventure, Fantasy, Action]   \n",
       "2                     [Action, Adventure, Crime]   \n",
       "3               [Action, Crime, Drama, Thriller]   \n",
       "4           [Action, Adventure, Science Fiction]   \n",
       "\n",
       "                                            keywords  \\\n",
       "0  [culture clash, future, space war, space colon...   \n",
       "1  [ocean, drug abuse, exotic island, east india ...   \n",
       "2  [spy, based on novel, secret agent, sequel, mi...   \n",
       "3  [dc comics, crime fighter, terrorist, secret i...   \n",
       "4  [based on novel, mars, medallion, space travel...   \n",
       "\n",
       "                                                cast  \\\n",
       "0  [{\"cast_id\": 242, \"character\": \"Jake Sully\", \"...   \n",
       "1  [{\"cast_id\": 4, \"character\": \"Captain Jack Spa...   \n",
       "2  [{\"cast_id\": 1, \"character\": \"James Bond\", \"cr...   \n",
       "3  [{\"cast_id\": 2, \"character\": \"Bruce Wayne / Ba...   \n",
       "4  [{\"cast_id\": 5, \"character\": \"John Carter\", \"c...   \n",
       "\n",
       "                                                crew  \n",
       "0  [{\"credit_id\": \"52fe48009251416c750aca23\", \"de...  \n",
       "1  [{\"credit_id\": \"52fe4232c3a36847f800b579\", \"de...  \n",
       "2  [{\"credit_id\": \"54805967c3a36829b5002c41\", \"de...  \n",
       "3  [{\"credit_id\": \"52fe4781c3a36847f81398c3\", \"de...  \n",
       "4  [{\"credit_id\": \"52fe479ac3a36847f813eaa3\", \"de...  "
      ]
     },
     "execution_count": 23,
     "metadata": {},
     "output_type": "execute_result"
    }
   ],
   "source": [
    "movies['keywords']=movies['keywords'].apply(convert)\n",
    "movies.head()"
   ]
  },
  {
   "cell_type": "code",
   "execution_count": 24,
   "id": "c4abdba5",
   "metadata": {
    "execution": {
     "iopub.execute_input": "2023-01-27T15:21:59.542174Z",
     "iopub.status.busy": "2023-01-27T15:21:59.541356Z",
     "iopub.status.idle": "2023-01-27T15:21:59.550009Z",
     "shell.execute_reply": "2023-01-27T15:21:59.548861Z"
    },
    "papermill": {
     "duration": 0.032346,
     "end_time": "2023-01-27T15:21:59.552661",
     "exception": false,
     "start_time": "2023-01-27T15:21:59.520315",
     "status": "completed"
    },
    "tags": []
   },
   "outputs": [
    {
     "data": {
      "text/plain": [
       "'[{\"cast_id\": 242, \"character\": \"Jake Sully\", \"credit_id\": \"5602a8a7c3a3685532001c9a\", \"gender\": 2, \"id\": 65731, \"name\": \"Sam Worthington\", \"order\": 0}, {\"cast_id\": 3, \"character\": \"Neytiri\", \"credit_id\": \"52fe48009251416c750ac9cb\", \"gender\": 1, \"id\": 8691, \"name\": \"Zoe Saldana\", \"order\": 1}, {\"cast_id\": 25, \"character\": \"Dr. Grace Augustine\", \"credit_id\": \"52fe48009251416c750aca39\", \"gender\": 1, \"id\": 10205, \"name\": \"Sigourney Weaver\", \"order\": 2}, {\"cast_id\": 4, \"character\": \"Col. Quaritch\", \"credit_id\": \"52fe48009251416c750ac9cf\", \"gender\": 2, \"id\": 32747, \"name\": \"Stephen Lang\", \"order\": 3}, {\"cast_id\": 5, \"character\": \"Trudy Chacon\", \"credit_id\": \"52fe48009251416c750ac9d3\", \"gender\": 1, \"id\": 17647, \"name\": \"Michelle Rodriguez\", \"order\": 4}, {\"cast_id\": 8, \"character\": \"Selfridge\", \"credit_id\": \"52fe48009251416c750ac9e1\", \"gender\": 2, \"id\": 1771, \"name\": \"Giovanni Ribisi\", \"order\": 5}, {\"cast_id\": 7, \"character\": \"Norm Spellman\", \"credit_id\": \"52fe48009251416c750ac9dd\", \"gender\": 2, \"id\": 59231, \"name\": \"Joel David Moore\", \"order\": 6}, {\"cast_id\": 9, \"character\": \"Moat\", \"credit_id\": \"52fe48009251416c750ac9e5\", \"gender\": 1, \"id\": 30485, \"name\": \"CCH Pounder\", \"order\": 7}, {\"cast_id\": 11, \"character\": \"Eytukan\", \"credit_id\": \"52fe48009251416c750ac9ed\", \"gender\": 2, \"id\": 15853, \"name\": \"Wes Studi\", \"order\": 8}, {\"cast_id\": 10, \"character\": \"Tsu\\'Tey\", \"credit_id\": \"52fe48009251416c750ac9e9\", \"gender\": 2, \"id\": 10964, \"name\": \"Laz Alonso\", \"order\": 9}, {\"cast_id\": 12, \"character\": \"Dr. Max Patel\", \"credit_id\": \"52fe48009251416c750ac9f1\", \"gender\": 2, \"id\": 95697, \"name\": \"Dileep Rao\", \"order\": 10}, {\"cast_id\": 13, \"character\": \"Lyle Wainfleet\", \"credit_id\": \"52fe48009251416c750ac9f5\", \"gender\": 2, \"id\": 98215, \"name\": \"Matt Gerald\", \"order\": 11}, {\"cast_id\": 32, \"character\": \"Private Fike\", \"credit_id\": \"52fe48009251416c750aca5b\", \"gender\": 2, \"id\": 154153, \"name\": \"Sean Anthony Moran\", \"order\": 12}, {\"cast_id\": 33, \"character\": \"Cryo Vault Med Tech\", \"credit_id\": \"52fe48009251416c750aca5f\", \"gender\": 2, \"id\": 397312, \"name\": \"Jason Whyte\", \"order\": 13}, {\"cast_id\": 34, \"character\": \"Venture Star Crew Chief\", \"credit_id\": \"52fe48009251416c750aca63\", \"gender\": 2, \"id\": 42317, \"name\": \"Scott Lawrence\", \"order\": 14}, {\"cast_id\": 35, \"character\": \"Lock Up Trooper\", \"credit_id\": \"52fe48009251416c750aca67\", \"gender\": 2, \"id\": 986734, \"name\": \"Kelly Kilgour\", \"order\": 15}, {\"cast_id\": 36, \"character\": \"Shuttle Pilot\", \"credit_id\": \"52fe48009251416c750aca6b\", \"gender\": 0, \"id\": 1207227, \"name\": \"James Patrick Pitt\", \"order\": 16}, {\"cast_id\": 37, \"character\": \"Shuttle Co-Pilot\", \"credit_id\": \"52fe48009251416c750aca6f\", \"gender\": 0, \"id\": 1180936, \"name\": \"Sean Patrick Murphy\", \"order\": 17}, {\"cast_id\": 38, \"character\": \"Shuttle Crew Chief\", \"credit_id\": \"52fe48009251416c750aca73\", \"gender\": 2, \"id\": 1019578, \"name\": \"Peter Dillon\", \"order\": 18}, {\"cast_id\": 39, \"character\": \"Tractor Operator / Troupe\", \"credit_id\": \"52fe48009251416c750aca77\", \"gender\": 0, \"id\": 91443, \"name\": \"Kevin Dorman\", \"order\": 19}, {\"cast_id\": 40, \"character\": \"Dragon Gunship Pilot\", \"credit_id\": \"52fe48009251416c750aca7b\", \"gender\": 2, \"id\": 173391, \"name\": \"Kelson Henderson\", \"order\": 20}, {\"cast_id\": 41, \"character\": \"Dragon Gunship Gunner\", \"credit_id\": \"52fe48009251416c750aca7f\", \"gender\": 0, \"id\": 1207236, \"name\": \"David Van Horn\", \"order\": 21}, {\"cast_id\": 42, \"character\": \"Dragon Gunship Navigator\", \"credit_id\": \"52fe48009251416c750aca83\", \"gender\": 0, \"id\": 215913, \"name\": \"Jacob Tomuri\", \"order\": 22}, {\"cast_id\": 43, \"character\": \"Suit #1\", \"credit_id\": \"52fe48009251416c750aca87\", \"gender\": 0, \"id\": 143206, \"name\": \"Michael Blain-Rozgay\", \"order\": 23}, {\"cast_id\": 44, \"character\": \"Suit #2\", \"credit_id\": \"52fe48009251416c750aca8b\", \"gender\": 2, \"id\": 169676, \"name\": \"Jon Curry\", \"order\": 24}, {\"cast_id\": 46, \"character\": \"Ambient Room Tech\", \"credit_id\": \"52fe48009251416c750aca8f\", \"gender\": 0, \"id\": 1048610, \"name\": \"Luke Hawker\", \"order\": 25}, {\"cast_id\": 47, \"character\": \"Ambient Room Tech / Troupe\", \"credit_id\": \"52fe48009251416c750aca93\", \"gender\": 0, \"id\": 42288, \"name\": \"Woody Schultz\", \"order\": 26}, {\"cast_id\": 48, \"character\": \"Horse Clan Leader\", \"credit_id\": \"52fe48009251416c750aca97\", \"gender\": 2, \"id\": 68278, \"name\": \"Peter Mensah\", \"order\": 27}, {\"cast_id\": 49, \"character\": \"Link Room Tech\", \"credit_id\": \"52fe48009251416c750aca9b\", \"gender\": 0, \"id\": 1207247, \"name\": \"Sonia Yee\", \"order\": 28}, {\"cast_id\": 50, \"character\": \"Basketball Avatar / Troupe\", \"credit_id\": \"52fe48009251416c750aca9f\", \"gender\": 1, \"id\": 1207248, \"name\": \"Jahnel Curfman\", \"order\": 29}, {\"cast_id\": 51, \"character\": \"Basketball Avatar\", \"credit_id\": \"52fe48009251416c750acaa3\", \"gender\": 0, \"id\": 89714, \"name\": \"Ilram Choi\", \"order\": 30}, {\"cast_id\": 52, \"character\": \"Na\\'vi Child\", \"credit_id\": \"52fe48009251416c750acaa7\", \"gender\": 0, \"id\": 1207249, \"name\": \"Kyla Warren\", \"order\": 31}, {\"cast_id\": 53, \"character\": \"Troupe\", \"credit_id\": \"52fe48009251416c750acaab\", \"gender\": 0, \"id\": 1207250, \"name\": \"Lisa Roumain\", \"order\": 32}, {\"cast_id\": 54, \"character\": \"Troupe\", \"credit_id\": \"52fe48009251416c750acaaf\", \"gender\": 1, \"id\": 83105, \"name\": \"Debra Wilson\", \"order\": 33}, {\"cast_id\": 57, \"character\": \"Troupe\", \"credit_id\": \"52fe48009251416c750acabb\", \"gender\": 0, \"id\": 1207253, \"name\": \"Chris Mala\", \"order\": 34}, {\"cast_id\": 55, \"character\": \"Troupe\", \"credit_id\": \"52fe48009251416c750acab3\", \"gender\": 0, \"id\": 1207251, \"name\": \"Taylor Kibby\", \"order\": 35}, {\"cast_id\": 56, \"character\": \"Troupe\", \"credit_id\": \"52fe48009251416c750acab7\", \"gender\": 0, \"id\": 1207252, \"name\": \"Jodie Landau\", \"order\": 36}, {\"cast_id\": 58, \"character\": \"Troupe\", \"credit_id\": \"52fe48009251416c750acabf\", \"gender\": 0, \"id\": 1207254, \"name\": \"Julie Lamm\", \"order\": 37}, {\"cast_id\": 59, \"character\": \"Troupe\", \"credit_id\": \"52fe48009251416c750acac3\", \"gender\": 0, \"id\": 1207257, \"name\": \"Cullen B. Madden\", \"order\": 38}, {\"cast_id\": 60, \"character\": \"Troupe\", \"credit_id\": \"52fe48009251416c750acac7\", \"gender\": 0, \"id\": 1207259, \"name\": \"Joseph Brady Madden\", \"order\": 39}, {\"cast_id\": 61, \"character\": \"Troupe\", \"credit_id\": \"52fe48009251416c750acacb\", \"gender\": 0, \"id\": 1207262, \"name\": \"Frankie Torres\", \"order\": 40}, {\"cast_id\": 62, \"character\": \"Troupe\", \"credit_id\": \"52fe48009251416c750acacf\", \"gender\": 1, \"id\": 1158600, \"name\": \"Austin Wilson\", \"order\": 41}, {\"cast_id\": 63, \"character\": \"Troupe\", \"credit_id\": \"52fe48019251416c750acad3\", \"gender\": 1, \"id\": 983705, \"name\": \"Sara Wilson\", \"order\": 42}, {\"cast_id\": 64, \"character\": \"Troupe\", \"credit_id\": \"52fe48019251416c750acad7\", \"gender\": 0, \"id\": 1207263, \"name\": \"Tamica Washington-Miller\", \"order\": 43}, {\"cast_id\": 65, \"character\": \"Op Center Staff\", \"credit_id\": \"52fe48019251416c750acadb\", \"gender\": 1, \"id\": 1145098, \"name\": \"Lucy Briant\", \"order\": 44}, {\"cast_id\": 66, \"character\": \"Op Center Staff\", \"credit_id\": \"52fe48019251416c750acadf\", \"gender\": 2, \"id\": 33305, \"name\": \"Nathan Meister\", \"order\": 45}, {\"cast_id\": 67, \"character\": \"Op Center Staff\", \"credit_id\": \"52fe48019251416c750acae3\", \"gender\": 0, \"id\": 1207264, \"name\": \"Gerry Blair\", \"order\": 46}, {\"cast_id\": 68, \"character\": \"Op Center Staff\", \"credit_id\": \"52fe48019251416c750acae7\", \"gender\": 2, \"id\": 33311, \"name\": \"Matthew Chamberlain\", \"order\": 47}, {\"cast_id\": 69, \"character\": \"Op Center Staff\", \"credit_id\": \"52fe48019251416c750acaeb\", \"gender\": 0, \"id\": 1207265, \"name\": \"Paul Yates\", \"order\": 48}, {\"cast_id\": 70, \"character\": \"Op Center Duty Officer\", \"credit_id\": \"52fe48019251416c750acaef\", \"gender\": 0, \"id\": 1207266, \"name\": \"Wray Wilson\", \"order\": 49}, {\"cast_id\": 71, \"character\": \"Op Center Staff\", \"credit_id\": \"52fe48019251416c750acaf3\", \"gender\": 2, \"id\": 54492, \"name\": \"James Gaylyn\", \"order\": 50}, {\"cast_id\": 72, \"character\": \"Dancer\", \"credit_id\": \"52fe48019251416c750acaf7\", \"gender\": 0, \"id\": 1207267, \"name\": \"Melvin Leno Clark III\", \"order\": 51}, {\"cast_id\": 73, \"character\": \"Dancer\", \"credit_id\": \"52fe48019251416c750acafb\", \"gender\": 0, \"id\": 1207268, \"name\": \"Carvon Futrell\", \"order\": 52}, {\"cast_id\": 74, \"character\": \"Dancer\", \"credit_id\": \"52fe48019251416c750acaff\", \"gender\": 0, \"id\": 1207269, \"name\": \"Brandon Jelkes\", \"order\": 53}, {\"cast_id\": 75, \"character\": \"Dancer\", \"credit_id\": \"52fe48019251416c750acb03\", \"gender\": 0, \"id\": 1207270, \"name\": \"Micah Moch\", \"order\": 54}, {\"cast_id\": 76, \"character\": \"Dancer\", \"credit_id\": \"52fe48019251416c750acb07\", \"gender\": 0, \"id\": 1207271, \"name\": \"Hanniyah Muhammad\", \"order\": 55}, {\"cast_id\": 77, \"character\": \"Dancer\", \"credit_id\": \"52fe48019251416c750acb0b\", \"gender\": 0, \"id\": 1207272, \"name\": \"Christopher Nolen\", \"order\": 56}, {\"cast_id\": 78, \"character\": \"Dancer\", \"credit_id\": \"52fe48019251416c750acb0f\", \"gender\": 0, \"id\": 1207273, \"name\": \"Christa Oliver\", \"order\": 57}, {\"cast_id\": 79, \"character\": \"Dancer\", \"credit_id\": \"52fe48019251416c750acb13\", \"gender\": 0, \"id\": 1207274, \"name\": \"April Marie Thomas\", \"order\": 58}, {\"cast_id\": 80, \"character\": \"Dancer\", \"credit_id\": \"52fe48019251416c750acb17\", \"gender\": 0, \"id\": 1207275, \"name\": \"Bravita A. Threatt\", \"order\": 59}, {\"cast_id\": 81, \"character\": \"Mining Chief (uncredited)\", \"credit_id\": \"52fe48019251416c750acb1b\", \"gender\": 0, \"id\": 1207276, \"name\": \"Colin Bleasdale\", \"order\": 60}, {\"cast_id\": 82, \"character\": \"Veteran Miner (uncredited)\", \"credit_id\": \"52fe48019251416c750acb1f\", \"gender\": 0, \"id\": 107969, \"name\": \"Mike Bodnar\", \"order\": 61}, {\"cast_id\": 83, \"character\": \"Richard (uncredited)\", \"credit_id\": \"52fe48019251416c750acb23\", \"gender\": 0, \"id\": 1207278, \"name\": \"Matt Clayton\", \"order\": 62}, {\"cast_id\": 84, \"character\": \"Nav\\'i (uncredited)\", \"credit_id\": \"52fe48019251416c750acb27\", \"gender\": 1, \"id\": 147898, \"name\": \"Nicole Dionne\", \"order\": 63}, {\"cast_id\": 85, \"character\": \"Trooper (uncredited)\", \"credit_id\": \"52fe48019251416c750acb2b\", \"gender\": 0, \"id\": 1207280, \"name\": \"Jamie Harrison\", \"order\": 64}, {\"cast_id\": 86, \"character\": \"Trooper (uncredited)\", \"credit_id\": \"52fe48019251416c750acb2f\", \"gender\": 0, \"id\": 1207281, \"name\": \"Allan Henry\", \"order\": 65}, {\"cast_id\": 87, \"character\": \"Ground Technician (uncredited)\", \"credit_id\": \"52fe48019251416c750acb33\", \"gender\": 2, \"id\": 1207282, \"name\": \"Anthony Ingruber\", \"order\": 66}, {\"cast_id\": 88, \"character\": \"Flight Crew Mechanic (uncredited)\", \"credit_id\": \"52fe48019251416c750acb37\", \"gender\": 0, \"id\": 1207283, \"name\": \"Ashley Jeffery\", \"order\": 67}, {\"cast_id\": 14, \"character\": \"Samson Pilot\", \"credit_id\": \"52fe48009251416c750ac9f9\", \"gender\": 0, \"id\": 98216, \"name\": \"Dean Knowsley\", \"order\": 68}, {\"cast_id\": 89, \"character\": \"Trooper (uncredited)\", \"credit_id\": \"52fe48019251416c750acb3b\", \"gender\": 0, \"id\": 1201399, \"name\": \"Joseph Mika-Hunt\", \"order\": 69}, {\"cast_id\": 90, \"character\": \"Banshee (uncredited)\", \"credit_id\": \"52fe48019251416c750acb3f\", \"gender\": 0, \"id\": 236696, \"name\": \"Terry Notary\", \"order\": 70}, {\"cast_id\": 91, \"character\": \"Soldier (uncredited)\", \"credit_id\": \"52fe48019251416c750acb43\", \"gender\": 0, \"id\": 1207287, \"name\": \"Kai Pantano\", \"order\": 71}, {\"cast_id\": 92, \"character\": \"Blast Technician (uncredited)\", \"credit_id\": \"52fe48019251416c750acb47\", \"gender\": 0, \"id\": 1207288, \"name\": \"Logan Pithyou\", \"order\": 72}, {\"cast_id\": 93, \"character\": \"Vindum Raah (uncredited)\", \"credit_id\": \"52fe48019251416c750acb4b\", \"gender\": 0, \"id\": 1207289, \"name\": \"Stuart Pollock\", \"order\": 73}, {\"cast_id\": 94, \"character\": \"Hero (uncredited)\", \"credit_id\": \"52fe48019251416c750acb4f\", \"gender\": 0, \"id\": 584868, \"name\": \"Raja\", \"order\": 74}, {\"cast_id\": 95, \"character\": \"Ops Centreworker (uncredited)\", \"credit_id\": \"52fe48019251416c750acb53\", \"gender\": 0, \"id\": 1207290, \"name\": \"Gareth Ruck\", \"order\": 75}, {\"cast_id\": 96, \"character\": \"Engineer (uncredited)\", \"credit_id\": \"52fe48019251416c750acb57\", \"gender\": 0, \"id\": 1062463, \"name\": \"Rhian Sheehan\", \"order\": 76}, {\"cast_id\": 97, \"character\": \"Col. Quaritch\\'s Mech Suit (uncredited)\", \"credit_id\": \"52fe48019251416c750acb5b\", \"gender\": 0, \"id\": 60656, \"name\": \"T. J. Storm\", \"order\": 77}, {\"cast_id\": 98, \"character\": \"Female Marine (uncredited)\", \"credit_id\": \"52fe48019251416c750acb5f\", \"gender\": 0, \"id\": 1207291, \"name\": \"Jodie Taylor\", \"order\": 78}, {\"cast_id\": 99, \"character\": \"Ikran Clan Leader (uncredited)\", \"credit_id\": \"52fe48019251416c750acb63\", \"gender\": 1, \"id\": 1186027, \"name\": \"Alicia Vela-Bailey\", \"order\": 79}, {\"cast_id\": 100, \"character\": \"Geologist (uncredited)\", \"credit_id\": \"52fe48019251416c750acb67\", \"gender\": 0, \"id\": 1207292, \"name\": \"Richard Whiteside\", \"order\": 80}, {\"cast_id\": 101, \"character\": \"Na\\'vi (uncredited)\", \"credit_id\": \"52fe48019251416c750acb6b\", \"gender\": 0, \"id\": 103259, \"name\": \"Nikie Zambo\", \"order\": 81}, {\"cast_id\": 102, \"character\": \"Ambient Room Tech / Troupe\", \"credit_id\": \"52fe48019251416c750acb6f\", \"gender\": 1, \"id\": 42286, \"name\": \"Julene Renee\", \"order\": 82}]'"
      ]
     },
     "execution_count": 24,
     "metadata": {},
     "output_type": "execute_result"
    }
   ],
   "source": [
    "# Handle Convert Cast\n",
    "movies.iloc[0]['cast']"
   ]
  },
  {
   "cell_type": "code",
   "execution_count": 25,
   "id": "46349bd4",
   "metadata": {
    "execution": {
     "iopub.execute_input": "2023-01-27T15:21:59.593547Z",
     "iopub.status.busy": "2023-01-27T15:21:59.592609Z",
     "iopub.status.idle": "2023-01-27T15:21:59.600904Z",
     "shell.execute_reply": "2023-01-27T15:21:59.599539Z"
    },
    "papermill": {
     "duration": 0.031493,
     "end_time": "2023-01-27T15:21:59.603636",
     "exception": false,
     "start_time": "2023-01-27T15:21:59.572143",
     "status": "completed"
    },
    "tags": []
   },
   "outputs": [
    {
     "data": {
      "text/plain": [
       "'[{\"credit_id\": \"52fe48009251416c750aca23\", \"department\": \"Editing\", \"gender\": 0, \"id\": 1721, \"job\": \"Editor\", \"name\": \"Stephen E. Rivkin\"}, {\"credit_id\": \"539c47ecc3a36810e3001f87\", \"department\": \"Art\", \"gender\": 2, \"id\": 496, \"job\": \"Production Design\", \"name\": \"Rick Carter\"}, {\"credit_id\": \"54491c89c3a3680fb4001cf7\", \"department\": \"Sound\", \"gender\": 0, \"id\": 900, \"job\": \"Sound Designer\", \"name\": \"Christopher Boyes\"}, {\"credit_id\": \"54491cb70e0a267480001bd0\", \"department\": \"Sound\", \"gender\": 0, \"id\": 900, \"job\": \"Supervising Sound Editor\", \"name\": \"Christopher Boyes\"}, {\"credit_id\": \"539c4a4cc3a36810c9002101\", \"department\": \"Production\", \"gender\": 1, \"id\": 1262, \"job\": \"Casting\", \"name\": \"Mali Finn\"}, {\"credit_id\": \"5544ee3b925141499f0008fc\", \"department\": \"Sound\", \"gender\": 2, \"id\": 1729, \"job\": \"Original Music Composer\", \"name\": \"James Horner\"}, {\"credit_id\": \"52fe48009251416c750ac9c3\", \"department\": \"Directing\", \"gender\": 2, \"id\": 2710, \"job\": \"Director\", \"name\": \"James Cameron\"}, {\"credit_id\": \"52fe48009251416c750ac9d9\", \"department\": \"Writing\", \"gender\": 2, \"id\": 2710, \"job\": \"Writer\", \"name\": \"James Cameron\"}, {\"credit_id\": \"52fe48009251416c750aca17\", \"department\": \"Editing\", \"gender\": 2, \"id\": 2710, \"job\": \"Editor\", \"name\": \"James Cameron\"}, {\"credit_id\": \"52fe48009251416c750aca29\", \"department\": \"Production\", \"gender\": 2, \"id\": 2710, \"job\": \"Producer\", \"name\": \"James Cameron\"}, {\"credit_id\": \"52fe48009251416c750aca3f\", \"department\": \"Writing\", \"gender\": 2, \"id\": 2710, \"job\": \"Screenplay\", \"name\": \"James Cameron\"}, {\"credit_id\": \"539c4987c3a36810ba0021a4\", \"department\": \"Art\", \"gender\": 2, \"id\": 7236, \"job\": \"Art Direction\", \"name\": \"Andrew Menzies\"}, {\"credit_id\": \"549598c3c3a3686ae9004383\", \"department\": \"Visual Effects\", \"gender\": 0, \"id\": 6690, \"job\": \"Visual Effects Producer\", \"name\": \"Jill Brooks\"}, {\"credit_id\": \"52fe48009251416c750aca4b\", \"department\": \"Production\", \"gender\": 1, \"id\": 6347, \"job\": \"Casting\", \"name\": \"Margery Simkin\"}, {\"credit_id\": \"570b6f419251417da70032fe\", \"department\": \"Art\", \"gender\": 2, \"id\": 6878, \"job\": \"Supervising Art Director\", \"name\": \"Kevin Ishioka\"}, {\"credit_id\": \"5495a0fac3a3686ae9004468\", \"department\": \"Sound\", \"gender\": 0, \"id\": 6883, \"job\": \"Music Editor\", \"name\": \"Dick Bernstein\"}, {\"credit_id\": \"54959706c3a3686af3003e81\", \"department\": \"Sound\", \"gender\": 0, \"id\": 8159, \"job\": \"Sound Effects Editor\", \"name\": \"Shannon Mills\"}, {\"credit_id\": \"54491d58c3a3680fb1001ccb\", \"department\": \"Sound\", \"gender\": 0, \"id\": 8160, \"job\": \"Foley\", \"name\": \"Dennie Thorpe\"}, {\"credit_id\": \"54491d6cc3a3680fa5001b2c\", \"department\": \"Sound\", \"gender\": 0, \"id\": 8163, \"job\": \"Foley\", \"name\": \"Jana Vance\"}, {\"credit_id\": \"52fe48009251416c750aca57\", \"department\": \"Costume & Make-Up\", \"gender\": 1, \"id\": 8527, \"job\": \"Costume Design\", \"name\": \"Deborah Lynn Scott\"}, {\"credit_id\": \"52fe48009251416c750aca2f\", \"department\": \"Production\", \"gender\": 2, \"id\": 8529, \"job\": \"Producer\", \"name\": \"Jon Landau\"}, {\"credit_id\": \"539c4937c3a36810ba002194\", \"department\": \"Art\", \"gender\": 0, \"id\": 9618, \"job\": \"Art Direction\", \"name\": \"Sean Haworth\"}, {\"credit_id\": \"539c49b6c3a36810c10020e6\", \"department\": \"Art\", \"gender\": 1, \"id\": 12653, \"job\": \"Set Decoration\", \"name\": \"Kim Sinclair\"}, {\"credit_id\": \"570b6f2f9251413a0e00020d\", \"department\": \"Art\", \"gender\": 1, \"id\": 12653, \"job\": \"Supervising Art Director\", \"name\": \"Kim Sinclair\"}, {\"credit_id\": \"54491a6c0e0a26748c001b19\", \"department\": \"Art\", \"gender\": 2, \"id\": 14350, \"job\": \"Set Designer\", \"name\": \"Richard F. Mays\"}, {\"credit_id\": \"56928cf4c3a3684cff0025c4\", \"department\": \"Production\", \"gender\": 1, \"id\": 20294, \"job\": \"Executive Producer\", \"name\": \"Laeta Kalogridis\"}, {\"credit_id\": \"52fe48009251416c750aca51\", \"department\": \"Costume & Make-Up\", \"gender\": 0, \"id\": 17675, \"job\": \"Costume Design\", \"name\": \"Mayes C. Rubeo\"}, {\"credit_id\": \"52fe48009251416c750aca11\", \"department\": \"Camera\", \"gender\": 2, \"id\": 18265, \"job\": \"Director of Photography\", \"name\": \"Mauro Fiore\"}, {\"credit_id\": \"5449194d0e0a26748f001b39\", \"department\": \"Art\", \"gender\": 0, \"id\": 42281, \"job\": \"Set Designer\", \"name\": \"Scott Herbertson\"}, {\"credit_id\": \"52fe48009251416c750aca05\", \"department\": \"Crew\", \"gender\": 0, \"id\": 42288, \"job\": \"Stunts\", \"name\": \"Woody Schultz\"}, {\"credit_id\": \"5592aefb92514152de0010f5\", \"department\": \"Costume & Make-Up\", \"gender\": 0, \"id\": 29067, \"job\": \"Makeup Artist\", \"name\": \"Linda DeVetta\"}, {\"credit_id\": \"5592afa492514152de00112c\", \"department\": \"Costume & Make-Up\", \"gender\": 0, \"id\": 29067, \"job\": \"Hairstylist\", \"name\": \"Linda DeVetta\"}, {\"credit_id\": \"54959ed592514130fc002e5d\", \"department\": \"Camera\", \"gender\": 2, \"id\": 33302, \"job\": \"Camera Operator\", \"name\": \"Richard Bluck\"}, {\"credit_id\": \"539c4891c3a36810ba002147\", \"department\": \"Art\", \"gender\": 2, \"id\": 33303, \"job\": \"Art Direction\", \"name\": \"Simon Bright\"}, {\"credit_id\": \"54959c069251417a81001f3a\", \"department\": \"Visual Effects\", \"gender\": 0, \"id\": 113145, \"job\": \"Visual Effects Supervisor\", \"name\": \"Richard Martin\"}, {\"credit_id\": \"54959a0dc3a3680ff5002c8d\", \"department\": \"Crew\", \"gender\": 2, \"id\": 58188, \"job\": \"Visual Effects Editor\", \"name\": \"Steve R. Moore\"}, {\"credit_id\": \"52fe48009251416c750aca1d\", \"department\": \"Editing\", \"gender\": 2, \"id\": 58871, \"job\": \"Editor\", \"name\": \"John Refoua\"}, {\"credit_id\": \"54491a4dc3a3680fc30018ca\", \"department\": \"Art\", \"gender\": 0, \"id\": 92359, \"job\": \"Set Designer\", \"name\": \"Karl J. Martin\"}, {\"credit_id\": \"52fe48009251416c750aca35\", \"department\": \"Camera\", \"gender\": 1, \"id\": 72201, \"job\": \"Director of Photography\", \"name\": \"Chiling Lin\"}, {\"credit_id\": \"52fe48009251416c750ac9ff\", \"department\": \"Crew\", \"gender\": 0, \"id\": 89714, \"job\": \"Stunts\", \"name\": \"Ilram Choi\"}, {\"credit_id\": \"54959c529251416e2b004394\", \"department\": \"Visual Effects\", \"gender\": 2, \"id\": 93214, \"job\": \"Visual Effects Supervisor\", \"name\": \"Steven Quale\"}, {\"credit_id\": \"54491edf0e0a267489001c37\", \"department\": \"Crew\", \"gender\": 1, \"id\": 122607, \"job\": \"Dialect Coach\", \"name\": \"Carla Meyer\"}, {\"credit_id\": \"539c485bc3a368653d001a3a\", \"department\": \"Art\", \"gender\": 2, \"id\": 132585, \"job\": \"Art Direction\", \"name\": \"Nick Bassett\"}, {\"credit_id\": \"539c4903c3a368653d001a74\", \"department\": \"Art\", \"gender\": 0, \"id\": 132596, \"job\": \"Art Direction\", \"name\": \"Jill Cormack\"}, {\"credit_id\": \"539c4967c3a368653d001a94\", \"department\": \"Art\", \"gender\": 0, \"id\": 132604, \"job\": \"Art Direction\", \"name\": \"Andy McLaren\"}, {\"credit_id\": \"52fe48009251416c750aca45\", \"department\": \"Crew\", \"gender\": 0, \"id\": 236696, \"job\": \"Motion Capture Artist\", \"name\": \"Terry Notary\"}, {\"credit_id\": \"54959e02c3a3680fc60027d2\", \"department\": \"Crew\", \"gender\": 2, \"id\": 956198, \"job\": \"Stunt Coordinator\", \"name\": \"Garrett Warren\"}, {\"credit_id\": \"54959ca3c3a3686ae300438c\", \"department\": \"Visual Effects\", \"gender\": 2, \"id\": 957874, \"job\": \"Visual Effects Supervisor\", \"name\": \"Jonathan Rothbart\"}, {\"credit_id\": \"570b6f519251412c74001b2f\", \"department\": \"Art\", \"gender\": 0, \"id\": 957889, \"job\": \"Supervising Art Director\", \"name\": \"Stefan Dechant\"}, {\"credit_id\": \"570b6f62c3a3680b77007460\", \"department\": \"Art\", \"gender\": 2, \"id\": 959555, \"job\": \"Supervising Art Director\", \"name\": \"Todd Cherniawsky\"}, {\"credit_id\": \"539c4a3ac3a36810da0021cc\", \"department\": \"Production\", \"gender\": 0, \"id\": 1016177, \"job\": \"Casting\", \"name\": \"Miranda Rivers\"}, {\"credit_id\": \"539c482cc3a36810c1002062\", \"department\": \"Art\", \"gender\": 0, \"id\": 1032536, \"job\": \"Production Design\", \"name\": \"Robert Stromberg\"}, {\"credit_id\": \"539c4b65c3a36810c9002125\", \"department\": \"Costume & Make-Up\", \"gender\": 2, \"id\": 1071680, \"job\": \"Costume Design\", \"name\": \"John Harding\"}, {\"credit_id\": \"54959e6692514130fc002e4e\", \"department\": \"Camera\", \"gender\": 0, \"id\": 1177364, \"job\": \"Steadicam Operator\", \"name\": \"Roberto De Angelis\"}, {\"credit_id\": \"539c49f1c3a368653d001aac\", \"department\": \"Costume & Make-Up\", \"gender\": 2, \"id\": 1202850, \"job\": \"Makeup Department Head\", \"name\": \"Mike Smithson\"}, {\"credit_id\": \"5495999ec3a3686ae100460c\", \"department\": \"Visual Effects\", \"gender\": 0, \"id\": 1204668, \"job\": \"Visual Effects Producer\", \"name\": \"Alain Lalanne\"}, {\"credit_id\": \"54959cdfc3a3681153002729\", \"department\": \"Visual Effects\", \"gender\": 0, \"id\": 1206410, \"job\": \"Visual Effects Supervisor\", \"name\": \"Lucas Salton\"}, {\"credit_id\": \"549596239251417a81001eae\", \"department\": \"Crew\", \"gender\": 0, \"id\": 1234266, \"job\": \"Post Production Supervisor\", \"name\": \"Janace Tashjian\"}, {\"credit_id\": \"54959c859251416e1e003efe\", \"department\": \"Visual Effects\", \"gender\": 0, \"id\": 1271932, \"job\": \"Visual Effects Supervisor\", \"name\": \"Stephen Rosenbaum\"}, {\"credit_id\": \"5592af28c3a368775a00105f\", \"department\": \"Costume & Make-Up\", \"gender\": 0, \"id\": 1310064, \"job\": \"Makeup Artist\", \"name\": \"Frankie Karena\"}, {\"credit_id\": \"539c4adfc3a36810e300203b\", \"department\": \"Costume & Make-Up\", \"gender\": 1, \"id\": 1319844, \"job\": \"Costume Supervisor\", \"name\": \"Lisa Lovaas\"}, {\"credit_id\": \"54959b579251416e2b004371\", \"department\": \"Visual Effects\", \"gender\": 0, \"id\": 1327028, \"job\": \"Visual Effects Supervisor\", \"name\": \"Jonathan Fawkner\"}, {\"credit_id\": \"539c48a7c3a36810b5001fa7\", \"department\": \"Art\", \"gender\": 0, \"id\": 1330561, \"job\": \"Art Direction\", \"name\": \"Robert Bavin\"}, {\"credit_id\": \"539c4a71c3a36810da0021e0\", \"department\": \"Costume & Make-Up\", \"gender\": 0, \"id\": 1330567, \"job\": \"Costume Supervisor\", \"name\": \"Anthony Almaraz\"}, {\"credit_id\": \"539c4a8ac3a36810ba0021e4\", \"department\": \"Costume & Make-Up\", \"gender\": 0, \"id\": 1330570, \"job\": \"Costume Supervisor\", \"name\": \"Carolyn M. Fenton\"}, {\"credit_id\": \"539c4ab6c3a36810da0021f0\", \"department\": \"Costume & Make-Up\", \"gender\": 0, \"id\": 1330574, \"job\": \"Costume Supervisor\", \"name\": \"Beth Koenigsberg\"}, {\"credit_id\": \"54491ab70e0a267480001ba2\", \"department\": \"Art\", \"gender\": 0, \"id\": 1336191, \"job\": \"Set Designer\", \"name\": \"Sam Page\"}, {\"credit_id\": \"544919d9c3a3680fc30018bd\", \"department\": \"Art\", \"gender\": 0, \"id\": 1339441, \"job\": \"Set Designer\", \"name\": \"Tex Kadonaga\"}, {\"credit_id\": \"54491cf50e0a267483001b0c\", \"department\": \"Editing\", \"gender\": 0, \"id\": 1352422, \"job\": \"Dialogue Editor\", \"name\": \"Kim Foscato\"}, {\"credit_id\": \"544919f40e0a26748c001b09\", \"department\": \"Art\", \"gender\": 0, \"id\": 1352962, \"job\": \"Set Designer\", \"name\": \"Tammy S. Lee\"}, {\"credit_id\": \"5495a115c3a3680ff5002d71\", \"department\": \"Crew\", \"gender\": 0, \"id\": 1357070, \"job\": \"Transportation Coordinator\", \"name\": \"Denny Caira\"}, {\"credit_id\": \"5495a12f92514130fc002e94\", \"department\": \"Crew\", \"gender\": 0, \"id\": 1357071, \"job\": \"Transportation Coordinator\", \"name\": \"James Waitkus\"}, {\"credit_id\": \"5495976fc3a36811530026b0\", \"department\": \"Sound\", \"gender\": 0, \"id\": 1360103, \"job\": \"Supervising Sound Editor\", \"name\": \"Addison Teague\"}, {\"credit_id\": \"54491837c3a3680fb1001c5a\", \"department\": \"Art\", \"gender\": 2, \"id\": 1376887, \"job\": \"Set Designer\", \"name\": \"C. Scott Baker\"}, {\"credit_id\": \"54491878c3a3680fb4001c9d\", \"department\": \"Art\", \"gender\": 0, \"id\": 1376888, \"job\": \"Set Designer\", \"name\": \"Luke Caska\"}, {\"credit_id\": \"544918dac3a3680fa5001ae0\", \"department\": \"Art\", \"gender\": 0, \"id\": 1376889, \"job\": \"Set Designer\", \"name\": \"David Chow\"}, {\"credit_id\": \"544919110e0a267486001b68\", \"department\": \"Art\", \"gender\": 0, \"id\": 1376890, \"job\": \"Set Designer\", \"name\": \"Jonathan Dyer\"}, {\"credit_id\": \"54491967c3a3680faa001b5e\", \"department\": \"Art\", \"gender\": 0, \"id\": 1376891, \"job\": \"Set Designer\", \"name\": \"Joseph Hiura\"}, {\"credit_id\": \"54491997c3a3680fb1001c8a\", \"department\": \"Art\", \"gender\": 0, \"id\": 1376892, \"job\": \"Art Department Coordinator\", \"name\": \"Rebecca Jellie\"}, {\"credit_id\": \"544919ba0e0a26748f001b42\", \"department\": \"Art\", \"gender\": 0, \"id\": 1376893, \"job\": \"Set Designer\", \"name\": \"Robert Andrew Johnson\"}, {\"credit_id\": \"54491b1dc3a3680faa001b8c\", \"department\": \"Art\", \"gender\": 0, \"id\": 1376895, \"job\": \"Assistant Art Director\", \"name\": \"Mike Stassi\"}, {\"credit_id\": \"54491b79c3a3680fbb001826\", \"department\": \"Art\", \"gender\": 0, \"id\": 1376897, \"job\": \"Construction Coordinator\", \"name\": \"John Villarino\"}, {\"credit_id\": \"54491baec3a3680fb4001ce6\", \"department\": \"Art\", \"gender\": 2, \"id\": 1376898, \"job\": \"Assistant Art Director\", \"name\": \"Jeffrey Wisniewski\"}, {\"credit_id\": \"54491d2fc3a3680fb4001d07\", \"department\": \"Editing\", \"gender\": 0, \"id\": 1376899, \"job\": \"Dialogue Editor\", \"name\": \"Cheryl Nardi\"}, {\"credit_id\": \"54491d86c3a3680fa5001b2f\", \"department\": \"Editing\", \"gender\": 0, \"id\": 1376901, \"job\": \"Dialogue Editor\", \"name\": \"Marshall Winn\"}, {\"credit_id\": \"54491d9dc3a3680faa001bb0\", \"department\": \"Sound\", \"gender\": 0, \"id\": 1376902, \"job\": \"Supervising Sound Editor\", \"name\": \"Gwendolyn Yates Whittle\"}, {\"credit_id\": \"54491dc10e0a267486001bce\", \"department\": \"Sound\", \"gender\": 0, \"id\": 1376903, \"job\": \"Sound Re-Recording Mixer\", \"name\": \"William Stein\"}, {\"credit_id\": \"54491f500e0a26747c001c07\", \"department\": \"Crew\", \"gender\": 0, \"id\": 1376909, \"job\": \"Choreographer\", \"name\": \"Lula Washington\"}, {\"credit_id\": \"549599239251412c4e002a2e\", \"department\": \"Visual Effects\", \"gender\": 0, \"id\": 1391692, \"job\": \"Visual Effects Producer\", \"name\": \"Chris Del Conte\"}, {\"credit_id\": \"54959d54c3a36831b8001d9a\", \"department\": \"Visual Effects\", \"gender\": 2, \"id\": 1391695, \"job\": \"Visual Effects Supervisor\", \"name\": \"R. Christopher White\"}, {\"credit_id\": \"54959bdf9251412c4e002a66\", \"department\": \"Visual Effects\", \"gender\": 0, \"id\": 1394070, \"job\": \"Visual Effects Supervisor\", \"name\": \"Dan Lemmon\"}, {\"credit_id\": \"5495971d92514132ed002922\", \"department\": \"Sound\", \"gender\": 0, \"id\": 1394129, \"job\": \"Sound Effects Editor\", \"name\": \"Tim Nielsen\"}, {\"credit_id\": \"5592b25792514152cc0011aa\", \"department\": \"Crew\", \"gender\": 0, \"id\": 1394286, \"job\": \"CG Supervisor\", \"name\": \"Michael Mulholland\"}, {\"credit_id\": \"54959a329251416e2b004355\", \"department\": \"Crew\", \"gender\": 0, \"id\": 1394750, \"job\": \"Visual Effects Editor\", \"name\": \"Thomas Nittmann\"}, {\"credit_id\": \"54959d6dc3a3686ae9004401\", \"department\": \"Visual Effects\", \"gender\": 0, \"id\": 1394755, \"job\": \"Visual Effects Supervisor\", \"name\": \"Edson Williams\"}, {\"credit_id\": \"5495a08fc3a3686ae300441c\", \"department\": \"Editing\", \"gender\": 0, \"id\": 1394953, \"job\": \"Digital Intermediate\", \"name\": \"Christine Carr\"}, {\"credit_id\": \"55402d659251413d6d000249\", \"department\": \"Visual Effects\", \"gender\": 0, \"id\": 1395269, \"job\": \"Visual Effects Supervisor\", \"name\": \"John Bruno\"}, {\"credit_id\": \"54959e7b9251416e1e003f3e\", \"department\": \"Camera\", \"gender\": 0, \"id\": 1398970, \"job\": \"Steadicam Operator\", \"name\": \"David Emmerichs\"}, {\"credit_id\": \"54959734c3a3686ae10045e0\", \"department\": \"Sound\", \"gender\": 0, \"id\": 1400906, \"job\": \"Sound Effects Editor\", \"name\": \"Christopher Scarabosio\"}, {\"credit_id\": \"549595dd92514130fc002d79\", \"department\": \"Production\", \"gender\": 0, \"id\": 1401784, \"job\": \"Production Supervisor\", \"name\": \"Jennifer Teves\"}, {\"credit_id\": \"549596009251413af70028cc\", \"department\": \"Production\", \"gender\": 0, \"id\": 1401785, \"job\": \"Production Manager\", \"name\": \"Brigitte Yorke\"}, {\"credit_id\": \"549596e892514130fc002d99\", \"department\": \"Sound\", \"gender\": 0, \"id\": 1401786, \"job\": \"Sound Effects Editor\", \"name\": \"Ken Fischer\"}, {\"credit_id\": \"549598229251412c4e002a1c\", \"department\": \"Crew\", \"gender\": 0, \"id\": 1401787, \"job\": \"Special Effects Coordinator\", \"name\": \"Iain Hutton\"}, {\"credit_id\": \"549598349251416e2b00432b\", \"department\": \"Crew\", \"gender\": 0, \"id\": 1401788, \"job\": \"Special Effects Coordinator\", \"name\": \"Steve Ingram\"}, {\"credit_id\": \"54959905c3a3686ae3004324\", \"department\": \"Visual Effects\", \"gender\": 0, \"id\": 1401789, \"job\": \"Visual Effects Producer\", \"name\": \"Joyce Cox\"}, {\"credit_id\": \"5495994b92514132ed002951\", \"department\": \"Visual Effects\", \"gender\": 0, \"id\": 1401790, \"job\": \"Visual Effects Producer\", \"name\": \"Jenny Foster\"}, {\"credit_id\": \"549599cbc3a3686ae1004613\", \"department\": \"Crew\", \"gender\": 0, \"id\": 1401791, \"job\": \"Visual Effects Editor\", \"name\": \"Christopher Marino\"}, {\"credit_id\": \"549599f2c3a3686ae100461e\", \"department\": \"Crew\", \"gender\": 0, \"id\": 1401792, \"job\": \"Visual Effects Editor\", \"name\": \"Jim Milton\"}, {\"credit_id\": \"54959a51c3a3686af3003eb5\", \"department\": \"Visual Effects\", \"gender\": 0, \"id\": 1401793, \"job\": \"Visual Effects Producer\", \"name\": \"Cyndi Ochs\"}, {\"credit_id\": \"54959a7cc3a36811530026f4\", \"department\": \"Crew\", \"gender\": 0, \"id\": 1401794, \"job\": \"Visual Effects Editor\", \"name\": \"Lucas Putnam\"}, {\"credit_id\": \"54959b91c3a3680ff5002cb4\", \"department\": \"Visual Effects\", \"gender\": 0, \"id\": 1401795, \"job\": \"Visual Effects Supervisor\", \"name\": \"Anthony \\'Max\\' Ivins\"}, {\"credit_id\": \"54959bb69251412c4e002a5f\", \"department\": \"Visual Effects\", \"gender\": 0, \"id\": 1401796, \"job\": \"Visual Effects Supervisor\", \"name\": \"John Knoll\"}, {\"credit_id\": \"54959cbbc3a3686ae3004391\", \"department\": \"Visual Effects\", \"gender\": 2, \"id\": 1401799, \"job\": \"Visual Effects Supervisor\", \"name\": \"Eric Saindon\"}, {\"credit_id\": \"54959d06c3a3686ae90043f6\", \"department\": \"Visual Effects\", \"gender\": 0, \"id\": 1401800, \"job\": \"Visual Effects Supervisor\", \"name\": \"Wayne Stables\"}, {\"credit_id\": \"54959d259251416e1e003f11\", \"department\": \"Visual Effects\", \"gender\": 0, \"id\": 1401801, \"job\": \"Visual Effects Supervisor\", \"name\": \"David Stinnett\"}, {\"credit_id\": \"54959db49251413af7002975\", \"department\": \"Visual Effects\", \"gender\": 0, \"id\": 1401803, \"job\": \"Visual Effects Supervisor\", \"name\": \"Guy Williams\"}, {\"credit_id\": \"54959de4c3a3681153002750\", \"department\": \"Crew\", \"gender\": 0, \"id\": 1401804, \"job\": \"Stunt Coordinator\", \"name\": \"Stuart Thorp\"}, {\"credit_id\": \"54959ef2c3a3680fc60027f2\", \"department\": \"Lighting\", \"gender\": 0, \"id\": 1401805, \"job\": \"Best Boy Electric\", \"name\": \"Giles Coburn\"}, {\"credit_id\": \"54959f07c3a3680fc60027f9\", \"department\": \"Camera\", \"gender\": 2, \"id\": 1401806, \"job\": \"Still Photographer\", \"name\": \"Mark Fellman\"}, {\"credit_id\": \"54959f47c3a3681153002774\", \"department\": \"Lighting\", \"gender\": 0, \"id\": 1401807, \"job\": \"Lighting Technician\", \"name\": \"Scott Sprague\"}, {\"credit_id\": \"54959f8cc3a36831b8001df2\", \"department\": \"Visual Effects\", \"gender\": 0, \"id\": 1401808, \"job\": \"Animation Director\", \"name\": \"Jeremy Hollobon\"}, {\"credit_id\": \"54959fa0c3a36831b8001dfb\", \"department\": \"Visual Effects\", \"gender\": 0, \"id\": 1401809, \"job\": \"Animation Director\", \"name\": \"Orlando Meunier\"}, {\"credit_id\": \"54959fb6c3a3686af3003f54\", \"department\": \"Visual Effects\", \"gender\": 0, \"id\": 1401810, \"job\": \"Animation Director\", \"name\": \"Taisuke Tanimura\"}, {\"credit_id\": \"54959fd2c3a36831b8001e02\", \"department\": \"Costume & Make-Up\", \"gender\": 0, \"id\": 1401812, \"job\": \"Set Costumer\", \"name\": \"Lilia Mishel Acevedo\"}, {\"credit_id\": \"54959ff9c3a3686ae300440c\", \"department\": \"Costume & Make-Up\", \"gender\": 0, \"id\": 1401814, \"job\": \"Set Costumer\", \"name\": \"Alejandro M. Hernandez\"}, {\"credit_id\": \"5495a0ddc3a3686ae10046fe\", \"department\": \"Editing\", \"gender\": 0, \"id\": 1401815, \"job\": \"Digital Intermediate\", \"name\": \"Marvin Hall\"}, {\"credit_id\": \"5495a1f7c3a3686ae3004443\", \"department\": \"Production\", \"gender\": 0, \"id\": 1401816, \"job\": \"Publicist\", \"name\": \"Judy Alley\"}, {\"credit_id\": \"5592b29fc3a36869d100002f\", \"department\": \"Crew\", \"gender\": 0, \"id\": 1418381, \"job\": \"CG Supervisor\", \"name\": \"Mike Perry\"}, {\"credit_id\": \"5592b23a9251415df8001081\", \"department\": \"Crew\", \"gender\": 0, \"id\": 1426854, \"job\": \"CG Supervisor\", \"name\": \"Andrew Morley\"}, {\"credit_id\": \"55491e1192514104c40002d8\", \"department\": \"Art\", \"gender\": 0, \"id\": 1438901, \"job\": \"Conceptual Design\", \"name\": \"Seth Engstrom\"}, {\"credit_id\": \"5525d5809251417276002b06\", \"department\": \"Crew\", \"gender\": 0, \"id\": 1447362, \"job\": \"Visual Effects Art Director\", \"name\": \"Eric Oliver\"}, {\"credit_id\": \"554427ca925141586500312a\", \"department\": \"Visual Effects\", \"gender\": 0, \"id\": 1447503, \"job\": \"Modeling\", \"name\": \"Matsune Suzuki\"}, {\"credit_id\": \"551906889251415aab001c88\", \"department\": \"Art\", \"gender\": 0, \"id\": 1447524, \"job\": \"Art Department Manager\", \"name\": \"Paul Tobin\"}, {\"credit_id\": \"5592af8492514152cc0010de\", \"department\": \"Costume & Make-Up\", \"gender\": 0, \"id\": 1452643, \"job\": \"Hairstylist\", \"name\": \"Roxane Griffin\"}, {\"credit_id\": \"553d3c109251415852001318\", \"department\": \"Lighting\", \"gender\": 0, \"id\": 1453938, \"job\": \"Lighting Artist\", \"name\": \"Arun Ram-Mohan\"}, {\"credit_id\": \"5592af4692514152d5001355\", \"department\": \"Costume & Make-Up\", \"gender\": 0, \"id\": 1457305, \"job\": \"Makeup Artist\", \"name\": \"Georgia Lockhart-Adams\"}, {\"credit_id\": \"5592b2eac3a36877470012a5\", \"department\": \"Crew\", \"gender\": 0, \"id\": 1466035, \"job\": \"CG Supervisor\", \"name\": \"Thrain Shadbolt\"}, {\"credit_id\": \"5592b032c3a36877450015f1\", \"department\": \"Crew\", \"gender\": 0, \"id\": 1483220, \"job\": \"CG Supervisor\", \"name\": \"Brad Alexander\"}, {\"credit_id\": \"5592b05592514152d80012f6\", \"department\": \"Crew\", \"gender\": 0, \"id\": 1483221, \"job\": \"CG Supervisor\", \"name\": \"Shadi Almassizadeh\"}, {\"credit_id\": \"5592b090c3a36877570010b5\", \"department\": \"Crew\", \"gender\": 0, \"id\": 1483222, \"job\": \"CG Supervisor\", \"name\": \"Simon Clutterbuck\"}, {\"credit_id\": \"5592b0dbc3a368774b00112c\", \"department\": \"Crew\", \"gender\": 0, \"id\": 1483223, \"job\": \"CG Supervisor\", \"name\": \"Graeme Demmocks\"}, {\"credit_id\": \"5592b0fe92514152db0010c1\", \"department\": \"Crew\", \"gender\": 0, \"id\": 1483224, \"job\": \"CG Supervisor\", \"name\": \"Adrian Fernandes\"}, {\"credit_id\": \"5592b11f9251415df8001059\", \"department\": \"Crew\", \"gender\": 0, \"id\": 1483225, \"job\": \"CG Supervisor\", \"name\": \"Mitch Gates\"}, {\"credit_id\": \"5592b15dc3a3687745001645\", \"department\": \"Crew\", \"gender\": 0, \"id\": 1483226, \"job\": \"CG Supervisor\", \"name\": \"Jerry Kung\"}, {\"credit_id\": \"5592b18e925141645a0004ae\", \"department\": \"Crew\", \"gender\": 0, \"id\": 1483227, \"job\": \"CG Supervisor\", \"name\": \"Andy Lomas\"}, {\"credit_id\": \"5592b1bfc3a368775d0010e7\", \"department\": \"Crew\", \"gender\": 0, \"id\": 1483228, \"job\": \"CG Supervisor\", \"name\": \"Sebastian Marino\"}, {\"credit_id\": \"5592b2049251415df8001078\", \"department\": \"Crew\", \"gender\": 0, \"id\": 1483229, \"job\": \"CG Supervisor\", \"name\": \"Matthias Menz\"}, {\"credit_id\": \"5592b27b92514152d800136a\", \"department\": \"Crew\", \"gender\": 0, \"id\": 1483230, \"job\": \"CG Supervisor\", \"name\": \"Sergei Nevshupov\"}, {\"credit_id\": \"5592b2c3c3a36869e800003c\", \"department\": \"Crew\", \"gender\": 0, \"id\": 1483231, \"job\": \"CG Supervisor\", \"name\": \"Philippe Rebours\"}, {\"credit_id\": \"5592b317c3a36877470012af\", \"department\": \"Crew\", \"gender\": 0, \"id\": 1483232, \"job\": \"CG Supervisor\", \"name\": \"Michael Takarangi\"}, {\"credit_id\": \"5592b345c3a36877470012bb\", \"department\": \"Crew\", \"gender\": 0, \"id\": 1483233, \"job\": \"CG Supervisor\", \"name\": \"David Weitzberg\"}, {\"credit_id\": \"5592b37cc3a368775100113b\", \"department\": \"Crew\", \"gender\": 0, \"id\": 1483234, \"job\": \"CG Supervisor\", \"name\": \"Ben White\"}, {\"credit_id\": \"573c8e2f9251413f5d000094\", \"department\": \"Crew\", \"gender\": 1, \"id\": 1621932, \"job\": \"Stunts\", \"name\": \"Min Windle\"}]'"
      ]
     },
     "execution_count": 25,
     "metadata": {},
     "output_type": "execute_result"
    }
   ],
   "source": [
    "# Handle Crew\n",
    "movies.iloc[0]['crew']"
   ]
  },
  {
   "cell_type": "code",
   "execution_count": 26,
   "id": "5528561a",
   "metadata": {
    "execution": {
     "iopub.execute_input": "2023-01-27T15:21:59.644947Z",
     "iopub.status.busy": "2023-01-27T15:21:59.644541Z",
     "iopub.status.idle": "2023-01-27T15:21:59.650633Z",
     "shell.execute_reply": "2023-01-27T15:21:59.649306Z"
    },
    "papermill": {
     "duration": 0.029358,
     "end_time": "2023-01-27T15:21:59.652796",
     "exception": false,
     "start_time": "2023-01-27T15:21:59.623438",
     "status": "completed"
    },
    "tags": []
   },
   "outputs": [],
   "source": [
    "def fetch_director(text):\n",
    "    L=[]\n",
    "    for i in ast.literal_eval(text):\n",
    "        if i['job']=='Director':\n",
    "            L.append(i['name'])\n",
    "            break\n",
    "    return L"
   ]
  },
  {
   "cell_type": "code",
   "execution_count": 27,
   "id": "86c6aed9",
   "metadata": {
    "execution": {
     "iopub.execute_input": "2023-01-27T15:21:59.695184Z",
     "iopub.status.busy": "2023-01-27T15:21:59.694342Z",
     "iopub.status.idle": "2023-01-27T15:22:03.338706Z",
     "shell.execute_reply": "2023-01-27T15:22:03.337457Z"
    },
    "papermill": {
     "duration": 3.669114,
     "end_time": "2023-01-27T15:22:03.341500",
     "exception": false,
     "start_time": "2023-01-27T15:21:59.672386",
     "status": "completed"
    },
    "tags": []
   },
   "outputs": [],
   "source": [
    "movies['crew']=movies['crew'].apply(fetch_director)"
   ]
  },
  {
   "cell_type": "code",
   "execution_count": 28,
   "id": "3a0e29a7",
   "metadata": {
    "execution": {
     "iopub.execute_input": "2023-01-27T15:22:03.382624Z",
     "iopub.status.busy": "2023-01-27T15:22:03.382192Z",
     "iopub.status.idle": "2023-01-27T15:22:03.402150Z",
     "shell.execute_reply": "2023-01-27T15:22:03.400819Z"
    },
    "papermill": {
     "duration": 0.043622,
     "end_time": "2023-01-27T15:22:03.404765",
     "exception": false,
     "start_time": "2023-01-27T15:22:03.361143",
     "status": "completed"
    },
    "tags": []
   },
   "outputs": [
    {
     "data": {
      "text/html": [
       "<div>\n",
       "<style scoped>\n",
       "    .dataframe tbody tr th:only-of-type {\n",
       "        vertical-align: middle;\n",
       "    }\n",
       "\n",
       "    .dataframe tbody tr th {\n",
       "        vertical-align: top;\n",
       "    }\n",
       "\n",
       "    .dataframe thead th {\n",
       "        text-align: right;\n",
       "    }\n",
       "</style>\n",
       "<table border=\"1\" class=\"dataframe\">\n",
       "  <thead>\n",
       "    <tr style=\"text-align: right;\">\n",
       "      <th></th>\n",
       "      <th>movie_id</th>\n",
       "      <th>title</th>\n",
       "      <th>overview</th>\n",
       "      <th>genres</th>\n",
       "      <th>keywords</th>\n",
       "      <th>cast</th>\n",
       "      <th>crew</th>\n",
       "    </tr>\n",
       "  </thead>\n",
       "  <tbody>\n",
       "    <tr>\n",
       "      <th>0</th>\n",
       "      <td>19995</td>\n",
       "      <td>Avatar</td>\n",
       "      <td>In the 22nd century, a paraplegic Marine is di...</td>\n",
       "      <td>[Action, Adventure, Fantasy, Science Fiction]</td>\n",
       "      <td>[culture clash, future, space war, space colon...</td>\n",
       "      <td>[{\"cast_id\": 242, \"character\": \"Jake Sully\", \"...</td>\n",
       "      <td>[James Cameron]</td>\n",
       "    </tr>\n",
       "    <tr>\n",
       "      <th>1</th>\n",
       "      <td>285</td>\n",
       "      <td>Pirates of the Caribbean: At World's End</td>\n",
       "      <td>Captain Barbossa, long believed to be dead, ha...</td>\n",
       "      <td>[Adventure, Fantasy, Action]</td>\n",
       "      <td>[ocean, drug abuse, exotic island, east india ...</td>\n",
       "      <td>[{\"cast_id\": 4, \"character\": \"Captain Jack Spa...</td>\n",
       "      <td>[Gore Verbinski]</td>\n",
       "    </tr>\n",
       "    <tr>\n",
       "      <th>2</th>\n",
       "      <td>206647</td>\n",
       "      <td>Spectre</td>\n",
       "      <td>A cryptic message from Bond’s past sends him o...</td>\n",
       "      <td>[Action, Adventure, Crime]</td>\n",
       "      <td>[spy, based on novel, secret agent, sequel, mi...</td>\n",
       "      <td>[{\"cast_id\": 1, \"character\": \"James Bond\", \"cr...</td>\n",
       "      <td>[Sam Mendes]</td>\n",
       "    </tr>\n",
       "    <tr>\n",
       "      <th>3</th>\n",
       "      <td>49026</td>\n",
       "      <td>The Dark Knight Rises</td>\n",
       "      <td>Following the death of District Attorney Harve...</td>\n",
       "      <td>[Action, Crime, Drama, Thriller]</td>\n",
       "      <td>[dc comics, crime fighter, terrorist, secret i...</td>\n",
       "      <td>[{\"cast_id\": 2, \"character\": \"Bruce Wayne / Ba...</td>\n",
       "      <td>[Christopher Nolan]</td>\n",
       "    </tr>\n",
       "    <tr>\n",
       "      <th>4</th>\n",
       "      <td>49529</td>\n",
       "      <td>John Carter</td>\n",
       "      <td>John Carter is a war-weary, former military ca...</td>\n",
       "      <td>[Action, Adventure, Science Fiction]</td>\n",
       "      <td>[based on novel, mars, medallion, space travel...</td>\n",
       "      <td>[{\"cast_id\": 5, \"character\": \"John Carter\", \"c...</td>\n",
       "      <td>[Andrew Stanton]</td>\n",
       "    </tr>\n",
       "  </tbody>\n",
       "</table>\n",
       "</div>"
      ],
      "text/plain": [
       "   movie_id                                     title  \\\n",
       "0     19995                                    Avatar   \n",
       "1       285  Pirates of the Caribbean: At World's End   \n",
       "2    206647                                   Spectre   \n",
       "3     49026                     The Dark Knight Rises   \n",
       "4     49529                               John Carter   \n",
       "\n",
       "                                            overview  \\\n",
       "0  In the 22nd century, a paraplegic Marine is di...   \n",
       "1  Captain Barbossa, long believed to be dead, ha...   \n",
       "2  A cryptic message from Bond’s past sends him o...   \n",
       "3  Following the death of District Attorney Harve...   \n",
       "4  John Carter is a war-weary, former military ca...   \n",
       "\n",
       "                                          genres  \\\n",
       "0  [Action, Adventure, Fantasy, Science Fiction]   \n",
       "1                   [Adventure, Fantasy, Action]   \n",
       "2                     [Action, Adventure, Crime]   \n",
       "3               [Action, Crime, Drama, Thriller]   \n",
       "4           [Action, Adventure, Science Fiction]   \n",
       "\n",
       "                                            keywords  \\\n",
       "0  [culture clash, future, space war, space colon...   \n",
       "1  [ocean, drug abuse, exotic island, east india ...   \n",
       "2  [spy, based on novel, secret agent, sequel, mi...   \n",
       "3  [dc comics, crime fighter, terrorist, secret i...   \n",
       "4  [based on novel, mars, medallion, space travel...   \n",
       "\n",
       "                                                cast                 crew  \n",
       "0  [{\"cast_id\": 242, \"character\": \"Jake Sully\", \"...      [James Cameron]  \n",
       "1  [{\"cast_id\": 4, \"character\": \"Captain Jack Spa...     [Gore Verbinski]  \n",
       "2  [{\"cast_id\": 1, \"character\": \"James Bond\", \"cr...         [Sam Mendes]  \n",
       "3  [{\"cast_id\": 2, \"character\": \"Bruce Wayne / Ba...  [Christopher Nolan]  \n",
       "4  [{\"cast_id\": 5, \"character\": \"John Carter\", \"c...     [Andrew Stanton]  "
      ]
     },
     "execution_count": 28,
     "metadata": {},
     "output_type": "execute_result"
    }
   ],
   "source": [
    "movies.head()"
   ]
  },
  {
   "cell_type": "code",
   "execution_count": 29,
   "id": "7e36c16d",
   "metadata": {
    "execution": {
     "iopub.execute_input": "2023-01-27T15:22:03.446880Z",
     "iopub.status.busy": "2023-01-27T15:22:03.446459Z",
     "iopub.status.idle": "2023-01-27T15:22:03.454422Z",
     "shell.execute_reply": "2023-01-27T15:22:03.452988Z"
    },
    "papermill": {
     "duration": 0.031838,
     "end_time": "2023-01-27T15:22:03.456755",
     "exception": false,
     "start_time": "2023-01-27T15:22:03.424917",
     "status": "completed"
    },
    "tags": []
   },
   "outputs": [
    {
     "data": {
      "text/plain": [
       "'In the 22nd century, a paraplegic Marine is dispatched to the moon Pandora on a unique mission, but becomes torn between following orders and protecting an alien civilization.'"
      ]
     },
     "execution_count": 29,
     "metadata": {},
     "output_type": "execute_result"
    }
   ],
   "source": [
    "# Handle Overview (Converting To List)\n",
    "movies.iloc[0]['overview']"
   ]
  },
  {
   "cell_type": "code",
   "execution_count": 30,
   "id": "7f02fc6b",
   "metadata": {
    "execution": {
     "iopub.execute_input": "2023-01-27T15:22:03.498569Z",
     "iopub.status.busy": "2023-01-27T15:22:03.498089Z",
     "iopub.status.idle": "2023-01-27T15:22:03.535000Z",
     "shell.execute_reply": "2023-01-27T15:22:03.533877Z"
    },
    "papermill": {
     "duration": 0.06085,
     "end_time": "2023-01-27T15:22:03.537505",
     "exception": false,
     "start_time": "2023-01-27T15:22:03.476655",
     "status": "completed"
    },
    "tags": []
   },
   "outputs": [],
   "source": [
    "movies['overview']=movies['overview'].apply(lambda x:x.split())"
   ]
  },
  {
   "cell_type": "code",
   "execution_count": 31,
   "id": "82bc7e8f",
   "metadata": {
    "execution": {
     "iopub.execute_input": "2023-01-27T15:22:03.579386Z",
     "iopub.status.busy": "2023-01-27T15:22:03.578981Z",
     "iopub.status.idle": "2023-01-27T15:22:03.601406Z",
     "shell.execute_reply": "2023-01-27T15:22:03.600150Z"
    },
    "papermill": {
     "duration": 0.046229,
     "end_time": "2023-01-27T15:22:03.603865",
     "exception": false,
     "start_time": "2023-01-27T15:22:03.557636",
     "status": "completed"
    },
    "tags": []
   },
   "outputs": [
    {
     "data": {
      "text/html": [
       "<div>\n",
       "<style scoped>\n",
       "    .dataframe tbody tr th:only-of-type {\n",
       "        vertical-align: middle;\n",
       "    }\n",
       "\n",
       "    .dataframe tbody tr th {\n",
       "        vertical-align: top;\n",
       "    }\n",
       "\n",
       "    .dataframe thead th {\n",
       "        text-align: right;\n",
       "    }\n",
       "</style>\n",
       "<table border=\"1\" class=\"dataframe\">\n",
       "  <thead>\n",
       "    <tr style=\"text-align: right;\">\n",
       "      <th></th>\n",
       "      <th>movie_id</th>\n",
       "      <th>title</th>\n",
       "      <th>overview</th>\n",
       "      <th>genres</th>\n",
       "      <th>keywords</th>\n",
       "      <th>cast</th>\n",
       "      <th>crew</th>\n",
       "    </tr>\n",
       "  </thead>\n",
       "  <tbody>\n",
       "    <tr>\n",
       "      <th>1281</th>\n",
       "      <td>266396</td>\n",
       "      <td>The Gunman</td>\n",
       "      <td>[Eight, years, after, fleeing, the, Congo, fol...</td>\n",
       "      <td>[Action, Drama, Crime]</td>\n",
       "      <td>[assassin, hitman]</td>\n",
       "      <td>[{\"cast_id\": 1, \"character\": \"Terrier\", \"credi...</td>\n",
       "      <td>[Pierre Morel]</td>\n",
       "    </tr>\n",
       "    <tr>\n",
       "      <th>1675</th>\n",
       "      <td>2008</td>\n",
       "      <td>The Promise</td>\n",
       "      <td>[An, orphaned, girl,, driven, by, poverty, at,...</td>\n",
       "      <td>[Fantasy, Drama, Action, Thriller, Romance]</td>\n",
       "      <td>[servant, emperor, battle assignment]</td>\n",
       "      <td>[{\"cast_id\": 13, \"character\": \"Princess Qingch...</td>\n",
       "      <td>[Chen Kaige]</td>\n",
       "    </tr>\n",
       "    <tr>\n",
       "      <th>2758</th>\n",
       "      <td>264660</td>\n",
       "      <td>Ex Machina</td>\n",
       "      <td>[Caleb,, a, 26, year, old, coder, at, the, wor...</td>\n",
       "      <td>[Drama, Science Fiction]</td>\n",
       "      <td>[dancing, artificial intelligence, distrust, i...</td>\n",
       "      <td>[{\"cast_id\": 1, \"character\": \"Caleb Smith\", \"c...</td>\n",
       "      <td>[Alex Garland]</td>\n",
       "    </tr>\n",
       "    <tr>\n",
       "      <th>2533</th>\n",
       "      <td>11153</td>\n",
       "      <td>National Lampoon's Vacation</td>\n",
       "      <td>[Clark, Griswold, is, on, a, quest, to, take, ...</td>\n",
       "      <td>[Comedy, Adventure, Romance]</td>\n",
       "      <td>[usa, relatives, family vacation, family holid...</td>\n",
       "      <td>[{\"cast_id\": 1, \"character\": \"Clark Griswold\",...</td>\n",
       "      <td>[Harold Ramis]</td>\n",
       "    </tr>\n",
       "  </tbody>\n",
       "</table>\n",
       "</div>"
      ],
      "text/plain": [
       "      movie_id                        title  \\\n",
       "1281    266396                   The Gunman   \n",
       "1675      2008                  The Promise   \n",
       "2758    264660                   Ex Machina   \n",
       "2533     11153  National Lampoon's Vacation   \n",
       "\n",
       "                                               overview  \\\n",
       "1281  [Eight, years, after, fleeing, the, Congo, fol...   \n",
       "1675  [An, orphaned, girl,, driven, by, poverty, at,...   \n",
       "2758  [Caleb,, a, 26, year, old, coder, at, the, wor...   \n",
       "2533  [Clark, Griswold, is, on, a, quest, to, take, ...   \n",
       "\n",
       "                                           genres  \\\n",
       "1281                       [Action, Drama, Crime]   \n",
       "1675  [Fantasy, Drama, Action, Thriller, Romance]   \n",
       "2758                     [Drama, Science Fiction]   \n",
       "2533                 [Comedy, Adventure, Romance]   \n",
       "\n",
       "                                               keywords  \\\n",
       "1281                                 [assassin, hitman]   \n",
       "1675              [servant, emperor, battle assignment]   \n",
       "2758  [dancing, artificial intelligence, distrust, i...   \n",
       "2533  [usa, relatives, family vacation, family holid...   \n",
       "\n",
       "                                                   cast            crew  \n",
       "1281  [{\"cast_id\": 1, \"character\": \"Terrier\", \"credi...  [Pierre Morel]  \n",
       "1675  [{\"cast_id\": 13, \"character\": \"Princess Qingch...    [Chen Kaige]  \n",
       "2758  [{\"cast_id\": 1, \"character\": \"Caleb Smith\", \"c...  [Alex Garland]  \n",
       "2533  [{\"cast_id\": 1, \"character\": \"Clark Griswold\",...  [Harold Ramis]  "
      ]
     },
     "execution_count": 31,
     "metadata": {},
     "output_type": "execute_result"
    }
   ],
   "source": [
    "movies.sample(4)"
   ]
  },
  {
   "cell_type": "code",
   "execution_count": 32,
   "id": "8aab2571",
   "metadata": {
    "execution": {
     "iopub.execute_input": "2023-01-27T15:22:03.648192Z",
     "iopub.status.busy": "2023-01-27T15:22:03.647686Z",
     "iopub.status.idle": "2023-01-27T15:22:03.656179Z",
     "shell.execute_reply": "2023-01-27T15:22:03.654902Z"
    },
    "papermill": {
     "duration": 0.033718,
     "end_time": "2023-01-27T15:22:03.658514",
     "exception": false,
     "start_time": "2023-01-27T15:22:03.624796",
     "status": "completed"
    },
    "tags": []
   },
   "outputs": [
    {
     "data": {
      "text/plain": [
       "['In',\n",
       " 'the',\n",
       " '22nd',\n",
       " 'century,',\n",
       " 'a',\n",
       " 'paraplegic',\n",
       " 'Marine',\n",
       " 'is',\n",
       " 'dispatched',\n",
       " 'to',\n",
       " 'the',\n",
       " 'moon',\n",
       " 'Pandora',\n",
       " 'on',\n",
       " 'a',\n",
       " 'unique',\n",
       " 'mission,',\n",
       " 'but',\n",
       " 'becomes',\n",
       " 'torn',\n",
       " 'between',\n",
       " 'following',\n",
       " 'orders',\n",
       " 'and',\n",
       " 'protecting',\n",
       " 'an',\n",
       " 'alien',\n",
       " 'civilization.']"
      ]
     },
     "execution_count": 32,
     "metadata": {},
     "output_type": "execute_result"
    }
   ],
   "source": [
    "# Recheck\n",
    "movies.iloc[0]['overview']"
   ]
  },
  {
   "cell_type": "code",
   "execution_count": 33,
   "id": "9597af08",
   "metadata": {
    "execution": {
     "iopub.execute_input": "2023-01-27T15:22:03.701400Z",
     "iopub.status.busy": "2023-01-27T15:22:03.700974Z",
     "iopub.status.idle": "2023-01-27T15:22:03.707800Z",
     "shell.execute_reply": "2023-01-27T15:22:03.706341Z"
    },
    "papermill": {
     "duration": 0.030978,
     "end_time": "2023-01-27T15:22:03.710170",
     "exception": false,
     "start_time": "2023-01-27T15:22:03.679192",
     "status": "completed"
    },
    "tags": []
   },
   "outputs": [],
   "source": [
    "# Now removing space like that\n",
    "'Anaa Kendrick'\n",
    "'AnnaKendrick'\n",
    "\n",
    "def remove_space(L):\n",
    "    L1=[]\n",
    "    for i in L:\n",
    "        L1.append(i.replace(\"\",\"\"))\n",
    "    return L1"
   ]
  },
  {
   "cell_type": "code",
   "execution_count": 34,
   "id": "65dc59c2",
   "metadata": {
    "execution": {
     "iopub.execute_input": "2023-01-27T15:22:03.753088Z",
     "iopub.status.busy": "2023-01-27T15:22:03.752660Z",
     "iopub.status.idle": "2023-01-27T15:22:07.224263Z",
     "shell.execute_reply": "2023-01-27T15:22:07.223034Z"
    },
    "papermill": {
     "duration": 3.496323,
     "end_time": "2023-01-27T15:22:07.227077",
     "exception": false,
     "start_time": "2023-01-27T15:22:03.730754",
     "status": "completed"
    },
    "tags": []
   },
   "outputs": [],
   "source": [
    "movies['cast']=movies['cast'].apply(remove_space)\n",
    "movies['crew']=movies['crew'].apply(remove_space)\n",
    "movies['genres']=movies['genres'].apply(remove_space)\n",
    "movies['keywords']=movies['keywords'].apply(remove_space)"
   ]
  },
  {
   "cell_type": "code",
   "execution_count": 35,
   "id": "46e60a10",
   "metadata": {
    "execution": {
     "iopub.execute_input": "2023-01-27T15:22:07.269816Z",
     "iopub.status.busy": "2023-01-27T15:22:07.269401Z",
     "iopub.status.idle": "2023-01-27T15:22:08.073088Z",
     "shell.execute_reply": "2023-01-27T15:22:08.071846Z"
    },
    "papermill": {
     "duration": 0.828246,
     "end_time": "2023-01-27T15:22:08.075761",
     "exception": false,
     "start_time": "2023-01-27T15:22:07.247515",
     "status": "completed"
    },
    "tags": []
   },
   "outputs": [],
   "source": [
    "movies['tags']=movies['overview']+movies['genres']+movies['keywords']+movies['cast']+movies['crew']"
   ]
  },
  {
   "cell_type": "code",
   "execution_count": 36,
   "id": "99e49579",
   "metadata": {
    "execution": {
     "iopub.execute_input": "2023-01-27T15:22:08.125102Z",
     "iopub.status.busy": "2023-01-27T15:22:08.123831Z",
     "iopub.status.idle": "2023-01-27T15:22:08.148019Z",
     "shell.execute_reply": "2023-01-27T15:22:08.146847Z"
    },
    "papermill": {
     "duration": 0.048698,
     "end_time": "2023-01-27T15:22:08.150437",
     "exception": false,
     "start_time": "2023-01-27T15:22:08.101739",
     "status": "completed"
    },
    "tags": []
   },
   "outputs": [
    {
     "data": {
      "text/plain": [
       "['In',\n",
       " 'the',\n",
       " '22nd',\n",
       " 'century,',\n",
       " 'a',\n",
       " 'paraplegic',\n",
       " 'Marine',\n",
       " 'is',\n",
       " 'dispatched',\n",
       " 'to',\n",
       " 'the',\n",
       " 'moon',\n",
       " 'Pandora',\n",
       " 'on',\n",
       " 'a',\n",
       " 'unique',\n",
       " 'mission,',\n",
       " 'but',\n",
       " 'becomes',\n",
       " 'torn',\n",
       " 'between',\n",
       " 'following',\n",
       " 'orders',\n",
       " 'and',\n",
       " 'protecting',\n",
       " 'an',\n",
       " 'alien',\n",
       " 'civilization.',\n",
       " 'Action',\n",
       " 'Adventure',\n",
       " 'Fantasy',\n",
       " 'Science Fiction',\n",
       " 'culture clash',\n",
       " 'future',\n",
       " 'space war',\n",
       " 'space colony',\n",
       " 'society',\n",
       " 'space travel',\n",
       " 'futuristic',\n",
       " 'romance',\n",
       " 'space',\n",
       " 'alien',\n",
       " 'tribe',\n",
       " 'alien planet',\n",
       " 'cgi',\n",
       " 'marine',\n",
       " 'soldier',\n",
       " 'battle',\n",
       " 'love affair',\n",
       " 'anti war',\n",
       " 'power relations',\n",
       " 'mind and soul',\n",
       " '3d',\n",
       " '[',\n",
       " '{',\n",
       " '\"',\n",
       " 'c',\n",
       " 'a',\n",
       " 's',\n",
       " 't',\n",
       " '_',\n",
       " 'i',\n",
       " 'd',\n",
       " '\"',\n",
       " ':',\n",
       " ' ',\n",
       " '2',\n",
       " '4',\n",
       " '2',\n",
       " ',',\n",
       " ' ',\n",
       " '\"',\n",
       " 'c',\n",
       " 'h',\n",
       " 'a',\n",
       " 'r',\n",
       " 'a',\n",
       " 'c',\n",
       " 't',\n",
       " 'e',\n",
       " 'r',\n",
       " '\"',\n",
       " ':',\n",
       " ' ',\n",
       " '\"',\n",
       " 'J',\n",
       " 'a',\n",
       " 'k',\n",
       " 'e',\n",
       " ' ',\n",
       " 'S',\n",
       " 'u',\n",
       " 'l',\n",
       " 'l',\n",
       " 'y',\n",
       " '\"',\n",
       " ',',\n",
       " ' ',\n",
       " '\"',\n",
       " 'c',\n",
       " 'r',\n",
       " 'e',\n",
       " 'd',\n",
       " 'i',\n",
       " 't',\n",
       " '_',\n",
       " 'i',\n",
       " 'd',\n",
       " '\"',\n",
       " ':',\n",
       " ' ',\n",
       " '\"',\n",
       " '5',\n",
       " '6',\n",
       " '0',\n",
       " '2',\n",
       " 'a',\n",
       " '8',\n",
       " 'a',\n",
       " '7',\n",
       " 'c',\n",
       " '3',\n",
       " 'a',\n",
       " '3',\n",
       " '6',\n",
       " '8',\n",
       " '5',\n",
       " '5',\n",
       " '3',\n",
       " '2',\n",
       " '0',\n",
       " '0',\n",
       " '1',\n",
       " 'c',\n",
       " '9',\n",
       " 'a',\n",
       " '\"',\n",
       " ',',\n",
       " ' ',\n",
       " '\"',\n",
       " 'g',\n",
       " 'e',\n",
       " 'n',\n",
       " 'd',\n",
       " 'e',\n",
       " 'r',\n",
       " '\"',\n",
       " ':',\n",
       " ' ',\n",
       " '2',\n",
       " ',',\n",
       " ' ',\n",
       " '\"',\n",
       " 'i',\n",
       " 'd',\n",
       " '\"',\n",
       " ':',\n",
       " ' ',\n",
       " '6',\n",
       " '5',\n",
       " '7',\n",
       " '3',\n",
       " '1',\n",
       " ',',\n",
       " ' ',\n",
       " '\"',\n",
       " 'n',\n",
       " 'a',\n",
       " 'm',\n",
       " 'e',\n",
       " '\"',\n",
       " ':',\n",
       " ' ',\n",
       " '\"',\n",
       " 'S',\n",
       " 'a',\n",
       " 'm',\n",
       " ' ',\n",
       " 'W',\n",
       " 'o',\n",
       " 'r',\n",
       " 't',\n",
       " 'h',\n",
       " 'i',\n",
       " 'n',\n",
       " 'g',\n",
       " 't',\n",
       " 'o',\n",
       " 'n',\n",
       " '\"',\n",
       " ',',\n",
       " ' ',\n",
       " '\"',\n",
       " 'o',\n",
       " 'r',\n",
       " 'd',\n",
       " 'e',\n",
       " 'r',\n",
       " '\"',\n",
       " ':',\n",
       " ' ',\n",
       " '0',\n",
       " '}',\n",
       " ',',\n",
       " ' ',\n",
       " '{',\n",
       " '\"',\n",
       " 'c',\n",
       " 'a',\n",
       " 's',\n",
       " 't',\n",
       " '_',\n",
       " 'i',\n",
       " 'd',\n",
       " '\"',\n",
       " ':',\n",
       " ' ',\n",
       " '3',\n",
       " ',',\n",
       " ' ',\n",
       " '\"',\n",
       " 'c',\n",
       " 'h',\n",
       " 'a',\n",
       " 'r',\n",
       " 'a',\n",
       " 'c',\n",
       " 't',\n",
       " 'e',\n",
       " 'r',\n",
       " '\"',\n",
       " ':',\n",
       " ' ',\n",
       " '\"',\n",
       " 'N',\n",
       " 'e',\n",
       " 'y',\n",
       " 't',\n",
       " 'i',\n",
       " 'r',\n",
       " 'i',\n",
       " '\"',\n",
       " ',',\n",
       " ' ',\n",
       " '\"',\n",
       " 'c',\n",
       " 'r',\n",
       " 'e',\n",
       " 'd',\n",
       " 'i',\n",
       " 't',\n",
       " '_',\n",
       " 'i',\n",
       " 'd',\n",
       " '\"',\n",
       " ':',\n",
       " ' ',\n",
       " '\"',\n",
       " '5',\n",
       " '2',\n",
       " 'f',\n",
       " 'e',\n",
       " '4',\n",
       " '8',\n",
       " '0',\n",
       " '0',\n",
       " '9',\n",
       " '2',\n",
       " '5',\n",
       " '1',\n",
       " '4',\n",
       " '1',\n",
       " '6',\n",
       " 'c',\n",
       " '7',\n",
       " '5',\n",
       " '0',\n",
       " 'a',\n",
       " 'c',\n",
       " '9',\n",
       " 'c',\n",
       " 'b',\n",
       " '\"',\n",
       " ',',\n",
       " ' ',\n",
       " '\"',\n",
       " 'g',\n",
       " 'e',\n",
       " 'n',\n",
       " 'd',\n",
       " 'e',\n",
       " 'r',\n",
       " '\"',\n",
       " ':',\n",
       " ' ',\n",
       " '1',\n",
       " ',',\n",
       " ' ',\n",
       " '\"',\n",
       " 'i',\n",
       " 'd',\n",
       " '\"',\n",
       " ':',\n",
       " ' ',\n",
       " '8',\n",
       " '6',\n",
       " '9',\n",
       " '1',\n",
       " ',',\n",
       " ' ',\n",
       " '\"',\n",
       " 'n',\n",
       " 'a',\n",
       " 'm',\n",
       " 'e',\n",
       " '\"',\n",
       " ':',\n",
       " ' ',\n",
       " '\"',\n",
       " 'Z',\n",
       " 'o',\n",
       " 'e',\n",
       " ' ',\n",
       " 'S',\n",
       " 'a',\n",
       " 'l',\n",
       " 'd',\n",
       " 'a',\n",
       " 'n',\n",
       " 'a',\n",
       " '\"',\n",
       " ',',\n",
       " ' ',\n",
       " '\"',\n",
       " 'o',\n",
       " 'r',\n",
       " 'd',\n",
       " 'e',\n",
       " 'r',\n",
       " '\"',\n",
       " ':',\n",
       " ' ',\n",
       " '1',\n",
       " '}',\n",
       " ',',\n",
       " ' ',\n",
       " '{',\n",
       " '\"',\n",
       " 'c',\n",
       " 'a',\n",
       " 's',\n",
       " 't',\n",
       " '_',\n",
       " 'i',\n",
       " 'd',\n",
       " '\"',\n",
       " ':',\n",
       " ' ',\n",
       " '2',\n",
       " '5',\n",
       " ',',\n",
       " ' ',\n",
       " '\"',\n",
       " 'c',\n",
       " 'h',\n",
       " 'a',\n",
       " 'r',\n",
       " 'a',\n",
       " 'c',\n",
       " 't',\n",
       " 'e',\n",
       " 'r',\n",
       " '\"',\n",
       " ':',\n",
       " ' ',\n",
       " '\"',\n",
       " 'D',\n",
       " 'r',\n",
       " '.',\n",
       " ' ',\n",
       " 'G',\n",
       " 'r',\n",
       " 'a',\n",
       " 'c',\n",
       " 'e',\n",
       " ' ',\n",
       " 'A',\n",
       " 'u',\n",
       " 'g',\n",
       " 'u',\n",
       " 's',\n",
       " 't',\n",
       " 'i',\n",
       " 'n',\n",
       " 'e',\n",
       " '\"',\n",
       " ',',\n",
       " ' ',\n",
       " '\"',\n",
       " 'c',\n",
       " 'r',\n",
       " 'e',\n",
       " 'd',\n",
       " 'i',\n",
       " 't',\n",
       " '_',\n",
       " 'i',\n",
       " 'd',\n",
       " '\"',\n",
       " ':',\n",
       " ' ',\n",
       " '\"',\n",
       " '5',\n",
       " '2',\n",
       " 'f',\n",
       " 'e',\n",
       " '4',\n",
       " '8',\n",
       " '0',\n",
       " '0',\n",
       " '9',\n",
       " '2',\n",
       " '5',\n",
       " '1',\n",
       " '4',\n",
       " '1',\n",
       " '6',\n",
       " 'c',\n",
       " '7',\n",
       " '5',\n",
       " '0',\n",
       " 'a',\n",
       " 'c',\n",
       " 'a',\n",
       " '3',\n",
       " '9',\n",
       " '\"',\n",
       " ',',\n",
       " ' ',\n",
       " '\"',\n",
       " 'g',\n",
       " 'e',\n",
       " 'n',\n",
       " 'd',\n",
       " 'e',\n",
       " 'r',\n",
       " '\"',\n",
       " ':',\n",
       " ' ',\n",
       " '1',\n",
       " ',',\n",
       " ' ',\n",
       " '\"',\n",
       " 'i',\n",
       " 'd',\n",
       " '\"',\n",
       " ':',\n",
       " ' ',\n",
       " '1',\n",
       " '0',\n",
       " '2',\n",
       " '0',\n",
       " '5',\n",
       " ',',\n",
       " ' ',\n",
       " '\"',\n",
       " 'n',\n",
       " 'a',\n",
       " 'm',\n",
       " 'e',\n",
       " '\"',\n",
       " ':',\n",
       " ' ',\n",
       " '\"',\n",
       " 'S',\n",
       " 'i',\n",
       " 'g',\n",
       " 'o',\n",
       " 'u',\n",
       " 'r',\n",
       " 'n',\n",
       " 'e',\n",
       " 'y',\n",
       " ' ',\n",
       " 'W',\n",
       " 'e',\n",
       " 'a',\n",
       " 'v',\n",
       " 'e',\n",
       " 'r',\n",
       " '\"',\n",
       " ',',\n",
       " ' ',\n",
       " '\"',\n",
       " 'o',\n",
       " 'r',\n",
       " 'd',\n",
       " 'e',\n",
       " 'r',\n",
       " '\"',\n",
       " ':',\n",
       " ' ',\n",
       " '2',\n",
       " '}',\n",
       " ',',\n",
       " ' ',\n",
       " '{',\n",
       " '\"',\n",
       " 'c',\n",
       " 'a',\n",
       " 's',\n",
       " 't',\n",
       " '_',\n",
       " 'i',\n",
       " 'd',\n",
       " '\"',\n",
       " ':',\n",
       " ' ',\n",
       " '4',\n",
       " ',',\n",
       " ' ',\n",
       " '\"',\n",
       " 'c',\n",
       " 'h',\n",
       " 'a',\n",
       " 'r',\n",
       " 'a',\n",
       " 'c',\n",
       " 't',\n",
       " 'e',\n",
       " 'r',\n",
       " '\"',\n",
       " ':',\n",
       " ' ',\n",
       " '\"',\n",
       " 'C',\n",
       " 'o',\n",
       " 'l',\n",
       " '.',\n",
       " ' ',\n",
       " 'Q',\n",
       " 'u',\n",
       " 'a',\n",
       " 'r',\n",
       " 'i',\n",
       " 't',\n",
       " 'c',\n",
       " 'h',\n",
       " '\"',\n",
       " ',',\n",
       " ' ',\n",
       " '\"',\n",
       " 'c',\n",
       " 'r',\n",
       " 'e',\n",
       " 'd',\n",
       " 'i',\n",
       " 't',\n",
       " '_',\n",
       " 'i',\n",
       " 'd',\n",
       " '\"',\n",
       " ':',\n",
       " ' ',\n",
       " '\"',\n",
       " '5',\n",
       " '2',\n",
       " 'f',\n",
       " 'e',\n",
       " '4',\n",
       " '8',\n",
       " '0',\n",
       " '0',\n",
       " '9',\n",
       " '2',\n",
       " '5',\n",
       " '1',\n",
       " '4',\n",
       " '1',\n",
       " '6',\n",
       " 'c',\n",
       " '7',\n",
       " '5',\n",
       " '0',\n",
       " 'a',\n",
       " 'c',\n",
       " '9',\n",
       " 'c',\n",
       " 'f',\n",
       " '\"',\n",
       " ',',\n",
       " ' ',\n",
       " '\"',\n",
       " 'g',\n",
       " 'e',\n",
       " 'n',\n",
       " 'd',\n",
       " 'e',\n",
       " 'r',\n",
       " '\"',\n",
       " ':',\n",
       " ' ',\n",
       " '2',\n",
       " ',',\n",
       " ' ',\n",
       " '\"',\n",
       " 'i',\n",
       " 'd',\n",
       " '\"',\n",
       " ':',\n",
       " ' ',\n",
       " '3',\n",
       " '2',\n",
       " '7',\n",
       " '4',\n",
       " '7',\n",
       " ',',\n",
       " ' ',\n",
       " '\"',\n",
       " 'n',\n",
       " 'a',\n",
       " 'm',\n",
       " 'e',\n",
       " '\"',\n",
       " ':',\n",
       " ' ',\n",
       " '\"',\n",
       " 'S',\n",
       " 't',\n",
       " 'e',\n",
       " 'p',\n",
       " 'h',\n",
       " 'e',\n",
       " 'n',\n",
       " ' ',\n",
       " 'L',\n",
       " 'a',\n",
       " 'n',\n",
       " 'g',\n",
       " '\"',\n",
       " ',',\n",
       " ' ',\n",
       " '\"',\n",
       " 'o',\n",
       " 'r',\n",
       " 'd',\n",
       " 'e',\n",
       " 'r',\n",
       " '\"',\n",
       " ':',\n",
       " ' ',\n",
       " '3',\n",
       " '}',\n",
       " ',',\n",
       " ' ',\n",
       " '{',\n",
       " '\"',\n",
       " 'c',\n",
       " 'a',\n",
       " 's',\n",
       " 't',\n",
       " '_',\n",
       " 'i',\n",
       " 'd',\n",
       " '\"',\n",
       " ':',\n",
       " ' ',\n",
       " '5',\n",
       " ',',\n",
       " ' ',\n",
       " '\"',\n",
       " 'c',\n",
       " 'h',\n",
       " 'a',\n",
       " 'r',\n",
       " 'a',\n",
       " 'c',\n",
       " 't',\n",
       " 'e',\n",
       " 'r',\n",
       " '\"',\n",
       " ':',\n",
       " ' ',\n",
       " '\"',\n",
       " 'T',\n",
       " 'r',\n",
       " 'u',\n",
       " 'd',\n",
       " 'y',\n",
       " ' ',\n",
       " 'C',\n",
       " 'h',\n",
       " 'a',\n",
       " 'c',\n",
       " 'o',\n",
       " 'n',\n",
       " '\"',\n",
       " ',',\n",
       " ' ',\n",
       " '\"',\n",
       " 'c',\n",
       " 'r',\n",
       " 'e',\n",
       " 'd',\n",
       " 'i',\n",
       " 't',\n",
       " '_',\n",
       " 'i',\n",
       " 'd',\n",
       " '\"',\n",
       " ':',\n",
       " ' ',\n",
       " '\"',\n",
       " '5',\n",
       " '2',\n",
       " 'f',\n",
       " 'e',\n",
       " '4',\n",
       " '8',\n",
       " '0',\n",
       " '0',\n",
       " '9',\n",
       " '2',\n",
       " '5',\n",
       " '1',\n",
       " '4',\n",
       " '1',\n",
       " '6',\n",
       " 'c',\n",
       " '7',\n",
       " '5',\n",
       " '0',\n",
       " 'a',\n",
       " 'c',\n",
       " '9',\n",
       " 'd',\n",
       " '3',\n",
       " '\"',\n",
       " ',',\n",
       " ' ',\n",
       " '\"',\n",
       " 'g',\n",
       " 'e',\n",
       " 'n',\n",
       " 'd',\n",
       " 'e',\n",
       " 'r',\n",
       " '\"',\n",
       " ':',\n",
       " ' ',\n",
       " '1',\n",
       " ',',\n",
       " ' ',\n",
       " '\"',\n",
       " 'i',\n",
       " 'd',\n",
       " '\"',\n",
       " ':',\n",
       " ' ',\n",
       " '1',\n",
       " '7',\n",
       " '6',\n",
       " '4',\n",
       " '7',\n",
       " ',',\n",
       " ' ',\n",
       " '\"',\n",
       " 'n',\n",
       " 'a',\n",
       " 'm',\n",
       " 'e',\n",
       " '\"',\n",
       " ':',\n",
       " ' ',\n",
       " '\"',\n",
       " 'M',\n",
       " 'i',\n",
       " 'c',\n",
       " 'h',\n",
       " 'e',\n",
       " 'l',\n",
       " 'l',\n",
       " 'e',\n",
       " ' ',\n",
       " 'R',\n",
       " 'o',\n",
       " 'd',\n",
       " 'r',\n",
       " 'i',\n",
       " 'g',\n",
       " 'u',\n",
       " 'e',\n",
       " 'z',\n",
       " '\"',\n",
       " ',',\n",
       " ' ',\n",
       " '\"',\n",
       " 'o',\n",
       " 'r',\n",
       " 'd',\n",
       " 'e',\n",
       " 'r',\n",
       " '\"',\n",
       " ':',\n",
       " ' ',\n",
       " '4',\n",
       " '}',\n",
       " ',',\n",
       " ' ',\n",
       " '{',\n",
       " '\"',\n",
       " 'c',\n",
       " 'a',\n",
       " 's',\n",
       " 't',\n",
       " '_',\n",
       " 'i',\n",
       " 'd',\n",
       " '\"',\n",
       " ':',\n",
       " ' ',\n",
       " '8',\n",
       " ',',\n",
       " ' ',\n",
       " '\"',\n",
       " 'c',\n",
       " 'h',\n",
       " 'a',\n",
       " 'r',\n",
       " 'a',\n",
       " 'c',\n",
       " 't',\n",
       " 'e',\n",
       " 'r',\n",
       " '\"',\n",
       " ':',\n",
       " ' ',\n",
       " '\"',\n",
       " 'S',\n",
       " 'e',\n",
       " 'l',\n",
       " 'f',\n",
       " 'r',\n",
       " 'i',\n",
       " 'd',\n",
       " 'g',\n",
       " 'e',\n",
       " '\"',\n",
       " ',',\n",
       " ' ',\n",
       " '\"',\n",
       " 'c',\n",
       " 'r',\n",
       " 'e',\n",
       " 'd',\n",
       " 'i',\n",
       " 't',\n",
       " '_',\n",
       " 'i',\n",
       " 'd',\n",
       " '\"',\n",
       " ':',\n",
       " ' ',\n",
       " '\"',\n",
       " '5',\n",
       " '2',\n",
       " 'f',\n",
       " 'e',\n",
       " '4',\n",
       " '8',\n",
       " '0',\n",
       " '0',\n",
       " '9',\n",
       " '2',\n",
       " '5',\n",
       " '1',\n",
       " '4',\n",
       " '1',\n",
       " '6',\n",
       " 'c',\n",
       " '7',\n",
       " '5',\n",
       " '0',\n",
       " 'a',\n",
       " 'c',\n",
       " '9',\n",
       " 'e',\n",
       " '1',\n",
       " '\"',\n",
       " ',',\n",
       " ' ',\n",
       " '\"',\n",
       " 'g',\n",
       " 'e',\n",
       " 'n',\n",
       " 'd',\n",
       " 'e',\n",
       " 'r',\n",
       " '\"',\n",
       " ':',\n",
       " ' ',\n",
       " '2',\n",
       " ',',\n",
       " ' ',\n",
       " '\"',\n",
       " 'i',\n",
       " 'd',\n",
       " '\"',\n",
       " ':',\n",
       " ' ',\n",
       " '1',\n",
       " '7',\n",
       " '7',\n",
       " '1',\n",
       " ',',\n",
       " ' ',\n",
       " '\"',\n",
       " 'n',\n",
       " 'a',\n",
       " 'm',\n",
       " 'e',\n",
       " '\"',\n",
       " ':',\n",
       " ' ',\n",
       " '\"',\n",
       " 'G',\n",
       " 'i',\n",
       " 'o',\n",
       " 'v',\n",
       " 'a',\n",
       " 'n',\n",
       " 'n',\n",
       " 'i',\n",
       " ' ',\n",
       " 'R',\n",
       " 'i',\n",
       " 'b',\n",
       " 'i',\n",
       " 's',\n",
       " 'i',\n",
       " '\"',\n",
       " ',',\n",
       " ' ',\n",
       " '\"',\n",
       " 'o',\n",
       " 'r',\n",
       " 'd',\n",
       " 'e',\n",
       " 'r',\n",
       " '\"',\n",
       " ':',\n",
       " ' ',\n",
       " '5',\n",
       " '}',\n",
       " ',',\n",
       " ' ',\n",
       " '{',\n",
       " '\"',\n",
       " 'c',\n",
       " 'a',\n",
       " 's',\n",
       " 't',\n",
       " '_',\n",
       " 'i',\n",
       " 'd',\n",
       " '\"',\n",
       " ':',\n",
       " ' ',\n",
       " '7',\n",
       " ',',\n",
       " ' ',\n",
       " '\"',\n",
       " 'c',\n",
       " 'h',\n",
       " 'a',\n",
       " 'r',\n",
       " 'a',\n",
       " 'c',\n",
       " 't',\n",
       " 'e',\n",
       " 'r',\n",
       " '\"',\n",
       " ':',\n",
       " ' ',\n",
       " '\"',\n",
       " 'N',\n",
       " 'o',\n",
       " 'r',\n",
       " 'm',\n",
       " ' ',\n",
       " 'S',\n",
       " 'p',\n",
       " 'e',\n",
       " 'l',\n",
       " 'l',\n",
       " 'm',\n",
       " 'a',\n",
       " 'n',\n",
       " '\"',\n",
       " ',',\n",
       " ...]"
      ]
     },
     "execution_count": 36,
     "metadata": {},
     "output_type": "execute_result"
    }
   ],
   "source": [
    "movies.iloc[0]['tags']"
   ]
  },
  {
   "cell_type": "markdown",
   "id": "8f532a54",
   "metadata": {
    "papermill": {
     "duration": 0.02064,
     "end_time": "2023-01-27T15:22:08.192837",
     "exception": false,
     "start_time": "2023-01-27T15:22:08.172197",
     "status": "completed"
    },
    "tags": []
   },
   "source": [
    "**Droping Those Extra Columns**"
   ]
  },
  {
   "cell_type": "code",
   "execution_count": 37,
   "id": "42a3db06",
   "metadata": {
    "execution": {
     "iopub.execute_input": "2023-01-27T15:22:08.236865Z",
     "iopub.status.busy": "2023-01-27T15:22:08.236496Z",
     "iopub.status.idle": "2023-01-27T15:22:08.244703Z",
     "shell.execute_reply": "2023-01-27T15:22:08.243335Z"
    },
    "papermill": {
     "duration": 0.033318,
     "end_time": "2023-01-27T15:22:08.247333",
     "exception": false,
     "start_time": "2023-01-27T15:22:08.214015",
     "status": "completed"
    },
    "tags": []
   },
   "outputs": [],
   "source": [
    "new_df=movies[['movie_id','title','tags']]"
   ]
  },
  {
   "cell_type": "code",
   "execution_count": 38,
   "id": "3b699124",
   "metadata": {
    "execution": {
     "iopub.execute_input": "2023-01-27T15:22:08.291744Z",
     "iopub.status.busy": "2023-01-27T15:22:08.291339Z",
     "iopub.status.idle": "2023-01-27T15:22:08.307888Z",
     "shell.execute_reply": "2023-01-27T15:22:08.306508Z"
    },
    "papermill": {
     "duration": 0.04216,
     "end_time": "2023-01-27T15:22:08.310739",
     "exception": false,
     "start_time": "2023-01-27T15:22:08.268579",
     "status": "completed"
    },
    "tags": []
   },
   "outputs": [
    {
     "data": {
      "text/html": [
       "<div>\n",
       "<style scoped>\n",
       "    .dataframe tbody tr th:only-of-type {\n",
       "        vertical-align: middle;\n",
       "    }\n",
       "\n",
       "    .dataframe tbody tr th {\n",
       "        vertical-align: top;\n",
       "    }\n",
       "\n",
       "    .dataframe thead th {\n",
       "        text-align: right;\n",
       "    }\n",
       "</style>\n",
       "<table border=\"1\" class=\"dataframe\">\n",
       "  <thead>\n",
       "    <tr style=\"text-align: right;\">\n",
       "      <th></th>\n",
       "      <th>movie_id</th>\n",
       "      <th>title</th>\n",
       "      <th>tags</th>\n",
       "    </tr>\n",
       "  </thead>\n",
       "  <tbody>\n",
       "    <tr>\n",
       "      <th>0</th>\n",
       "      <td>19995</td>\n",
       "      <td>Avatar</td>\n",
       "      <td>[In, the, 22nd, century,, a, paraplegic, Marin...</td>\n",
       "    </tr>\n",
       "    <tr>\n",
       "      <th>1</th>\n",
       "      <td>285</td>\n",
       "      <td>Pirates of the Caribbean: At World's End</td>\n",
       "      <td>[Captain, Barbossa,, long, believed, to, be, d...</td>\n",
       "    </tr>\n",
       "    <tr>\n",
       "      <th>2</th>\n",
       "      <td>206647</td>\n",
       "      <td>Spectre</td>\n",
       "      <td>[A, cryptic, message, from, Bond’s, past, send...</td>\n",
       "    </tr>\n",
       "    <tr>\n",
       "      <th>3</th>\n",
       "      <td>49026</td>\n",
       "      <td>The Dark Knight Rises</td>\n",
       "      <td>[Following, the, death, of, District, Attorney...</td>\n",
       "    </tr>\n",
       "    <tr>\n",
       "      <th>4</th>\n",
       "      <td>49529</td>\n",
       "      <td>John Carter</td>\n",
       "      <td>[John, Carter, is, a, war-weary,, former, mili...</td>\n",
       "    </tr>\n",
       "  </tbody>\n",
       "</table>\n",
       "</div>"
      ],
      "text/plain": [
       "   movie_id                                     title  \\\n",
       "0     19995                                    Avatar   \n",
       "1       285  Pirates of the Caribbean: At World's End   \n",
       "2    206647                                   Spectre   \n",
       "3     49026                     The Dark Knight Rises   \n",
       "4     49529                               John Carter   \n",
       "\n",
       "                                                tags  \n",
       "0  [In, the, 22nd, century,, a, paraplegic, Marin...  \n",
       "1  [Captain, Barbossa,, long, believed, to, be, d...  \n",
       "2  [A, cryptic, message, from, Bond’s, past, send...  \n",
       "3  [Following, the, death, of, District, Attorney...  \n",
       "4  [John, Carter, is, a, war-weary,, former, mili...  "
      ]
     },
     "execution_count": 38,
     "metadata": {},
     "output_type": "execute_result"
    }
   ],
   "source": [
    "new_df.head()"
   ]
  },
  {
   "cell_type": "markdown",
   "id": "a1f8b4f8",
   "metadata": {
    "papermill": {
     "duration": 0.021382,
     "end_time": "2023-01-27T15:22:08.354264",
     "exception": false,
     "start_time": "2023-01-27T15:22:08.332882",
     "status": "completed"
    },
    "tags": []
   },
   "source": [
    "**Converting List To str**"
   ]
  },
  {
   "cell_type": "code",
   "execution_count": 39,
   "id": "ae1f3f7c",
   "metadata": {
    "execution": {
     "iopub.execute_input": "2023-01-27T15:22:08.401581Z",
     "iopub.status.busy": "2023-01-27T15:22:08.400909Z",
     "iopub.status.idle": "2023-01-27T15:22:08.627015Z",
     "shell.execute_reply": "2023-01-27T15:22:08.625538Z"
    },
    "papermill": {
     "duration": 0.253501,
     "end_time": "2023-01-27T15:22:08.630276",
     "exception": false,
     "start_time": "2023-01-27T15:22:08.376775",
     "status": "completed"
    },
    "tags": []
   },
   "outputs": [
    {
     "name": "stderr",
     "output_type": "stream",
     "text": [
      "/opt/conda/lib/python3.7/site-packages/ipykernel_launcher.py:1: SettingWithCopyWarning: \n",
      "A value is trying to be set on a copy of a slice from a DataFrame.\n",
      "Try using .loc[row_indexer,col_indexer] = value instead\n",
      "\n",
      "See the caveats in the documentation: https://pandas.pydata.org/pandas-docs/stable/user_guide/indexing.html#returning-a-view-versus-a-copy\n",
      "  \"\"\"Entry point for launching an IPython kernel.\n"
     ]
    },
    {
     "data": {
      "text/html": [
       "<div>\n",
       "<style scoped>\n",
       "    .dataframe tbody tr th:only-of-type {\n",
       "        vertical-align: middle;\n",
       "    }\n",
       "\n",
       "    .dataframe tbody tr th {\n",
       "        vertical-align: top;\n",
       "    }\n",
       "\n",
       "    .dataframe thead th {\n",
       "        text-align: right;\n",
       "    }\n",
       "</style>\n",
       "<table border=\"1\" class=\"dataframe\">\n",
       "  <thead>\n",
       "    <tr style=\"text-align: right;\">\n",
       "      <th></th>\n",
       "      <th>movie_id</th>\n",
       "      <th>title</th>\n",
       "      <th>tags</th>\n",
       "    </tr>\n",
       "  </thead>\n",
       "  <tbody>\n",
       "    <tr>\n",
       "      <th>0</th>\n",
       "      <td>19995</td>\n",
       "      <td>Avatar</td>\n",
       "      <td>In the 22nd century, a paraplegic Marine is di...</td>\n",
       "    </tr>\n",
       "    <tr>\n",
       "      <th>1</th>\n",
       "      <td>285</td>\n",
       "      <td>Pirates of the Caribbean: At World's End</td>\n",
       "      <td>Captain Barbossa, long believed to be dead, ha...</td>\n",
       "    </tr>\n",
       "    <tr>\n",
       "      <th>2</th>\n",
       "      <td>206647</td>\n",
       "      <td>Spectre</td>\n",
       "      <td>A cryptic message from Bond’s past sends him o...</td>\n",
       "    </tr>\n",
       "    <tr>\n",
       "      <th>3</th>\n",
       "      <td>49026</td>\n",
       "      <td>The Dark Knight Rises</td>\n",
       "      <td>Following the death of District Attorney Harve...</td>\n",
       "    </tr>\n",
       "    <tr>\n",
       "      <th>4</th>\n",
       "      <td>49529</td>\n",
       "      <td>John Carter</td>\n",
       "      <td>John Carter is a war-weary, former military ca...</td>\n",
       "    </tr>\n",
       "  </tbody>\n",
       "</table>\n",
       "</div>"
      ],
      "text/plain": [
       "   movie_id                                     title  \\\n",
       "0     19995                                    Avatar   \n",
       "1       285  Pirates of the Caribbean: At World's End   \n",
       "2    206647                                   Spectre   \n",
       "3     49026                     The Dark Knight Rises   \n",
       "4     49529                               John Carter   \n",
       "\n",
       "                                                tags  \n",
       "0  In the 22nd century, a paraplegic Marine is di...  \n",
       "1  Captain Barbossa, long believed to be dead, ha...  \n",
       "2  A cryptic message from Bond’s past sends him o...  \n",
       "3  Following the death of District Attorney Harve...  \n",
       "4  John Carter is a war-weary, former military ca...  "
      ]
     },
     "execution_count": 39,
     "metadata": {},
     "output_type": "execute_result"
    }
   ],
   "source": [
    "new_df['tags']=new_df['tags'].apply(lambda x: \" \".join(x))\n",
    "new_df.head()"
   ]
  },
  {
   "cell_type": "code",
   "execution_count": 40,
   "id": "2f68a2a4",
   "metadata": {
    "execution": {
     "iopub.execute_input": "2023-01-27T15:22:08.676076Z",
     "iopub.status.busy": "2023-01-27T15:22:08.675368Z",
     "iopub.status.idle": "2023-01-27T15:22:08.684199Z",
     "shell.execute_reply": "2023-01-27T15:22:08.682989Z"
    },
    "papermill": {
     "duration": 0.034618,
     "end_time": "2023-01-27T15:22:08.687047",
     "exception": false,
     "start_time": "2023-01-27T15:22:08.652429",
     "status": "completed"
    },
    "tags": []
   },
   "outputs": [
    {
     "data": {
      "text/plain": [
       "'In the 22nd century, a paraplegic Marine is dispatched to the moon Pandora on a unique mission, but becomes torn between following orders and protecting an alien civilization. Action Adventure Fantasy Science Fiction culture clash future space war space colony society space travel futuristic romance space alien tribe alien planet cgi marine soldier battle love affair anti war power relations mind and soul 3d [ { \" c a s t _ i d \" :   2 4 2 ,   \" c h a r a c t e r \" :   \" J a k e   S u l l y \" ,   \" c r e d i t _ i d \" :   \" 5 6 0 2 a 8 a 7 c 3 a 3 6 8 5 5 3 2 0 0 1 c 9 a \" ,   \" g e n d e r \" :   2 ,   \" i d \" :   6 5 7 3 1 ,   \" n a m e \" :   \" S a m   W o r t h i n g t o n \" ,   \" o r d e r \" :   0 } ,   { \" c a s t _ i d \" :   3 ,   \" c h a r a c t e r \" :   \" N e y t i r i \" ,   \" c r e d i t _ i d \" :   \" 5 2 f e 4 8 0 0 9 2 5 1 4 1 6 c 7 5 0 a c 9 c b \" ,   \" g e n d e r \" :   1 ,   \" i d \" :   8 6 9 1 ,   \" n a m e \" :   \" Z o e   S a l d a n a \" ,   \" o r d e r \" :   1 } ,   { \" c a s t _ i d \" :   2 5 ,   \" c h a r a c t e r \" :   \" D r .   G r a c e   A u g u s t i n e \" ,   \" c r e d i t _ i d \" :   \" 5 2 f e 4 8 0 0 9 2 5 1 4 1 6 c 7 5 0 a c a 3 9 \" ,   \" g e n d e r \" :   1 ,   \" i d \" :   1 0 2 0 5 ,   \" n a m e \" :   \" S i g o u r n e y   W e a v e r \" ,   \" o r d e r \" :   2 } ,   { \" c a s t _ i d \" :   4 ,   \" c h a r a c t e r \" :   \" C o l .   Q u a r i t c h \" ,   \" c r e d i t _ i d \" :   \" 5 2 f e 4 8 0 0 9 2 5 1 4 1 6 c 7 5 0 a c 9 c f \" ,   \" g e n d e r \" :   2 ,   \" i d \" :   3 2 7 4 7 ,   \" n a m e \" :   \" S t e p h e n   L a n g \" ,   \" o r d e r \" :   3 } ,   { \" c a s t _ i d \" :   5 ,   \" c h a r a c t e r \" :   \" T r u d y   C h a c o n \" ,   \" c r e d i t _ i d \" :   \" 5 2 f e 4 8 0 0 9 2 5 1 4 1 6 c 7 5 0 a c 9 d 3 \" ,   \" g e n d e r \" :   1 ,   \" i d \" :   1 7 6 4 7 ,   \" n a m e \" :   \" M i c h e l l e   R o d r i g u e z \" ,   \" o r d e r \" :   4 } ,   { \" c a s t _ i d \" :   8 ,   \" c h a r a c t e r \" :   \" S e l f r i d g e \" ,   \" c r e d i t _ i d \" :   \" 5 2 f e 4 8 0 0 9 2 5 1 4 1 6 c 7 5 0 a c 9 e 1 \" ,   \" g e n d e r \" :   2 ,   \" i d \" :   1 7 7 1 ,   \" n a m e \" :   \" G i o v a n n i   R i b i s i \" ,   \" o r d e r \" :   5 } ,   { \" c a s t _ i d \" :   7 ,   \" c h a r a c t e r \" :   \" N o r m   S p e l l m a n \" ,   \" c r e d i t _ i d \" :   \" 5 2 f e 4 8 0 0 9 2 5 1 4 1 6 c 7 5 0 a c 9 d d \" ,   \" g e n d e r \" :   2 ,   \" i d \" :   5 9 2 3 1 ,   \" n a m e \" :   \" J o e l   D a v i d   M o o r e \" ,   \" o r d e r \" :   6 } ,   { \" c a s t _ i d \" :   9 ,   \" c h a r a c t e r \" :   \" M o a t \" ,   \" c r e d i t _ i d \" :   \" 5 2 f e 4 8 0 0 9 2 5 1 4 1 6 c 7 5 0 a c 9 e 5 \" ,   \" g e n d e r \" :   1 ,   \" i d \" :   3 0 4 8 5 ,   \" n a m e \" :   \" C C H   P o u n d e r \" ,   \" o r d e r \" :   7 } ,   { \" c a s t _ i d \" :   1 1 ,   \" c h a r a c t e r \" :   \" E y t u k a n \" ,   \" c r e d i t _ i d \" :   \" 5 2 f e 4 8 0 0 9 2 5 1 4 1 6 c 7 5 0 a c 9 e d \" ,   \" g e n d e r \" :   2 ,   \" i d \" :   1 5 8 5 3 ,   \" n a m e \" :   \" W e s   S t u d i \" ,   \" o r d e r \" :   8 } ,   { \" c a s t _ i d \" :   1 0 ,   \" c h a r a c t e r \" :   \" T s u \\' T e y \" ,   \" c r e d i t _ i d \" :   \" 5 2 f e 4 8 0 0 9 2 5 1 4 1 6 c 7 5 0 a c 9 e 9 \" ,   \" g e n d e r \" :   2 ,   \" i d \" :   1 0 9 6 4 ,   \" n a m e \" :   \" L a z   A l o n s o \" ,   \" o r d e r \" :   9 } ,   { \" c a s t _ i d \" :   1 2 ,   \" c h a r a c t e r \" :   \" D r .   M a x   P a t e l \" ,   \" c r e d i t _ i d \" :   \" 5 2 f e 4 8 0 0 9 2 5 1 4 1 6 c 7 5 0 a c 9 f 1 \" ,   \" g e n d e r \" :   2 ,   \" i d \" :   9 5 6 9 7 ,   \" n a m e \" :   \" D i l e e p   R a o \" ,   \" o r d e r \" :   1 0 } ,   { \" c a s t _ i d \" :   1 3 ,   \" c h a r a c t e r \" :   \" L y l e   W a i n f l e e t \" ,   \" c r e d i t _ i d \" :   \" 5 2 f e 4 8 0 0 9 2 5 1 4 1 6 c 7 5 0 a c 9 f 5 \" ,   \" g e n d e r \" :   2 ,   \" i d \" :   9 8 2 1 5 ,   \" n a m e \" :   \" M a t t   G e r a l d \" ,   \" o r d e r \" :   1 1 } ,   { \" c a s t _ i d \" :   3 2 ,   \" c h a r a c t e r \" :   \" P r i v a t e   F i k e \" ,   \" c r e d i t _ i d \" :   \" 5 2 f e 4 8 0 0 9 2 5 1 4 1 6 c 7 5 0 a c a 5 b \" ,   \" g e n d e r \" :   2 ,   \" i d \" :   1 5 4 1 5 3 ,   \" n a m e \" :   \" S e a n   A n t h o n y   M o r a n \" ,   \" o r d e r \" :   1 2 } ,   { \" c a s t _ i d \" :   3 3 ,   \" c h a r a c t e r \" :   \" C r y o   V a u l t   M e d   T e c h \" ,   \" c r e d i t _ i d \" :   \" 5 2 f e 4 8 0 0 9 2 5 1 4 1 6 c 7 5 0 a c a 5 f \" ,   \" g e n d e r \" :   2 ,   \" i d \" :   3 9 7 3 1 2 ,   \" n a m e \" :   \" J a s o n   W h y t e \" ,   \" o r d e r \" :   1 3 } ,   { \" c a s t _ i d \" :   3 4 ,   \" c h a r a c t e r \" :   \" V e n t u r e   S t a r   C r e w   C h i e f \" ,   \" c r e d i t _ i d \" :   \" 5 2 f e 4 8 0 0 9 2 5 1 4 1 6 c 7 5 0 a c a 6 3 \" ,   \" g e n d e r \" :   2 ,   \" i d \" :   4 2 3 1 7 ,   \" n a m e \" :   \" S c o t t   L a w r e n c e \" ,   \" o r d e r \" :   1 4 } ,   { \" c a s t _ i d \" :   3 5 ,   \" c h a r a c t e r \" :   \" L o c k   U p   T r o o p e r \" ,   \" c r e d i t _ i d \" :   \" 5 2 f e 4 8 0 0 9 2 5 1 4 1 6 c 7 5 0 a c a 6 7 \" ,   \" g e n d e r \" :   2 ,   \" i d \" :   9 8 6 7 3 4 ,   \" n a m e \" :   \" K e l l y   K i l g o u r \" ,   \" o r d e r \" :   1 5 } ,   { \" c a s t _ i d \" :   3 6 ,   \" c h a r a c t e r \" :   \" S h u t t l e   P i l o t \" ,   \" c r e d i t _ i d \" :   \" 5 2 f e 4 8 0 0 9 2 5 1 4 1 6 c 7 5 0 a c a 6 b \" ,   \" g e n d e r \" :   0 ,   \" i d \" :   1 2 0 7 2 2 7 ,   \" n a m e \" :   \" J a m e s   P a t r i c k   P i t t \" ,   \" o r d e r \" :   1 6 } ,   { \" c a s t _ i d \" :   3 7 ,   \" c h a r a c t e r \" :   \" S h u t t l e   C o - P i l o t \" ,   \" c r e d i t _ i d \" :   \" 5 2 f e 4 8 0 0 9 2 5 1 4 1 6 c 7 5 0 a c a 6 f \" ,   \" g e n d e r \" :   0 ,   \" i d \" :   1 1 8 0 9 3 6 ,   \" n a m e \" :   \" S e a n   P a t r i c k   M u r p h y \" ,   \" o r d e r \" :   1 7 } ,   { \" c a s t _ i d \" :   3 8 ,   \" c h a r a c t e r \" :   \" S h u t t l e   C r e w   C h i e f \" ,   \" c r e d i t _ i d \" :   \" 5 2 f e 4 8 0 0 9 2 5 1 4 1 6 c 7 5 0 a c a 7 3 \" ,   \" g e n d e r \" :   2 ,   \" i d \" :   1 0 1 9 5 7 8 ,   \" n a m e \" :   \" P e t e r   D i l l o n \" ,   \" o r d e r \" :   1 8 } ,   { \" c a s t _ i d \" :   3 9 ,   \" c h a r a c t e r \" :   \" T r a c t o r   O p e r a t o r   /   T r o u p e \" ,   \" c r e d i t _ i d \" :   \" 5 2 f e 4 8 0 0 9 2 5 1 4 1 6 c 7 5 0 a c a 7 7 \" ,   \" g e n d e r \" :   0 ,   \" i d \" :   9 1 4 4 3 ,   \" n a m e \" :   \" K e v i n   D o r m a n \" ,   \" o r d e r \" :   1 9 } ,   { \" c a s t _ i d \" :   4 0 ,   \" c h a r a c t e r \" :   \" D r a g o n   G u n s h i p   P i l o t \" ,   \" c r e d i t _ i d \" :   \" 5 2 f e 4 8 0 0 9 2 5 1 4 1 6 c 7 5 0 a c a 7 b \" ,   \" g e n d e r \" :   2 ,   \" i d \" :   1 7 3 3 9 1 ,   \" n a m e \" :   \" K e l s o n   H e n d e r s o n \" ,   \" o r d e r \" :   2 0 } ,   { \" c a s t _ i d \" :   4 1 ,   \" c h a r a c t e r \" :   \" D r a g o n   G u n s h i p   G u n n e r \" ,   \" c r e d i t _ i d \" :   \" 5 2 f e 4 8 0 0 9 2 5 1 4 1 6 c 7 5 0 a c a 7 f \" ,   \" g e n d e r \" :   0 ,   \" i d \" :   1 2 0 7 2 3 6 ,   \" n a m e \" :   \" D a v i d   V a n   H o r n \" ,   \" o r d e r \" :   2 1 } ,   { \" c a s t _ i d \" :   4 2 ,   \" c h a r a c t e r \" :   \" D r a g o n   G u n s h i p   N a v i g a t o r \" ,   \" c r e d i t _ i d \" :   \" 5 2 f e 4 8 0 0 9 2 5 1 4 1 6 c 7 5 0 a c a 8 3 \" ,   \" g e n d e r \" :   0 ,   \" i d \" :   2 1 5 9 1 3 ,   \" n a m e \" :   \" J a c o b   T o m u r i \" ,   \" o r d e r \" :   2 2 } ,   { \" c a s t _ i d \" :   4 3 ,   \" c h a r a c t e r \" :   \" S u i t   # 1 \" ,   \" c r e d i t _ i d \" :   \" 5 2 f e 4 8 0 0 9 2 5 1 4 1 6 c 7 5 0 a c a 8 7 \" ,   \" g e n d e r \" :   0 ,   \" i d \" :   1 4 3 2 0 6 ,   \" n a m e \" :   \" M i c h a e l   B l a i n - R o z g a y \" ,   \" o r d e r \" :   2 3 } ,   { \" c a s t _ i d \" :   4 4 ,   \" c h a r a c t e r \" :   \" S u i t   # 2 \" ,   \" c r e d i t _ i d \" :   \" 5 2 f e 4 8 0 0 9 2 5 1 4 1 6 c 7 5 0 a c a 8 b \" ,   \" g e n d e r \" :   2 ,   \" i d \" :   1 6 9 6 7 6 ,   \" n a m e \" :   \" J o n   C u r r y \" ,   \" o r d e r \" :   2 4 } ,   { \" c a s t _ i d \" :   4 6 ,   \" c h a r a c t e r \" :   \" A m b i e n t   R o o m   T e c h \" ,   \" c r e d i t _ i d \" :   \" 5 2 f e 4 8 0 0 9 2 5 1 4 1 6 c 7 5 0 a c a 8 f \" ,   \" g e n d e r \" :   0 ,   \" i d \" :   1 0 4 8 6 1 0 ,   \" n a m e \" :   \" L u k e   H a w k e r \" ,   \" o r d e r \" :   2 5 } ,   { \" c a s t _ i d \" :   4 7 ,   \" c h a r a c t e r \" :   \" A m b i e n t   R o o m   T e c h   /   T r o u p e \" ,   \" c r e d i t _ i d \" :   \" 5 2 f e 4 8 0 0 9 2 5 1 4 1 6 c 7 5 0 a c a 9 3 \" ,   \" g e n d e r \" :   0 ,   \" i d \" :   4 2 2 8 8 ,   \" n a m e \" :   \" W o o d y   S c h u l t z \" ,   \" o r d e r \" :   2 6 } ,   { \" c a s t _ i d \" :   4 8 ,   \" c h a r a c t e r \" :   \" H o r s e   C l a n   L e a d e r \" ,   \" c r e d i t _ i d \" :   \" 5 2 f e 4 8 0 0 9 2 5 1 4 1 6 c 7 5 0 a c a 9 7 \" ,   \" g e n d e r \" :   2 ,   \" i d \" :   6 8 2 7 8 ,   \" n a m e \" :   \" P e t e r   M e n s a h \" ,   \" o r d e r \" :   2 7 } ,   { \" c a s t _ i d \" :   4 9 ,   \" c h a r a c t e r \" :   \" L i n k   R o o m   T e c h \" ,   \" c r e d i t _ i d \" :   \" 5 2 f e 4 8 0 0 9 2 5 1 4 1 6 c 7 5 0 a c a 9 b \" ,   \" g e n d e r \" :   0 ,   \" i d \" :   1 2 0 7 2 4 7 ,   \" n a m e \" :   \" S o n i a   Y e e \" ,   \" o r d e r \" :   2 8 } ,   { \" c a s t _ i d \" :   5 0 ,   \" c h a r a c t e r \" :   \" B a s k e t b a l l   A v a t a r   /   T r o u p e \" ,   \" c r e d i t _ i d \" :   \" 5 2 f e 4 8 0 0 9 2 5 1 4 1 6 c 7 5 0 a c a 9 f \" ,   \" g e n d e r \" :   1 ,   \" i d \" :   1 2 0 7 2 4 8 ,   \" n a m e \" :   \" J a h n e l   C u r f m a n \" ,   \" o r d e r \" :   2 9 } ,   { \" c a s t _ i d \" :   5 1 ,   \" c h a r a c t e r \" :   \" B a s k e t b a l l   A v a t a r \" ,   \" c r e d i t _ i d \" :   \" 5 2 f e 4 8 0 0 9 2 5 1 4 1 6 c 7 5 0 a c a a 3 \" ,   \" g e n d e r \" :   0 ,   \" i d \" :   8 9 7 1 4 ,   \" n a m e \" :   \" I l r a m   C h o i \" ,   \" o r d e r \" :   3 0 } ,   { \" c a s t _ i d \" :   5 2 ,   \" c h a r a c t e r \" :   \" N a \\' v i   C h i l d \" ,   \" c r e d i t _ i d \" :   \" 5 2 f e 4 8 0 0 9 2 5 1 4 1 6 c 7 5 0 a c a a 7 \" ,   \" g e n d e r \" :   0 ,   \" i d \" :   1 2 0 7 2 4 9 ,   \" n a m e \" :   \" K y l a   W a r r e n \" ,   \" o r d e r \" :   3 1 } ,   { \" c a s t _ i d \" :   5 3 ,   \" c h a r a c t e r \" :   \" T r o u p e \" ,   \" c r e d i t _ i d \" :   \" 5 2 f e 4 8 0 0 9 2 5 1 4 1 6 c 7 5 0 a c a a b \" ,   \" g e n d e r \" :   0 ,   \" i d \" :   1 2 0 7 2 5 0 ,   \" n a m e \" :   \" L i s a   R o u m a i n \" ,   \" o r d e r \" :   3 2 } ,   { \" c a s t _ i d \" :   5 4 ,   \" c h a r a c t e r \" :   \" T r o u p e \" ,   \" c r e d i t _ i d \" :   \" 5 2 f e 4 8 0 0 9 2 5 1 4 1 6 c 7 5 0 a c a a f \" ,   \" g e n d e r \" :   1 ,   \" i d \" :   8 3 1 0 5 ,   \" n a m e \" :   \" D e b r a   W i l s o n \" ,   \" o r d e r \" :   3 3 } ,   { \" c a s t _ i d \" :   5 7 ,   \" c h a r a c t e r \" :   \" T r o u p e \" ,   \" c r e d i t _ i d \" :   \" 5 2 f e 4 8 0 0 9 2 5 1 4 1 6 c 7 5 0 a c a b b \" ,   \" g e n d e r \" :   0 ,   \" i d \" :   1 2 0 7 2 5 3 ,   \" n a m e \" :   \" C h r i s   M a l a \" ,   \" o r d e r \" :   3 4 } ,   { \" c a s t _ i d \" :   5 5 ,   \" c h a r a c t e r \" :   \" T r o u p e \" ,   \" c r e d i t _ i d \" :   \" 5 2 f e 4 8 0 0 9 2 5 1 4 1 6 c 7 5 0 a c a b 3 \" ,   \" g e n d e r \" :   0 ,   \" i d \" :   1 2 0 7 2 5 1 ,   \" n a m e \" :   \" T a y l o r   K i b b y \" ,   \" o r d e r \" :   3 5 } ,   { \" c a s t _ i d \" :   5 6 ,   \" c h a r a c t e r \" :   \" T r o u p e \" ,   \" c r e d i t _ i d \" :   \" 5 2 f e 4 8 0 0 9 2 5 1 4 1 6 c 7 5 0 a c a b 7 \" ,   \" g e n d e r \" :   0 ,   \" i d \" :   1 2 0 7 2 5 2 ,   \" n a m e \" :   \" J o d i e   L a n d a u \" ,   \" o r d e r \" :   3 6 } ,   { \" c a s t _ i d \" :   5 8 ,   \" c h a r a c t e r \" :   \" T r o u p e \" ,   \" c r e d i t _ i d \" :   \" 5 2 f e 4 8 0 0 9 2 5 1 4 1 6 c 7 5 0 a c a b f \" ,   \" g e n d e r \" :   0 ,   \" i d \" :   1 2 0 7 2 5 4 ,   \" n a m e \" :   \" J u l i e   L a m m \" ,   \" o r d e r \" :   3 7 } ,   { \" c a s t _ i d \" :   5 9 ,   \" c h a r a c t e r \" :   \" T r o u p e \" ,   \" c r e d i t _ i d \" :   \" 5 2 f e 4 8 0 0 9 2 5 1 4 1 6 c 7 5 0 a c a c 3 \" ,   \" g e n d e r \" :   0 ,   \" i d \" :   1 2 0 7 2 5 7 ,   \" n a m e \" :   \" C u l l e n   B .   M a d d e n \" ,   \" o r d e r \" :   3 8 } ,   { \" c a s t _ i d \" :   6 0 ,   \" c h a r a c t e r \" :   \" T r o u p e \" ,   \" c r e d i t _ i d \" :   \" 5 2 f e 4 8 0 0 9 2 5 1 4 1 6 c 7 5 0 a c a c 7 \" ,   \" g e n d e r \" :   0 ,   \" i d \" :   1 2 0 7 2 5 9 ,   \" n a m e \" :   \" J o s e p h   B r a d y   M a d d e n \" ,   \" o r d e r \" :   3 9 } ,   { \" c a s t _ i d \" :   6 1 ,   \" c h a r a c t e r \" :   \" T r o u p e \" ,   \" c r e d i t _ i d \" :   \" 5 2 f e 4 8 0 0 9 2 5 1 4 1 6 c 7 5 0 a c a c b \" ,   \" g e n d e r \" :   0 ,   \" i d \" :   1 2 0 7 2 6 2 ,   \" n a m e \" :   \" F r a n k i e   T o r r e s \" ,   \" o r d e r \" :   4 0 } ,   { \" c a s t _ i d \" :   6 2 ,   \" c h a r a c t e r \" :   \" T r o u p e \" ,   \" c r e d i t _ i d \" :   \" 5 2 f e 4 8 0 0 9 2 5 1 4 1 6 c 7 5 0 a c a c f \" ,   \" g e n d e r \" :   1 ,   \" i d \" :   1 1 5 8 6 0 0 ,   \" n a m e \" :   \" A u s t i n   W i l s o n \" ,   \" o r d e r \" :   4 1 } ,   { \" c a s t _ i d \" :   6 3 ,   \" c h a r a c t e r \" :   \" T r o u p e \" ,   \" c r e d i t _ i d \" :   \" 5 2 f e 4 8 0 1 9 2 5 1 4 1 6 c 7 5 0 a c a d 3 \" ,   \" g e n d e r \" :   1 ,   \" i d \" :   9 8 3 7 0 5 ,   \" n a m e \" :   \" S a r a   W i l s o n \" ,   \" o r d e r \" :   4 2 } ,   { \" c a s t _ i d \" :   6 4 ,   \" c h a r a c t e r \" :   \" T r o u p e \" ,   \" c r e d i t _ i d \" :   \" 5 2 f e 4 8 0 1 9 2 5 1 4 1 6 c 7 5 0 a c a d 7 \" ,   \" g e n d e r \" :   0 ,   \" i d \" :   1 2 0 7 2 6 3 ,   \" n a m e \" :   \" T a m i c a   W a s h i n g t o n - M i l l e r \" ,   \" o r d e r \" :   4 3 } ,   { \" c a s t _ i d \" :   6 5 ,   \" c h a r a c t e r \" :   \" O p   C e n t e r   S t a f f \" ,   \" c r e d i t _ i d \" :   \" 5 2 f e 4 8 0 1 9 2 5 1 4 1 6 c 7 5 0 a c a d b \" ,   \" g e n d e r \" :   1 ,   \" i d \" :   1 1 4 5 0 9 8 ,   \" n a m e \" :   \" L u c y   B r i a n t \" ,   \" o r d e r \" :   4 4 } ,   { \" c a s t _ i d \" :   6 6 ,   \" c h a r a c t e r \" :   \" O p   C e n t e r   S t a f f \" ,   \" c r e d i t _ i d \" :   \" 5 2 f e 4 8 0 1 9 2 5 1 4 1 6 c 7 5 0 a c a d f \" ,   \" g e n d e r \" :   2 ,   \" i d \" :   3 3 3 0 5 ,   \" n a m e \" :   \" N a t h a n   M e i s t e r \" ,   \" o r d e r \" :   4 5 } ,   { \" c a s t _ i d \" :   6 7 ,   \" c h a r a c t e r \" :   \" O p   C e n t e r   S t a f f \" ,   \" c r e d i t _ i d \" :   \" 5 2 f e 4 8 0 1 9 2 5 1 4 1 6 c 7 5 0 a c a e 3 \" ,   \" g e n d e r \" :   0 ,   \" i d \" :   1 2 0 7 2 6 4 ,   \" n a m e \" :   \" G e r r y   B l a i r \" ,   \" o r d e r \" :   4 6 } ,   { \" c a s t _ i d \" :   6 8 ,   \" c h a r a c t e r \" :   \" O p   C e n t e r   S t a f f \" ,   \" c r e d i t _ i d \" :   \" 5 2 f e 4 8 0 1 9 2 5 1 4 1 6 c 7 5 0 a c a e 7 \" ,   \" g e n d e r \" :   2 ,   \" i d \" :   3 3 3 1 1 ,   \" n a m e \" :   \" M a t t h e w   C h a m b e r l a i n \" ,   \" o r d e r \" :   4 7 } ,   { \" c a s t _ i d \" :   6 9 ,   \" c h a r a c t e r \" :   \" O p   C e n t e r   S t a f f \" ,   \" c r e d i t _ i d \" :   \" 5 2 f e 4 8 0 1 9 2 5 1 4 1 6 c 7 5 0 a c a e b \" ,   \" g e n d e r \" :   0 ,   \" i d \" :   1 2 0 7 2 6 5 ,   \" n a m e \" :   \" P a u l   Y a t e s \" ,   \" o r d e r \" :   4 8 } ,   { \" c a s t _ i d \" :   7 0 ,   \" c h a r a c t e r \" :   \" O p   C e n t e r   D u t y   O f f i c e r \" ,   \" c r e d i t _ i d \" :   \" 5 2 f e 4 8 0 1 9 2 5 1 4 1 6 c 7 5 0 a c a e f \" ,   \" g e n d e r \" :   0 ,   \" i d \" :   1 2 0 7 2 6 6 ,   \" n a m e \" :   \" W r a y   W i l s o n \" ,   \" o r d e r \" :   4 9 } ,   { \" c a s t _ i d \" :   7 1 ,   \" c h a r a c t e r \" :   \" O p   C e n t e r   S t a f f \" ,   \" c r e d i t _ i d \" :   \" 5 2 f e 4 8 0 1 9 2 5 1 4 1 6 c 7 5 0 a c a f 3 \" ,   \" g e n d e r \" :   2 ,   \" i d \" :   5 4 4 9 2 ,   \" n a m e \" :   \" J a m e s   G a y l y n \" ,   \" o r d e r \" :   5 0 } ,   { \" c a s t _ i d \" :   7 2 ,   \" c h a r a c t e r \" :   \" D a n c e r \" ,   \" c r e d i t _ i d \" :   \" 5 2 f e 4 8 0 1 9 2 5 1 4 1 6 c 7 5 0 a c a f 7 \" ,   \" g e n d e r \" :   0 ,   \" i d \" :   1 2 0 7 2 6 7 ,   \" n a m e \" :   \" M e l v i n   L e n o   C l a r k   I I I \" ,   \" o r d e r \" :   5 1 } ,   { \" c a s t _ i d \" :   7 3 ,   \" c h a r a c t e r \" :   \" D a n c e r \" ,   \" c r e d i t _ i d \" :   \" 5 2 f e 4 8 0 1 9 2 5 1 4 1 6 c 7 5 0 a c a f b \" ,   \" g e n d e r \" :   0 ,   \" i d \" :   1 2 0 7 2 6 8 ,   \" n a m e \" :   \" C a r v o n   F u t r e l l \" ,   \" o r d e r \" :   5 2 } ,   { \" c a s t _ i d \" :   7 4 ,   \" c h a r a c t e r \" :   \" D a n c e r \" ,   \" c r e d i t _ i d \" :   \" 5 2 f e 4 8 0 1 9 2 5 1 4 1 6 c 7 5 0 a c a f f \" ,   \" g e n d e r \" :   0 ,   \" i d \" :   1 2 0 7 2 6 9 ,   \" n a m e \" :   \" B r a n d o n   J e l k e s \" ,   \" o r d e r \" :   5 3 } ,   { \" c a s t _ i d \" :   7 5 ,   \" c h a r a c t e r \" :   \" D a n c e r \" ,   \" c r e d i t _ i d \" :   \" 5 2 f e 4 8 0 1 9 2 5 1 4 1 6 c 7 5 0 a c b 0 3 \" ,   \" g e n d e r \" :   0 ,   \" i d \" :   1 2 0 7 2 7 0 ,   \" n a m e \" :   \" M i c a h   M o c h \" ,   \" o r d e r \" :   5 4 } ,   { \" c a s t _ i d \" :   7 6 ,   \" c h a r a c t e r \" :   \" D a n c e r \" ,   \" c r e d i t _ i d \" :   \" 5 2 f e 4 8 0 1 9 2 5 1 4 1 6 c 7 5 0 a c b 0 7 \" ,   \" g e n d e r \" :   0 ,   \" i d \" :   1 2 0 7 2 7 1 ,   \" n a m e \" :   \" H a n n i y a h   M u h a m m a d \" ,   \" o r d e r \" :   5 5 } ,   { \" c a s t _ i d \" :   7 7 ,   \" c h a r a c t e r \" :   \" D a n c e r \" ,   \" c r e d i t _ i d \" :   \" 5 2 f e 4 8 0 1 9 2 5 1 4 1 6 c 7 5 0 a c b 0 b \" ,   \" g e n d e r \" :   0 ,   \" i d \" :   1 2 0 7 2 7 2 ,   \" n a m e \" :   \" C h r i s t o p h e r   N o l e n \" ,   \" o r d e r \" :   5 6 } ,   { \" c a s t _ i d \" :   7 8 ,   \" c h a r a c t e r \" :   \" D a n c e r \" ,   \" c r e d i t _ i d \" :   \" 5 2 f e 4 8 0 1 9 2 5 1 4 1 6 c 7 5 0 a c b 0 f \" ,   \" g e n d e r \" :   0 ,   \" i d \" :   1 2 0 7 2 7 3 ,   \" n a m e \" :   \" C h r i s t a   O l i v e r \" ,   \" o r d e r \" :   5 7 } ,   { \" c a s t _ i d \" :   7 9 ,   \" c h a r a c t e r \" :   \" D a n c e r \" ,   \" c r e d i t _ i d \" :   \" 5 2 f e 4 8 0 1 9 2 5 1 4 1 6 c 7 5 0 a c b 1 3 \" ,   \" g e n d e r \" :   0 ,   \" i d \" :   1 2 0 7 2 7 4 ,   \" n a m e \" :   \" A p r i l   M a r i e   T h o m a s \" ,   \" o r d e r \" :   5 8 } ,   { \" c a s t _ i d \" :   8 0 ,   \" c h a r a c t e r \" :   \" D a n c e r \" ,   \" c r e d i t _ i d \" :   \" 5 2 f e 4 8 0 1 9 2 5 1 4 1 6 c 7 5 0 a c b 1 7 \" ,   \" g e n d e r \" :   0 ,   \" i d \" :   1 2 0 7 2 7 5 ,   \" n a m e \" :   \" B r a v i t a   A .   T h r e a t t \" ,   \" o r d e r \" :   5 9 } ,   { \" c a s t _ i d \" :   8 1 ,   \" c h a r a c t e r \" :   \" M i n i n g   C h i e f   ( u n c r e d i t e d ) \" ,   \" c r e d i t _ i d \" :   \" 5 2 f e 4 8 0 1 9 2 5 1 4 1 6 c 7 5 0 a c b 1 b \" ,   \" g e n d e r \" :   0 ,   \" i d \" :   1 2 0 7 2 7 6 ,   \" n a m e \" :   \" C o l i n   B l e a s d a l e \" ,   \" o r d e r \" :   6 0 } ,   { \" c a s t _ i d \" :   8 2 ,   \" c h a r a c t e r \" :   \" V e t e r a n   M i n e r   ( u n c r e d i t e d ) \" ,   \" c r e d i t _ i d \" :   \" 5 2 f e 4 8 0 1 9 2 5 1 4 1 6 c 7 5 0 a c b 1 f \" ,   \" g e n d e r \" :   0 ,   \" i d \" :   1 0 7 9 6 9 ,   \" n a m e \" :   \" M i k e   B o d n a r \" ,   \" o r d e r \" :   6 1 } ,   { \" c a s t _ i d \" :   8 3 ,   \" c h a r a c t e r \" :   \" R i c h a r d   ( u n c r e d i t e d ) \" ,   \" c r e d i t _ i d \" :   \" 5 2 f e 4 8 0 1 9 2 5 1 4 1 6 c 7 5 0 a c b 2 3 \" ,   \" g e n d e r \" :   0 ,   \" i d \" :   1 2 0 7 2 7 8 ,   \" n a m e \" :   \" M a t t   C l a y t o n \" ,   \" o r d e r \" :   6 2 } ,   { \" c a s t _ i d \" :   8 4 ,   \" c h a r a c t e r \" :   \" N a v \\' i   ( u n c r e d i t e d ) \" ,   \" c r e d i t _ i d \" :   \" 5 2 f e 4 8 0 1 9 2 5 1 4 1 6 c 7 5 0 a c b 2 7 \" ,   \" g e n d e r \" :   1 ,   \" i d \" :   1 4 7 8 9 8 ,   \" n a m e \" :   \" N i c o l e   D i o n n e \" ,   \" o r d e r \" :   6 3 } ,   { \" c a s t _ i d \" :   8 5 ,   \" c h a r a c t e r \" :   \" T r o o p e r   ( u n c r e d i t e d ) \" ,   \" c r e d i t _ i d \" :   \" 5 2 f e 4 8 0 1 9 2 5 1 4 1 6 c 7 5 0 a c b 2 b \" ,   \" g e n d e r \" :   0 ,   \" i d \" :   1 2 0 7 2 8 0 ,   \" n a m e \" :   \" J a m i e   H a r r i s o n \" ,   \" o r d e r \" :   6 4 } ,   { \" c a s t _ i d \" :   8 6 ,   \" c h a r a c t e r \" :   \" T r o o p e r   ( u n c r e d i t e d ) \" ,   \" c r e d i t _ i d \" :   \" 5 2 f e 4 8 0 1 9 2 5 1 4 1 6 c 7 5 0 a c b 2 f \" ,   \" g e n d e r \" :   0 ,   \" i d \" :   1 2 0 7 2 8 1 ,   \" n a m e \" :   \" A l l a n   H e n r y \" ,   \" o r d e r \" :   6 5 } ,   { \" c a s t _ i d \" :   8 7 ,   \" c h a r a c t e r \" :   \" G r o u n d   T e c h n i c i a n   ( u n c r e d i t e d ) \" ,   \" c r e d i t _ i d \" :   \" 5 2 f e 4 8 0 1 9 2 5 1 4 1 6 c 7 5 0 a c b 3 3 \" ,   \" g e n d e r \" :   2 ,   \" i d \" :   1 2 0 7 2 8 2 ,   \" n a m e \" :   \" A n t h o n y   I n g r u b e r \" ,   \" o r d e r \" :   6 6 } ,   { \" c a s t _ i d \" :   8 8 ,   \" c h a r a c t e r \" :   \" F l i g h t   C r e w   M e c h a n i c   ( u n c r e d i t e d ) \" ,   \" c r e d i t _ i d \" :   \" 5 2 f e 4 8 0 1 9 2 5 1 4 1 6 c 7 5 0 a c b 3 7 \" ,   \" g e n d e r \" :   0 ,   \" i d \" :   1 2 0 7 2 8 3 ,   \" n a m e \" :   \" A s h l e y   J e f f e r y \" ,   \" o r d e r \" :   6 7 } ,   { \" c a s t _ i d \" :   1 4 ,   \" c h a r a c t e r \" :   \" S a m s o n   P i l o t \" ,   \" c r e d i t _ i d \" :   \" 5 2 f e 4 8 0 0 9 2 5 1 4 1 6 c 7 5 0 a c 9 f 9 \" ,   \" g e n d e r \" :   0 ,   \" i d \" :   9 8 2 1 6 ,   \" n a m e \" :   \" D e a n   K n o w s l e y \" ,   \" o r d e r \" :   6 8 } ,   { \" c a s t _ i d \" :   8 9 ,   \" c h a r a c t e r \" :   \" T r o o p e r   ( u n c r e d i t e d ) \" ,   \" c r e d i t _ i d \" :   \" 5 2 f e 4 8 0 1 9 2 5 1 4 1 6 c 7 5 0 a c b 3 b \" ,   \" g e n d e r \" :   0 ,   \" i d \" :   1 2 0 1 3 9 9 ,   \" n a m e \" :   \" J o s e p h   M i k a - H u n t \" ,   \" o r d e r \" :   6 9 } ,   { \" c a s t _ i d \" :   9 0 ,   \" c h a r a c t e r \" :   \" B a n s h e e   ( u n c r e d i t e d ) \" ,   \" c r e d i t _ i d \" :   \" 5 2 f e 4 8 0 1 9 2 5 1 4 1 6 c 7 5 0 a c b 3 f \" ,   \" g e n d e r \" :   0 ,   \" i d \" :   2 3 6 6 9 6 ,   \" n a m e \" :   \" T e r r y   N o t a r y \" ,   \" o r d e r \" :   7 0 } ,   { \" c a s t _ i d \" :   9 1 ,   \" c h a r a c t e r \" :   \" S o l d i e r   ( u n c r e d i t e d ) \" ,   \" c r e d i t _ i d \" :   \" 5 2 f e 4 8 0 1 9 2 5 1 4 1 6 c 7 5 0 a c b 4 3 \" ,   \" g e n d e r \" :   0 ,   \" i d \" :   1 2 0 7 2 8 7 ,   \" n a m e \" :   \" K a i   P a n t a n o \" ,   \" o r d e r \" :   7 1 } ,   { \" c a s t _ i d \" :   9 2 ,   \" c h a r a c t e r \" :   \" B l a s t   T e c h n i c i a n   ( u n c r e d i t e d ) \" ,   \" c r e d i t _ i d \" :   \" 5 2 f e 4 8 0 1 9 2 5 1 4 1 6 c 7 5 0 a c b 4 7 \" ,   \" g e n d e r \" :   0 ,   \" i d \" :   1 2 0 7 2 8 8 ,   \" n a m e \" :   \" L o g a n   P i t h y o u \" ,   \" o r d e r \" :   7 2 } ,   { \" c a s t _ i d \" :   9 3 ,   \" c h a r a c t e r \" :   \" V i n d u m   R a a h   ( u n c r e d i t e d ) \" ,   \" c r e d i t _ i d \" :   \" 5 2 f e 4 8 0 1 9 2 5 1 4 1 6 c 7 5 0 a c b 4 b \" ,   \" g e n d e r \" :   0 ,   \" i d \" :   1 2 0 7 2 8 9 ,   \" n a m e \" :   \" S t u a r t   P o l l o c k \" ,   \" o r d e r \" :   7 3 } ,   { \" c a s t _ i d \" :   9 4 ,   \" c h a r a c t e r \" :   \" H e r o   ( u n c r e d i t e d ) \" ,   \" c r e d i t _ i d \" :   \" 5 2 f e 4 8 0 1 9 2 5 1 4 1 6 c 7 5 0 a c b 4 f \" ,   \" g e n d e r \" :   0 ,   \" i d \" :   5 8 4 8 6 8 ,   \" n a m e \" :   \" R a j a \" ,   \" o r d e r \" :   7 4 } ,   { \" c a s t _ i d \" :   9 5 ,   \" c h a r a c t e r \" :   \" O p s   C e n t r e w o r k e r   ( u n c r e d i t e d ) \" ,   \" c r e d i t _ i d \" :   \" 5 2 f e 4 8 0 1 9 2 5 1 4 1 6 c 7 5 0 a c b 5 3 \" ,   \" g e n d e r \" :   0 ,   \" i d \" :   1 2 0 7 2 9 0 ,   \" n a m e \" :   \" G a r e t h   R u c k \" ,   \" o r d e r \" :   7 5 } ,   { \" c a s t _ i d \" :   9 6 ,   \" c h a r a c t e r \" :   \" E n g i n e e r   ( u n c r e d i t e d ) \" ,   \" c r e d i t _ i d \" :   \" 5 2 f e 4 8 0 1 9 2 5 1 4 1 6 c 7 5 0 a c b 5 7 \" ,   \" g e n d e r \" :   0 ,   \" i d \" :   1 0 6 2 4 6 3 ,   \" n a m e \" :   \" R h i a n   S h e e h a n \" ,   \" o r d e r \" :   7 6 } ,   { \" c a s t _ i d \" :   9 7 ,   \" c h a r a c t e r \" :   \" C o l .   Q u a r i t c h \\' s   M e c h   S u i t   ( u n c r e d i t e d ) \" ,   \" c r e d i t _ i d \" :   \" 5 2 f e 4 8 0 1 9 2 5 1 4 1 6 c 7 5 0 a c b 5 b \" ,   \" g e n d e r \" :   0 ,   \" i d \" :   6 0 6 5 6 ,   \" n a m e \" :   \" T .   J .   S t o r m \" ,   \" o r d e r \" :   7 7 } ,   { \" c a s t _ i d \" :   9 8 ,   \" c h a r a c t e r \" :   \" F e m a l e   M a r i n e   ( u n c r e d i t e d ) \" ,   \" c r e d i t _ i d \" :   \" 5 2 f e 4 8 0 1 9 2 5 1 4 1 6 c 7 5 0 a c b 5 f \" ,   \" g e n d e r \" :   0 ,   \" i d \" :   1 2 0 7 2 9 1 ,   \" n a m e \" :   \" J o d i e   T a y l o r \" ,   \" o r d e r \" :   7 8 } ,   { \" c a s t _ i d \" :   9 9 ,   \" c h a r a c t e r \" :   \" I k r a n   C l a n   L e a d e r   ( u n c r e d i t e d ) \" ,   \" c r e d i t _ i d \" :   \" 5 2 f e 4 8 0 1 9 2 5 1 4 1 6 c 7 5 0 a c b 6 3 \" ,   \" g e n d e r \" :   1 ,   \" i d \" :   1 1 8 6 0 2 7 ,   \" n a m e \" :   \" A l i c i a   V e l a - B a i l e y \" ,   \" o r d e r \" :   7 9 } ,   { \" c a s t _ i d \" :   1 0 0 ,   \" c h a r a c t e r \" :   \" G e o l o g i s t   ( u n c r e d i t e d ) \" ,   \" c r e d i t _ i d \" :   \" 5 2 f e 4 8 0 1 9 2 5 1 4 1 6 c 7 5 0 a c b 6 7 \" ,   \" g e n d e r \" :   0 ,   \" i d \" :   1 2 0 7 2 9 2 ,   \" n a m e \" :   \" R i c h a r d   W h i t e s i d e \" ,   \" o r d e r \" :   8 0 } ,   { \" c a s t _ i d \" :   1 0 1 ,   \" c h a r a c t e r \" :   \" N a \\' v i   ( u n c r e d i t e d ) \" ,   \" c r e d i t _ i d \" :   \" 5 2 f e 4 8 0 1 9 2 5 1 4 1 6 c 7 5 0 a c b 6 b \" ,   \" g e n d e r \" :   0 ,   \" i d \" :   1 0 3 2 5 9 ,   \" n a m e \" :   \" N i k i e   Z a m b o \" ,   \" o r d e r \" :   8 1 } ,   { \" c a s t _ i d \" :   1 0 2 ,   \" c h a r a c t e r \" :   \" A m b i e n t   R o o m   T e c h   /   T r o u p e \" ,   \" c r e d i t _ i d \" :   \" 5 2 f e 4 8 0 1 9 2 5 1 4 1 6 c 7 5 0 a c b 6 f \" ,   \" g e n d e r \" :   1 ,   \" i d \" :   4 2 2 8 6 ,   \" n a m e \" :   \" J u l e n e   R e n e e \" ,   \" o r d e r \" :   8 2 } ] James Cameron'"
      ]
     },
     "execution_count": 40,
     "metadata": {},
     "output_type": "execute_result"
    }
   ],
   "source": [
    "new_df.iloc[0].tags"
   ]
  },
  {
   "cell_type": "code",
   "execution_count": 41,
   "id": "e0db5697",
   "metadata": {
    "execution": {
     "iopub.execute_input": "2023-01-27T15:22:08.735002Z",
     "iopub.status.busy": "2023-01-27T15:22:08.733671Z",
     "iopub.status.idle": "2023-01-27T15:22:08.783950Z",
     "shell.execute_reply": "2023-01-27T15:22:08.782473Z"
    },
    "papermill": {
     "duration": 0.077325,
     "end_time": "2023-01-27T15:22:08.786974",
     "exception": false,
     "start_time": "2023-01-27T15:22:08.709649",
     "status": "completed"
    },
    "tags": []
   },
   "outputs": [
    {
     "name": "stderr",
     "output_type": "stream",
     "text": [
      "/opt/conda/lib/python3.7/site-packages/ipykernel_launcher.py:2: SettingWithCopyWarning: \n",
      "A value is trying to be set on a copy of a slice from a DataFrame.\n",
      "Try using .loc[row_indexer,col_indexer] = value instead\n",
      "\n",
      "See the caveats in the documentation: https://pandas.pydata.org/pandas-docs/stable/user_guide/indexing.html#returning-a-view-versus-a-copy\n",
      "  \n"
     ]
    }
   ],
   "source": [
    "# Converting To Lower Case\n",
    "new_df['tags']=new_df['tags'].apply(lambda x:x.lower())\n"
   ]
  },
  {
   "cell_type": "code",
   "execution_count": 42,
   "id": "01e7bc92",
   "metadata": {
    "execution": {
     "iopub.execute_input": "2023-01-27T15:22:08.833620Z",
     "iopub.status.busy": "2023-01-27T15:22:08.833226Z",
     "iopub.status.idle": "2023-01-27T15:22:08.842662Z",
     "shell.execute_reply": "2023-01-27T15:22:08.841403Z"
    },
    "papermill": {
     "duration": 0.036464,
     "end_time": "2023-01-27T15:22:08.845714",
     "exception": false,
     "start_time": "2023-01-27T15:22:08.809250",
     "status": "completed"
    },
    "tags": []
   },
   "outputs": [
    {
     "data": {
      "text/plain": [
       "'in the 22nd century, a paraplegic marine is dispatched to the moon pandora on a unique mission, but becomes torn between following orders and protecting an alien civilization. action adventure fantasy science fiction culture clash future space war space colony society space travel futuristic romance space alien tribe alien planet cgi marine soldier battle love affair anti war power relations mind and soul 3d [ { \" c a s t _ i d \" :   2 4 2 ,   \" c h a r a c t e r \" :   \" j a k e   s u l l y \" ,   \" c r e d i t _ i d \" :   \" 5 6 0 2 a 8 a 7 c 3 a 3 6 8 5 5 3 2 0 0 1 c 9 a \" ,   \" g e n d e r \" :   2 ,   \" i d \" :   6 5 7 3 1 ,   \" n a m e \" :   \" s a m   w o r t h i n g t o n \" ,   \" o r d e r \" :   0 } ,   { \" c a s t _ i d \" :   3 ,   \" c h a r a c t e r \" :   \" n e y t i r i \" ,   \" c r e d i t _ i d \" :   \" 5 2 f e 4 8 0 0 9 2 5 1 4 1 6 c 7 5 0 a c 9 c b \" ,   \" g e n d e r \" :   1 ,   \" i d \" :   8 6 9 1 ,   \" n a m e \" :   \" z o e   s a l d a n a \" ,   \" o r d e r \" :   1 } ,   { \" c a s t _ i d \" :   2 5 ,   \" c h a r a c t e r \" :   \" d r .   g r a c e   a u g u s t i n e \" ,   \" c r e d i t _ i d \" :   \" 5 2 f e 4 8 0 0 9 2 5 1 4 1 6 c 7 5 0 a c a 3 9 \" ,   \" g e n d e r \" :   1 ,   \" i d \" :   1 0 2 0 5 ,   \" n a m e \" :   \" s i g o u r n e y   w e a v e r \" ,   \" o r d e r \" :   2 } ,   { \" c a s t _ i d \" :   4 ,   \" c h a r a c t e r \" :   \" c o l .   q u a r i t c h \" ,   \" c r e d i t _ i d \" :   \" 5 2 f e 4 8 0 0 9 2 5 1 4 1 6 c 7 5 0 a c 9 c f \" ,   \" g e n d e r \" :   2 ,   \" i d \" :   3 2 7 4 7 ,   \" n a m e \" :   \" s t e p h e n   l a n g \" ,   \" o r d e r \" :   3 } ,   { \" c a s t _ i d \" :   5 ,   \" c h a r a c t e r \" :   \" t r u d y   c h a c o n \" ,   \" c r e d i t _ i d \" :   \" 5 2 f e 4 8 0 0 9 2 5 1 4 1 6 c 7 5 0 a c 9 d 3 \" ,   \" g e n d e r \" :   1 ,   \" i d \" :   1 7 6 4 7 ,   \" n a m e \" :   \" m i c h e l l e   r o d r i g u e z \" ,   \" o r d e r \" :   4 } ,   { \" c a s t _ i d \" :   8 ,   \" c h a r a c t e r \" :   \" s e l f r i d g e \" ,   \" c r e d i t _ i d \" :   \" 5 2 f e 4 8 0 0 9 2 5 1 4 1 6 c 7 5 0 a c 9 e 1 \" ,   \" g e n d e r \" :   2 ,   \" i d \" :   1 7 7 1 ,   \" n a m e \" :   \" g i o v a n n i   r i b i s i \" ,   \" o r d e r \" :   5 } ,   { \" c a s t _ i d \" :   7 ,   \" c h a r a c t e r \" :   \" n o r m   s p e l l m a n \" ,   \" c r e d i t _ i d \" :   \" 5 2 f e 4 8 0 0 9 2 5 1 4 1 6 c 7 5 0 a c 9 d d \" ,   \" g e n d e r \" :   2 ,   \" i d \" :   5 9 2 3 1 ,   \" n a m e \" :   \" j o e l   d a v i d   m o o r e \" ,   \" o r d e r \" :   6 } ,   { \" c a s t _ i d \" :   9 ,   \" c h a r a c t e r \" :   \" m o a t \" ,   \" c r e d i t _ i d \" :   \" 5 2 f e 4 8 0 0 9 2 5 1 4 1 6 c 7 5 0 a c 9 e 5 \" ,   \" g e n d e r \" :   1 ,   \" i d \" :   3 0 4 8 5 ,   \" n a m e \" :   \" c c h   p o u n d e r \" ,   \" o r d e r \" :   7 } ,   { \" c a s t _ i d \" :   1 1 ,   \" c h a r a c t e r \" :   \" e y t u k a n \" ,   \" c r e d i t _ i d \" :   \" 5 2 f e 4 8 0 0 9 2 5 1 4 1 6 c 7 5 0 a c 9 e d \" ,   \" g e n d e r \" :   2 ,   \" i d \" :   1 5 8 5 3 ,   \" n a m e \" :   \" w e s   s t u d i \" ,   \" o r d e r \" :   8 } ,   { \" c a s t _ i d \" :   1 0 ,   \" c h a r a c t e r \" :   \" t s u \\' t e y \" ,   \" c r e d i t _ i d \" :   \" 5 2 f e 4 8 0 0 9 2 5 1 4 1 6 c 7 5 0 a c 9 e 9 \" ,   \" g e n d e r \" :   2 ,   \" i d \" :   1 0 9 6 4 ,   \" n a m e \" :   \" l a z   a l o n s o \" ,   \" o r d e r \" :   9 } ,   { \" c a s t _ i d \" :   1 2 ,   \" c h a r a c t e r \" :   \" d r .   m a x   p a t e l \" ,   \" c r e d i t _ i d \" :   \" 5 2 f e 4 8 0 0 9 2 5 1 4 1 6 c 7 5 0 a c 9 f 1 \" ,   \" g e n d e r \" :   2 ,   \" i d \" :   9 5 6 9 7 ,   \" n a m e \" :   \" d i l e e p   r a o \" ,   \" o r d e r \" :   1 0 } ,   { \" c a s t _ i d \" :   1 3 ,   \" c h a r a c t e r \" :   \" l y l e   w a i n f l e e t \" ,   \" c r e d i t _ i d \" :   \" 5 2 f e 4 8 0 0 9 2 5 1 4 1 6 c 7 5 0 a c 9 f 5 \" ,   \" g e n d e r \" :   2 ,   \" i d \" :   9 8 2 1 5 ,   \" n a m e \" :   \" m a t t   g e r a l d \" ,   \" o r d e r \" :   1 1 } ,   { \" c a s t _ i d \" :   3 2 ,   \" c h a r a c t e r \" :   \" p r i v a t e   f i k e \" ,   \" c r e d i t _ i d \" :   \" 5 2 f e 4 8 0 0 9 2 5 1 4 1 6 c 7 5 0 a c a 5 b \" ,   \" g e n d e r \" :   2 ,   \" i d \" :   1 5 4 1 5 3 ,   \" n a m e \" :   \" s e a n   a n t h o n y   m o r a n \" ,   \" o r d e r \" :   1 2 } ,   { \" c a s t _ i d \" :   3 3 ,   \" c h a r a c t e r \" :   \" c r y o   v a u l t   m e d   t e c h \" ,   \" c r e d i t _ i d \" :   \" 5 2 f e 4 8 0 0 9 2 5 1 4 1 6 c 7 5 0 a c a 5 f \" ,   \" g e n d e r \" :   2 ,   \" i d \" :   3 9 7 3 1 2 ,   \" n a m e \" :   \" j a s o n   w h y t e \" ,   \" o r d e r \" :   1 3 } ,   { \" c a s t _ i d \" :   3 4 ,   \" c h a r a c t e r \" :   \" v e n t u r e   s t a r   c r e w   c h i e f \" ,   \" c r e d i t _ i d \" :   \" 5 2 f e 4 8 0 0 9 2 5 1 4 1 6 c 7 5 0 a c a 6 3 \" ,   \" g e n d e r \" :   2 ,   \" i d \" :   4 2 3 1 7 ,   \" n a m e \" :   \" s c o t t   l a w r e n c e \" ,   \" o r d e r \" :   1 4 } ,   { \" c a s t _ i d \" :   3 5 ,   \" c h a r a c t e r \" :   \" l o c k   u p   t r o o p e r \" ,   \" c r e d i t _ i d \" :   \" 5 2 f e 4 8 0 0 9 2 5 1 4 1 6 c 7 5 0 a c a 6 7 \" ,   \" g e n d e r \" :   2 ,   \" i d \" :   9 8 6 7 3 4 ,   \" n a m e \" :   \" k e l l y   k i l g o u r \" ,   \" o r d e r \" :   1 5 } ,   { \" c a s t _ i d \" :   3 6 ,   \" c h a r a c t e r \" :   \" s h u t t l e   p i l o t \" ,   \" c r e d i t _ i d \" :   \" 5 2 f e 4 8 0 0 9 2 5 1 4 1 6 c 7 5 0 a c a 6 b \" ,   \" g e n d e r \" :   0 ,   \" i d \" :   1 2 0 7 2 2 7 ,   \" n a m e \" :   \" j a m e s   p a t r i c k   p i t t \" ,   \" o r d e r \" :   1 6 } ,   { \" c a s t _ i d \" :   3 7 ,   \" c h a r a c t e r \" :   \" s h u t t l e   c o - p i l o t \" ,   \" c r e d i t _ i d \" :   \" 5 2 f e 4 8 0 0 9 2 5 1 4 1 6 c 7 5 0 a c a 6 f \" ,   \" g e n d e r \" :   0 ,   \" i d \" :   1 1 8 0 9 3 6 ,   \" n a m e \" :   \" s e a n   p a t r i c k   m u r p h y \" ,   \" o r d e r \" :   1 7 } ,   { \" c a s t _ i d \" :   3 8 ,   \" c h a r a c t e r \" :   \" s h u t t l e   c r e w   c h i e f \" ,   \" c r e d i t _ i d \" :   \" 5 2 f e 4 8 0 0 9 2 5 1 4 1 6 c 7 5 0 a c a 7 3 \" ,   \" g e n d e r \" :   2 ,   \" i d \" :   1 0 1 9 5 7 8 ,   \" n a m e \" :   \" p e t e r   d i l l o n \" ,   \" o r d e r \" :   1 8 } ,   { \" c a s t _ i d \" :   3 9 ,   \" c h a r a c t e r \" :   \" t r a c t o r   o p e r a t o r   /   t r o u p e \" ,   \" c r e d i t _ i d \" :   \" 5 2 f e 4 8 0 0 9 2 5 1 4 1 6 c 7 5 0 a c a 7 7 \" ,   \" g e n d e r \" :   0 ,   \" i d \" :   9 1 4 4 3 ,   \" n a m e \" :   \" k e v i n   d o r m a n \" ,   \" o r d e r \" :   1 9 } ,   { \" c a s t _ i d \" :   4 0 ,   \" c h a r a c t e r \" :   \" d r a g o n   g u n s h i p   p i l o t \" ,   \" c r e d i t _ i d \" :   \" 5 2 f e 4 8 0 0 9 2 5 1 4 1 6 c 7 5 0 a c a 7 b \" ,   \" g e n d e r \" :   2 ,   \" i d \" :   1 7 3 3 9 1 ,   \" n a m e \" :   \" k e l s o n   h e n d e r s o n \" ,   \" o r d e r \" :   2 0 } ,   { \" c a s t _ i d \" :   4 1 ,   \" c h a r a c t e r \" :   \" d r a g o n   g u n s h i p   g u n n e r \" ,   \" c r e d i t _ i d \" :   \" 5 2 f e 4 8 0 0 9 2 5 1 4 1 6 c 7 5 0 a c a 7 f \" ,   \" g e n d e r \" :   0 ,   \" i d \" :   1 2 0 7 2 3 6 ,   \" n a m e \" :   \" d a v i d   v a n   h o r n \" ,   \" o r d e r \" :   2 1 } ,   { \" c a s t _ i d \" :   4 2 ,   \" c h a r a c t e r \" :   \" d r a g o n   g u n s h i p   n a v i g a t o r \" ,   \" c r e d i t _ i d \" :   \" 5 2 f e 4 8 0 0 9 2 5 1 4 1 6 c 7 5 0 a c a 8 3 \" ,   \" g e n d e r \" :   0 ,   \" i d \" :   2 1 5 9 1 3 ,   \" n a m e \" :   \" j a c o b   t o m u r i \" ,   \" o r d e r \" :   2 2 } ,   { \" c a s t _ i d \" :   4 3 ,   \" c h a r a c t e r \" :   \" s u i t   # 1 \" ,   \" c r e d i t _ i d \" :   \" 5 2 f e 4 8 0 0 9 2 5 1 4 1 6 c 7 5 0 a c a 8 7 \" ,   \" g e n d e r \" :   0 ,   \" i d \" :   1 4 3 2 0 6 ,   \" n a m e \" :   \" m i c h a e l   b l a i n - r o z g a y \" ,   \" o r d e r \" :   2 3 } ,   { \" c a s t _ i d \" :   4 4 ,   \" c h a r a c t e r \" :   \" s u i t   # 2 \" ,   \" c r e d i t _ i d \" :   \" 5 2 f e 4 8 0 0 9 2 5 1 4 1 6 c 7 5 0 a c a 8 b \" ,   \" g e n d e r \" :   2 ,   \" i d \" :   1 6 9 6 7 6 ,   \" n a m e \" :   \" j o n   c u r r y \" ,   \" o r d e r \" :   2 4 } ,   { \" c a s t _ i d \" :   4 6 ,   \" c h a r a c t e r \" :   \" a m b i e n t   r o o m   t e c h \" ,   \" c r e d i t _ i d \" :   \" 5 2 f e 4 8 0 0 9 2 5 1 4 1 6 c 7 5 0 a c a 8 f \" ,   \" g e n d e r \" :   0 ,   \" i d \" :   1 0 4 8 6 1 0 ,   \" n a m e \" :   \" l u k e   h a w k e r \" ,   \" o r d e r \" :   2 5 } ,   { \" c a s t _ i d \" :   4 7 ,   \" c h a r a c t e r \" :   \" a m b i e n t   r o o m   t e c h   /   t r o u p e \" ,   \" c r e d i t _ i d \" :   \" 5 2 f e 4 8 0 0 9 2 5 1 4 1 6 c 7 5 0 a c a 9 3 \" ,   \" g e n d e r \" :   0 ,   \" i d \" :   4 2 2 8 8 ,   \" n a m e \" :   \" w o o d y   s c h u l t z \" ,   \" o r d e r \" :   2 6 } ,   { \" c a s t _ i d \" :   4 8 ,   \" c h a r a c t e r \" :   \" h o r s e   c l a n   l e a d e r \" ,   \" c r e d i t _ i d \" :   \" 5 2 f e 4 8 0 0 9 2 5 1 4 1 6 c 7 5 0 a c a 9 7 \" ,   \" g e n d e r \" :   2 ,   \" i d \" :   6 8 2 7 8 ,   \" n a m e \" :   \" p e t e r   m e n s a h \" ,   \" o r d e r \" :   2 7 } ,   { \" c a s t _ i d \" :   4 9 ,   \" c h a r a c t e r \" :   \" l i n k   r o o m   t e c h \" ,   \" c r e d i t _ i d \" :   \" 5 2 f e 4 8 0 0 9 2 5 1 4 1 6 c 7 5 0 a c a 9 b \" ,   \" g e n d e r \" :   0 ,   \" i d \" :   1 2 0 7 2 4 7 ,   \" n a m e \" :   \" s o n i a   y e e \" ,   \" o r d e r \" :   2 8 } ,   { \" c a s t _ i d \" :   5 0 ,   \" c h a r a c t e r \" :   \" b a s k e t b a l l   a v a t a r   /   t r o u p e \" ,   \" c r e d i t _ i d \" :   \" 5 2 f e 4 8 0 0 9 2 5 1 4 1 6 c 7 5 0 a c a 9 f \" ,   \" g e n d e r \" :   1 ,   \" i d \" :   1 2 0 7 2 4 8 ,   \" n a m e \" :   \" j a h n e l   c u r f m a n \" ,   \" o r d e r \" :   2 9 } ,   { \" c a s t _ i d \" :   5 1 ,   \" c h a r a c t e r \" :   \" b a s k e t b a l l   a v a t a r \" ,   \" c r e d i t _ i d \" :   \" 5 2 f e 4 8 0 0 9 2 5 1 4 1 6 c 7 5 0 a c a a 3 \" ,   \" g e n d e r \" :   0 ,   \" i d \" :   8 9 7 1 4 ,   \" n a m e \" :   \" i l r a m   c h o i \" ,   \" o r d e r \" :   3 0 } ,   { \" c a s t _ i d \" :   5 2 ,   \" c h a r a c t e r \" :   \" n a \\' v i   c h i l d \" ,   \" c r e d i t _ i d \" :   \" 5 2 f e 4 8 0 0 9 2 5 1 4 1 6 c 7 5 0 a c a a 7 \" ,   \" g e n d e r \" :   0 ,   \" i d \" :   1 2 0 7 2 4 9 ,   \" n a m e \" :   \" k y l a   w a r r e n \" ,   \" o r d e r \" :   3 1 } ,   { \" c a s t _ i d \" :   5 3 ,   \" c h a r a c t e r \" :   \" t r o u p e \" ,   \" c r e d i t _ i d \" :   \" 5 2 f e 4 8 0 0 9 2 5 1 4 1 6 c 7 5 0 a c a a b \" ,   \" g e n d e r \" :   0 ,   \" i d \" :   1 2 0 7 2 5 0 ,   \" n a m e \" :   \" l i s a   r o u m a i n \" ,   \" o r d e r \" :   3 2 } ,   { \" c a s t _ i d \" :   5 4 ,   \" c h a r a c t e r \" :   \" t r o u p e \" ,   \" c r e d i t _ i d \" :   \" 5 2 f e 4 8 0 0 9 2 5 1 4 1 6 c 7 5 0 a c a a f \" ,   \" g e n d e r \" :   1 ,   \" i d \" :   8 3 1 0 5 ,   \" n a m e \" :   \" d e b r a   w i l s o n \" ,   \" o r d e r \" :   3 3 } ,   { \" c a s t _ i d \" :   5 7 ,   \" c h a r a c t e r \" :   \" t r o u p e \" ,   \" c r e d i t _ i d \" :   \" 5 2 f e 4 8 0 0 9 2 5 1 4 1 6 c 7 5 0 a c a b b \" ,   \" g e n d e r \" :   0 ,   \" i d \" :   1 2 0 7 2 5 3 ,   \" n a m e \" :   \" c h r i s   m a l a \" ,   \" o r d e r \" :   3 4 } ,   { \" c a s t _ i d \" :   5 5 ,   \" c h a r a c t e r \" :   \" t r o u p e \" ,   \" c r e d i t _ i d \" :   \" 5 2 f e 4 8 0 0 9 2 5 1 4 1 6 c 7 5 0 a c a b 3 \" ,   \" g e n d e r \" :   0 ,   \" i d \" :   1 2 0 7 2 5 1 ,   \" n a m e \" :   \" t a y l o r   k i b b y \" ,   \" o r d e r \" :   3 5 } ,   { \" c a s t _ i d \" :   5 6 ,   \" c h a r a c t e r \" :   \" t r o u p e \" ,   \" c r e d i t _ i d \" :   \" 5 2 f e 4 8 0 0 9 2 5 1 4 1 6 c 7 5 0 a c a b 7 \" ,   \" g e n d e r \" :   0 ,   \" i d \" :   1 2 0 7 2 5 2 ,   \" n a m e \" :   \" j o d i e   l a n d a u \" ,   \" o r d e r \" :   3 6 } ,   { \" c a s t _ i d \" :   5 8 ,   \" c h a r a c t e r \" :   \" t r o u p e \" ,   \" c r e d i t _ i d \" :   \" 5 2 f e 4 8 0 0 9 2 5 1 4 1 6 c 7 5 0 a c a b f \" ,   \" g e n d e r \" :   0 ,   \" i d \" :   1 2 0 7 2 5 4 ,   \" n a m e \" :   \" j u l i e   l a m m \" ,   \" o r d e r \" :   3 7 } ,   { \" c a s t _ i d \" :   5 9 ,   \" c h a r a c t e r \" :   \" t r o u p e \" ,   \" c r e d i t _ i d \" :   \" 5 2 f e 4 8 0 0 9 2 5 1 4 1 6 c 7 5 0 a c a c 3 \" ,   \" g e n d e r \" :   0 ,   \" i d \" :   1 2 0 7 2 5 7 ,   \" n a m e \" :   \" c u l l e n   b .   m a d d e n \" ,   \" o r d e r \" :   3 8 } ,   { \" c a s t _ i d \" :   6 0 ,   \" c h a r a c t e r \" :   \" t r o u p e \" ,   \" c r e d i t _ i d \" :   \" 5 2 f e 4 8 0 0 9 2 5 1 4 1 6 c 7 5 0 a c a c 7 \" ,   \" g e n d e r \" :   0 ,   \" i d \" :   1 2 0 7 2 5 9 ,   \" n a m e \" :   \" j o s e p h   b r a d y   m a d d e n \" ,   \" o r d e r \" :   3 9 } ,   { \" c a s t _ i d \" :   6 1 ,   \" c h a r a c t e r \" :   \" t r o u p e \" ,   \" c r e d i t _ i d \" :   \" 5 2 f e 4 8 0 0 9 2 5 1 4 1 6 c 7 5 0 a c a c b \" ,   \" g e n d e r \" :   0 ,   \" i d \" :   1 2 0 7 2 6 2 ,   \" n a m e \" :   \" f r a n k i e   t o r r e s \" ,   \" o r d e r \" :   4 0 } ,   { \" c a s t _ i d \" :   6 2 ,   \" c h a r a c t e r \" :   \" t r o u p e \" ,   \" c r e d i t _ i d \" :   \" 5 2 f e 4 8 0 0 9 2 5 1 4 1 6 c 7 5 0 a c a c f \" ,   \" g e n d e r \" :   1 ,   \" i d \" :   1 1 5 8 6 0 0 ,   \" n a m e \" :   \" a u s t i n   w i l s o n \" ,   \" o r d e r \" :   4 1 } ,   { \" c a s t _ i d \" :   6 3 ,   \" c h a r a c t e r \" :   \" t r o u p e \" ,   \" c r e d i t _ i d \" :   \" 5 2 f e 4 8 0 1 9 2 5 1 4 1 6 c 7 5 0 a c a d 3 \" ,   \" g e n d e r \" :   1 ,   \" i d \" :   9 8 3 7 0 5 ,   \" n a m e \" :   \" s a r a   w i l s o n \" ,   \" o r d e r \" :   4 2 } ,   { \" c a s t _ i d \" :   6 4 ,   \" c h a r a c t e r \" :   \" t r o u p e \" ,   \" c r e d i t _ i d \" :   \" 5 2 f e 4 8 0 1 9 2 5 1 4 1 6 c 7 5 0 a c a d 7 \" ,   \" g e n d e r \" :   0 ,   \" i d \" :   1 2 0 7 2 6 3 ,   \" n a m e \" :   \" t a m i c a   w a s h i n g t o n - m i l l e r \" ,   \" o r d e r \" :   4 3 } ,   { \" c a s t _ i d \" :   6 5 ,   \" c h a r a c t e r \" :   \" o p   c e n t e r   s t a f f \" ,   \" c r e d i t _ i d \" :   \" 5 2 f e 4 8 0 1 9 2 5 1 4 1 6 c 7 5 0 a c a d b \" ,   \" g e n d e r \" :   1 ,   \" i d \" :   1 1 4 5 0 9 8 ,   \" n a m e \" :   \" l u c y   b r i a n t \" ,   \" o r d e r \" :   4 4 } ,   { \" c a s t _ i d \" :   6 6 ,   \" c h a r a c t e r \" :   \" o p   c e n t e r   s t a f f \" ,   \" c r e d i t _ i d \" :   \" 5 2 f e 4 8 0 1 9 2 5 1 4 1 6 c 7 5 0 a c a d f \" ,   \" g e n d e r \" :   2 ,   \" i d \" :   3 3 3 0 5 ,   \" n a m e \" :   \" n a t h a n   m e i s t e r \" ,   \" o r d e r \" :   4 5 } ,   { \" c a s t _ i d \" :   6 7 ,   \" c h a r a c t e r \" :   \" o p   c e n t e r   s t a f f \" ,   \" c r e d i t _ i d \" :   \" 5 2 f e 4 8 0 1 9 2 5 1 4 1 6 c 7 5 0 a c a e 3 \" ,   \" g e n d e r \" :   0 ,   \" i d \" :   1 2 0 7 2 6 4 ,   \" n a m e \" :   \" g e r r y   b l a i r \" ,   \" o r d e r \" :   4 6 } ,   { \" c a s t _ i d \" :   6 8 ,   \" c h a r a c t e r \" :   \" o p   c e n t e r   s t a f f \" ,   \" c r e d i t _ i d \" :   \" 5 2 f e 4 8 0 1 9 2 5 1 4 1 6 c 7 5 0 a c a e 7 \" ,   \" g e n d e r \" :   2 ,   \" i d \" :   3 3 3 1 1 ,   \" n a m e \" :   \" m a t t h e w   c h a m b e r l a i n \" ,   \" o r d e r \" :   4 7 } ,   { \" c a s t _ i d \" :   6 9 ,   \" c h a r a c t e r \" :   \" o p   c e n t e r   s t a f f \" ,   \" c r e d i t _ i d \" :   \" 5 2 f e 4 8 0 1 9 2 5 1 4 1 6 c 7 5 0 a c a e b \" ,   \" g e n d e r \" :   0 ,   \" i d \" :   1 2 0 7 2 6 5 ,   \" n a m e \" :   \" p a u l   y a t e s \" ,   \" o r d e r \" :   4 8 } ,   { \" c a s t _ i d \" :   7 0 ,   \" c h a r a c t e r \" :   \" o p   c e n t e r   d u t y   o f f i c e r \" ,   \" c r e d i t _ i d \" :   \" 5 2 f e 4 8 0 1 9 2 5 1 4 1 6 c 7 5 0 a c a e f \" ,   \" g e n d e r \" :   0 ,   \" i d \" :   1 2 0 7 2 6 6 ,   \" n a m e \" :   \" w r a y   w i l s o n \" ,   \" o r d e r \" :   4 9 } ,   { \" c a s t _ i d \" :   7 1 ,   \" c h a r a c t e r \" :   \" o p   c e n t e r   s t a f f \" ,   \" c r e d i t _ i d \" :   \" 5 2 f e 4 8 0 1 9 2 5 1 4 1 6 c 7 5 0 a c a f 3 \" ,   \" g e n d e r \" :   2 ,   \" i d \" :   5 4 4 9 2 ,   \" n a m e \" :   \" j a m e s   g a y l y n \" ,   \" o r d e r \" :   5 0 } ,   { \" c a s t _ i d \" :   7 2 ,   \" c h a r a c t e r \" :   \" d a n c e r \" ,   \" c r e d i t _ i d \" :   \" 5 2 f e 4 8 0 1 9 2 5 1 4 1 6 c 7 5 0 a c a f 7 \" ,   \" g e n d e r \" :   0 ,   \" i d \" :   1 2 0 7 2 6 7 ,   \" n a m e \" :   \" m e l v i n   l e n o   c l a r k   i i i \" ,   \" o r d e r \" :   5 1 } ,   { \" c a s t _ i d \" :   7 3 ,   \" c h a r a c t e r \" :   \" d a n c e r \" ,   \" c r e d i t _ i d \" :   \" 5 2 f e 4 8 0 1 9 2 5 1 4 1 6 c 7 5 0 a c a f b \" ,   \" g e n d e r \" :   0 ,   \" i d \" :   1 2 0 7 2 6 8 ,   \" n a m e \" :   \" c a r v o n   f u t r e l l \" ,   \" o r d e r \" :   5 2 } ,   { \" c a s t _ i d \" :   7 4 ,   \" c h a r a c t e r \" :   \" d a n c e r \" ,   \" c r e d i t _ i d \" :   \" 5 2 f e 4 8 0 1 9 2 5 1 4 1 6 c 7 5 0 a c a f f \" ,   \" g e n d e r \" :   0 ,   \" i d \" :   1 2 0 7 2 6 9 ,   \" n a m e \" :   \" b r a n d o n   j e l k e s \" ,   \" o r d e r \" :   5 3 } ,   { \" c a s t _ i d \" :   7 5 ,   \" c h a r a c t e r \" :   \" d a n c e r \" ,   \" c r e d i t _ i d \" :   \" 5 2 f e 4 8 0 1 9 2 5 1 4 1 6 c 7 5 0 a c b 0 3 \" ,   \" g e n d e r \" :   0 ,   \" i d \" :   1 2 0 7 2 7 0 ,   \" n a m e \" :   \" m i c a h   m o c h \" ,   \" o r d e r \" :   5 4 } ,   { \" c a s t _ i d \" :   7 6 ,   \" c h a r a c t e r \" :   \" d a n c e r \" ,   \" c r e d i t _ i d \" :   \" 5 2 f e 4 8 0 1 9 2 5 1 4 1 6 c 7 5 0 a c b 0 7 \" ,   \" g e n d e r \" :   0 ,   \" i d \" :   1 2 0 7 2 7 1 ,   \" n a m e \" :   \" h a n n i y a h   m u h a m m a d \" ,   \" o r d e r \" :   5 5 } ,   { \" c a s t _ i d \" :   7 7 ,   \" c h a r a c t e r \" :   \" d a n c e r \" ,   \" c r e d i t _ i d \" :   \" 5 2 f e 4 8 0 1 9 2 5 1 4 1 6 c 7 5 0 a c b 0 b \" ,   \" g e n d e r \" :   0 ,   \" i d \" :   1 2 0 7 2 7 2 ,   \" n a m e \" :   \" c h r i s t o p h e r   n o l e n \" ,   \" o r d e r \" :   5 6 } ,   { \" c a s t _ i d \" :   7 8 ,   \" c h a r a c t e r \" :   \" d a n c e r \" ,   \" c r e d i t _ i d \" :   \" 5 2 f e 4 8 0 1 9 2 5 1 4 1 6 c 7 5 0 a c b 0 f \" ,   \" g e n d e r \" :   0 ,   \" i d \" :   1 2 0 7 2 7 3 ,   \" n a m e \" :   \" c h r i s t a   o l i v e r \" ,   \" o r d e r \" :   5 7 } ,   { \" c a s t _ i d \" :   7 9 ,   \" c h a r a c t e r \" :   \" d a n c e r \" ,   \" c r e d i t _ i d \" :   \" 5 2 f e 4 8 0 1 9 2 5 1 4 1 6 c 7 5 0 a c b 1 3 \" ,   \" g e n d e r \" :   0 ,   \" i d \" :   1 2 0 7 2 7 4 ,   \" n a m e \" :   \" a p r i l   m a r i e   t h o m a s \" ,   \" o r d e r \" :   5 8 } ,   { \" c a s t _ i d \" :   8 0 ,   \" c h a r a c t e r \" :   \" d a n c e r \" ,   \" c r e d i t _ i d \" :   \" 5 2 f e 4 8 0 1 9 2 5 1 4 1 6 c 7 5 0 a c b 1 7 \" ,   \" g e n d e r \" :   0 ,   \" i d \" :   1 2 0 7 2 7 5 ,   \" n a m e \" :   \" b r a v i t a   a .   t h r e a t t \" ,   \" o r d e r \" :   5 9 } ,   { \" c a s t _ i d \" :   8 1 ,   \" c h a r a c t e r \" :   \" m i n i n g   c h i e f   ( u n c r e d i t e d ) \" ,   \" c r e d i t _ i d \" :   \" 5 2 f e 4 8 0 1 9 2 5 1 4 1 6 c 7 5 0 a c b 1 b \" ,   \" g e n d e r \" :   0 ,   \" i d \" :   1 2 0 7 2 7 6 ,   \" n a m e \" :   \" c o l i n   b l e a s d a l e \" ,   \" o r d e r \" :   6 0 } ,   { \" c a s t _ i d \" :   8 2 ,   \" c h a r a c t e r \" :   \" v e t e r a n   m i n e r   ( u n c r e d i t e d ) \" ,   \" c r e d i t _ i d \" :   \" 5 2 f e 4 8 0 1 9 2 5 1 4 1 6 c 7 5 0 a c b 1 f \" ,   \" g e n d e r \" :   0 ,   \" i d \" :   1 0 7 9 6 9 ,   \" n a m e \" :   \" m i k e   b o d n a r \" ,   \" o r d e r \" :   6 1 } ,   { \" c a s t _ i d \" :   8 3 ,   \" c h a r a c t e r \" :   \" r i c h a r d   ( u n c r e d i t e d ) \" ,   \" c r e d i t _ i d \" :   \" 5 2 f e 4 8 0 1 9 2 5 1 4 1 6 c 7 5 0 a c b 2 3 \" ,   \" g e n d e r \" :   0 ,   \" i d \" :   1 2 0 7 2 7 8 ,   \" n a m e \" :   \" m a t t   c l a y t o n \" ,   \" o r d e r \" :   6 2 } ,   { \" c a s t _ i d \" :   8 4 ,   \" c h a r a c t e r \" :   \" n a v \\' i   ( u n c r e d i t e d ) \" ,   \" c r e d i t _ i d \" :   \" 5 2 f e 4 8 0 1 9 2 5 1 4 1 6 c 7 5 0 a c b 2 7 \" ,   \" g e n d e r \" :   1 ,   \" i d \" :   1 4 7 8 9 8 ,   \" n a m e \" :   \" n i c o l e   d i o n n e \" ,   \" o r d e r \" :   6 3 } ,   { \" c a s t _ i d \" :   8 5 ,   \" c h a r a c t e r \" :   \" t r o o p e r   ( u n c r e d i t e d ) \" ,   \" c r e d i t _ i d \" :   \" 5 2 f e 4 8 0 1 9 2 5 1 4 1 6 c 7 5 0 a c b 2 b \" ,   \" g e n d e r \" :   0 ,   \" i d \" :   1 2 0 7 2 8 0 ,   \" n a m e \" :   \" j a m i e   h a r r i s o n \" ,   \" o r d e r \" :   6 4 } ,   { \" c a s t _ i d \" :   8 6 ,   \" c h a r a c t e r \" :   \" t r o o p e r   ( u n c r e d i t e d ) \" ,   \" c r e d i t _ i d \" :   \" 5 2 f e 4 8 0 1 9 2 5 1 4 1 6 c 7 5 0 a c b 2 f \" ,   \" g e n d e r \" :   0 ,   \" i d \" :   1 2 0 7 2 8 1 ,   \" n a m e \" :   \" a l l a n   h e n r y \" ,   \" o r d e r \" :   6 5 } ,   { \" c a s t _ i d \" :   8 7 ,   \" c h a r a c t e r \" :   \" g r o u n d   t e c h n i c i a n   ( u n c r e d i t e d ) \" ,   \" c r e d i t _ i d \" :   \" 5 2 f e 4 8 0 1 9 2 5 1 4 1 6 c 7 5 0 a c b 3 3 \" ,   \" g e n d e r \" :   2 ,   \" i d \" :   1 2 0 7 2 8 2 ,   \" n a m e \" :   \" a n t h o n y   i n g r u b e r \" ,   \" o r d e r \" :   6 6 } ,   { \" c a s t _ i d \" :   8 8 ,   \" c h a r a c t e r \" :   \" f l i g h t   c r e w   m e c h a n i c   ( u n c r e d i t e d ) \" ,   \" c r e d i t _ i d \" :   \" 5 2 f e 4 8 0 1 9 2 5 1 4 1 6 c 7 5 0 a c b 3 7 \" ,   \" g e n d e r \" :   0 ,   \" i d \" :   1 2 0 7 2 8 3 ,   \" n a m e \" :   \" a s h l e y   j e f f e r y \" ,   \" o r d e r \" :   6 7 } ,   { \" c a s t _ i d \" :   1 4 ,   \" c h a r a c t e r \" :   \" s a m s o n   p i l o t \" ,   \" c r e d i t _ i d \" :   \" 5 2 f e 4 8 0 0 9 2 5 1 4 1 6 c 7 5 0 a c 9 f 9 \" ,   \" g e n d e r \" :   0 ,   \" i d \" :   9 8 2 1 6 ,   \" n a m e \" :   \" d e a n   k n o w s l e y \" ,   \" o r d e r \" :   6 8 } ,   { \" c a s t _ i d \" :   8 9 ,   \" c h a r a c t e r \" :   \" t r o o p e r   ( u n c r e d i t e d ) \" ,   \" c r e d i t _ i d \" :   \" 5 2 f e 4 8 0 1 9 2 5 1 4 1 6 c 7 5 0 a c b 3 b \" ,   \" g e n d e r \" :   0 ,   \" i d \" :   1 2 0 1 3 9 9 ,   \" n a m e \" :   \" j o s e p h   m i k a - h u n t \" ,   \" o r d e r \" :   6 9 } ,   { \" c a s t _ i d \" :   9 0 ,   \" c h a r a c t e r \" :   \" b a n s h e e   ( u n c r e d i t e d ) \" ,   \" c r e d i t _ i d \" :   \" 5 2 f e 4 8 0 1 9 2 5 1 4 1 6 c 7 5 0 a c b 3 f \" ,   \" g e n d e r \" :   0 ,   \" i d \" :   2 3 6 6 9 6 ,   \" n a m e \" :   \" t e r r y   n o t a r y \" ,   \" o r d e r \" :   7 0 } ,   { \" c a s t _ i d \" :   9 1 ,   \" c h a r a c t e r \" :   \" s o l d i e r   ( u n c r e d i t e d ) \" ,   \" c r e d i t _ i d \" :   \" 5 2 f e 4 8 0 1 9 2 5 1 4 1 6 c 7 5 0 a c b 4 3 \" ,   \" g e n d e r \" :   0 ,   \" i d \" :   1 2 0 7 2 8 7 ,   \" n a m e \" :   \" k a i   p a n t a n o \" ,   \" o r d e r \" :   7 1 } ,   { \" c a s t _ i d \" :   9 2 ,   \" c h a r a c t e r \" :   \" b l a s t   t e c h n i c i a n   ( u n c r e d i t e d ) \" ,   \" c r e d i t _ i d \" :   \" 5 2 f e 4 8 0 1 9 2 5 1 4 1 6 c 7 5 0 a c b 4 7 \" ,   \" g e n d e r \" :   0 ,   \" i d \" :   1 2 0 7 2 8 8 ,   \" n a m e \" :   \" l o g a n   p i t h y o u \" ,   \" o r d e r \" :   7 2 } ,   { \" c a s t _ i d \" :   9 3 ,   \" c h a r a c t e r \" :   \" v i n d u m   r a a h   ( u n c r e d i t e d ) \" ,   \" c r e d i t _ i d \" :   \" 5 2 f e 4 8 0 1 9 2 5 1 4 1 6 c 7 5 0 a c b 4 b \" ,   \" g e n d e r \" :   0 ,   \" i d \" :   1 2 0 7 2 8 9 ,   \" n a m e \" :   \" s t u a r t   p o l l o c k \" ,   \" o r d e r \" :   7 3 } ,   { \" c a s t _ i d \" :   9 4 ,   \" c h a r a c t e r \" :   \" h e r o   ( u n c r e d i t e d ) \" ,   \" c r e d i t _ i d \" :   \" 5 2 f e 4 8 0 1 9 2 5 1 4 1 6 c 7 5 0 a c b 4 f \" ,   \" g e n d e r \" :   0 ,   \" i d \" :   5 8 4 8 6 8 ,   \" n a m e \" :   \" r a j a \" ,   \" o r d e r \" :   7 4 } ,   { \" c a s t _ i d \" :   9 5 ,   \" c h a r a c t e r \" :   \" o p s   c e n t r e w o r k e r   ( u n c r e d i t e d ) \" ,   \" c r e d i t _ i d \" :   \" 5 2 f e 4 8 0 1 9 2 5 1 4 1 6 c 7 5 0 a c b 5 3 \" ,   \" g e n d e r \" :   0 ,   \" i d \" :   1 2 0 7 2 9 0 ,   \" n a m e \" :   \" g a r e t h   r u c k \" ,   \" o r d e r \" :   7 5 } ,   { \" c a s t _ i d \" :   9 6 ,   \" c h a r a c t e r \" :   \" e n g i n e e r   ( u n c r e d i t e d ) \" ,   \" c r e d i t _ i d \" :   \" 5 2 f e 4 8 0 1 9 2 5 1 4 1 6 c 7 5 0 a c b 5 7 \" ,   \" g e n d e r \" :   0 ,   \" i d \" :   1 0 6 2 4 6 3 ,   \" n a m e \" :   \" r h i a n   s h e e h a n \" ,   \" o r d e r \" :   7 6 } ,   { \" c a s t _ i d \" :   9 7 ,   \" c h a r a c t e r \" :   \" c o l .   q u a r i t c h \\' s   m e c h   s u i t   ( u n c r e d i t e d ) \" ,   \" c r e d i t _ i d \" :   \" 5 2 f e 4 8 0 1 9 2 5 1 4 1 6 c 7 5 0 a c b 5 b \" ,   \" g e n d e r \" :   0 ,   \" i d \" :   6 0 6 5 6 ,   \" n a m e \" :   \" t .   j .   s t o r m \" ,   \" o r d e r \" :   7 7 } ,   { \" c a s t _ i d \" :   9 8 ,   \" c h a r a c t e r \" :   \" f e m a l e   m a r i n e   ( u n c r e d i t e d ) \" ,   \" c r e d i t _ i d \" :   \" 5 2 f e 4 8 0 1 9 2 5 1 4 1 6 c 7 5 0 a c b 5 f \" ,   \" g e n d e r \" :   0 ,   \" i d \" :   1 2 0 7 2 9 1 ,   \" n a m e \" :   \" j o d i e   t a y l o r \" ,   \" o r d e r \" :   7 8 } ,   { \" c a s t _ i d \" :   9 9 ,   \" c h a r a c t e r \" :   \" i k r a n   c l a n   l e a d e r   ( u n c r e d i t e d ) \" ,   \" c r e d i t _ i d \" :   \" 5 2 f e 4 8 0 1 9 2 5 1 4 1 6 c 7 5 0 a c b 6 3 \" ,   \" g e n d e r \" :   1 ,   \" i d \" :   1 1 8 6 0 2 7 ,   \" n a m e \" :   \" a l i c i a   v e l a - b a i l e y \" ,   \" o r d e r \" :   7 9 } ,   { \" c a s t _ i d \" :   1 0 0 ,   \" c h a r a c t e r \" :   \" g e o l o g i s t   ( u n c r e d i t e d ) \" ,   \" c r e d i t _ i d \" :   \" 5 2 f e 4 8 0 1 9 2 5 1 4 1 6 c 7 5 0 a c b 6 7 \" ,   \" g e n d e r \" :   0 ,   \" i d \" :   1 2 0 7 2 9 2 ,   \" n a m e \" :   \" r i c h a r d   w h i t e s i d e \" ,   \" o r d e r \" :   8 0 } ,   { \" c a s t _ i d \" :   1 0 1 ,   \" c h a r a c t e r \" :   \" n a \\' v i   ( u n c r e d i t e d ) \" ,   \" c r e d i t _ i d \" :   \" 5 2 f e 4 8 0 1 9 2 5 1 4 1 6 c 7 5 0 a c b 6 b \" ,   \" g e n d e r \" :   0 ,   \" i d \" :   1 0 3 2 5 9 ,   \" n a m e \" :   \" n i k i e   z a m b o \" ,   \" o r d e r \" :   8 1 } ,   { \" c a s t _ i d \" :   1 0 2 ,   \" c h a r a c t e r \" :   \" a m b i e n t   r o o m   t e c h   /   t r o u p e \" ,   \" c r e d i t _ i d \" :   \" 5 2 f e 4 8 0 1 9 2 5 1 4 1 6 c 7 5 0 a c b 6 f \" ,   \" g e n d e r \" :   1 ,   \" i d \" :   4 2 2 8 6 ,   \" n a m e \" :   \" j u l e n e   r e n e e \" ,   \" o r d e r \" :   8 2 } ] james cameron'"
      ]
     },
     "execution_count": 42,
     "metadata": {},
     "output_type": "execute_result"
    }
   ],
   "source": [
    "new_df.iloc[0].tags"
   ]
  },
  {
   "cell_type": "code",
   "execution_count": 43,
   "id": "6c54fdf0",
   "metadata": {
    "execution": {
     "iopub.execute_input": "2023-01-27T15:22:08.905423Z",
     "iopub.status.busy": "2023-01-27T15:22:08.903384Z",
     "iopub.status.idle": "2023-01-27T15:22:08.991202Z",
     "shell.execute_reply": "2023-01-27T15:22:08.989855Z"
    },
    "papermill": {
     "duration": 0.118429,
     "end_time": "2023-01-27T15:22:08.993692",
     "exception": false,
     "start_time": "2023-01-27T15:22:08.875263",
     "status": "completed"
    },
    "tags": []
   },
   "outputs": [
    {
     "name": "stderr",
     "output_type": "stream",
     "text": [
      "/opt/conda/lib/python3.7/site-packages/ipykernel_launcher.py:2: SettingWithCopyWarning: \n",
      "A value is trying to be set on a copy of a slice from a DataFrame.\n",
      "Try using .loc[row_indexer,col_indexer] = value instead\n",
      "\n",
      "See the caveats in the documentation: https://pandas.pydata.org/pandas-docs/stable/user_guide/indexing.html#returning-a-view-versus-a-copy\n",
      "  \n"
     ]
    }
   ],
   "source": [
    "# Converting  To Lower Case\n",
    "new_df['tags']=new_df['tags'].apply(lambda x:x.lower())\n"
   ]
  },
  {
   "cell_type": "code",
   "execution_count": 44,
   "id": "bcf69d94",
   "metadata": {
    "execution": {
     "iopub.execute_input": "2023-01-27T15:22:09.049236Z",
     "iopub.status.busy": "2023-01-27T15:22:09.048314Z",
     "iopub.status.idle": "2023-01-27T15:22:09.062908Z",
     "shell.execute_reply": "2023-01-27T15:22:09.061786Z"
    },
    "papermill": {
     "duration": 0.043386,
     "end_time": "2023-01-27T15:22:09.065353",
     "exception": false,
     "start_time": "2023-01-27T15:22:09.021967",
     "status": "completed"
    },
    "tags": []
   },
   "outputs": [
    {
     "data": {
      "text/html": [
       "<div>\n",
       "<style scoped>\n",
       "    .dataframe tbody tr th:only-of-type {\n",
       "        vertical-align: middle;\n",
       "    }\n",
       "\n",
       "    .dataframe tbody tr th {\n",
       "        vertical-align: top;\n",
       "    }\n",
       "\n",
       "    .dataframe thead th {\n",
       "        text-align: right;\n",
       "    }\n",
       "</style>\n",
       "<table border=\"1\" class=\"dataframe\">\n",
       "  <thead>\n",
       "    <tr style=\"text-align: right;\">\n",
       "      <th></th>\n",
       "      <th>movie_id</th>\n",
       "      <th>title</th>\n",
       "      <th>tags</th>\n",
       "    </tr>\n",
       "  </thead>\n",
       "  <tbody>\n",
       "    <tr>\n",
       "      <th>0</th>\n",
       "      <td>19995</td>\n",
       "      <td>Avatar</td>\n",
       "      <td>in the 22nd century, a paraplegic marine is di...</td>\n",
       "    </tr>\n",
       "    <tr>\n",
       "      <th>1</th>\n",
       "      <td>285</td>\n",
       "      <td>Pirates of the Caribbean: At World's End</td>\n",
       "      <td>captain barbossa, long believed to be dead, ha...</td>\n",
       "    </tr>\n",
       "    <tr>\n",
       "      <th>2</th>\n",
       "      <td>206647</td>\n",
       "      <td>Spectre</td>\n",
       "      <td>a cryptic message from bond’s past sends him o...</td>\n",
       "    </tr>\n",
       "    <tr>\n",
       "      <th>3</th>\n",
       "      <td>49026</td>\n",
       "      <td>The Dark Knight Rises</td>\n",
       "      <td>following the death of district attorney harve...</td>\n",
       "    </tr>\n",
       "    <tr>\n",
       "      <th>4</th>\n",
       "      <td>49529</td>\n",
       "      <td>John Carter</td>\n",
       "      <td>john carter is a war-weary, former military ca...</td>\n",
       "    </tr>\n",
       "  </tbody>\n",
       "</table>\n",
       "</div>"
      ],
      "text/plain": [
       "   movie_id                                     title  \\\n",
       "0     19995                                    Avatar   \n",
       "1       285  Pirates of the Caribbean: At World's End   \n",
       "2    206647                                   Spectre   \n",
       "3     49026                     The Dark Knight Rises   \n",
       "4     49529                               John Carter   \n",
       "\n",
       "                                                tags  \n",
       "0  in the 22nd century, a paraplegic marine is di...  \n",
       "1  captain barbossa, long believed to be dead, ha...  \n",
       "2  a cryptic message from bond’s past sends him o...  \n",
       "3  following the death of district attorney harve...  \n",
       "4  john carter is a war-weary, former military ca...  "
      ]
     },
     "execution_count": 44,
     "metadata": {},
     "output_type": "execute_result"
    }
   ],
   "source": [
    "new_df.head()"
   ]
  },
  {
   "cell_type": "code",
   "execution_count": 45,
   "id": "f920d26f",
   "metadata": {
    "execution": {
     "iopub.execute_input": "2023-01-27T15:22:09.115065Z",
     "iopub.status.busy": "2023-01-27T15:22:09.113985Z",
     "iopub.status.idle": "2023-01-27T15:22:09.123769Z",
     "shell.execute_reply": "2023-01-27T15:22:09.122714Z"
    },
    "papermill": {
     "duration": 0.037213,
     "end_time": "2023-01-27T15:22:09.125952",
     "exception": false,
     "start_time": "2023-01-27T15:22:09.088739",
     "status": "completed"
    },
    "tags": []
   },
   "outputs": [
    {
     "data": {
      "text/plain": [
       "'in the 22nd century, a paraplegic marine is dispatched to the moon pandora on a unique mission, but becomes torn between following orders and protecting an alien civilization. action adventure fantasy science fiction culture clash future space war space colony society space travel futuristic romance space alien tribe alien planet cgi marine soldier battle love affair anti war power relations mind and soul 3d [ { \" c a s t _ i d \" :   2 4 2 ,   \" c h a r a c t e r \" :   \" j a k e   s u l l y \" ,   \" c r e d i t _ i d \" :   \" 5 6 0 2 a 8 a 7 c 3 a 3 6 8 5 5 3 2 0 0 1 c 9 a \" ,   \" g e n d e r \" :   2 ,   \" i d \" :   6 5 7 3 1 ,   \" n a m e \" :   \" s a m   w o r t h i n g t o n \" ,   \" o r d e r \" :   0 } ,   { \" c a s t _ i d \" :   3 ,   \" c h a r a c t e r \" :   \" n e y t i r i \" ,   \" c r e d i t _ i d \" :   \" 5 2 f e 4 8 0 0 9 2 5 1 4 1 6 c 7 5 0 a c 9 c b \" ,   \" g e n d e r \" :   1 ,   \" i d \" :   8 6 9 1 ,   \" n a m e \" :   \" z o e   s a l d a n a \" ,   \" o r d e r \" :   1 } ,   { \" c a s t _ i d \" :   2 5 ,   \" c h a r a c t e r \" :   \" d r .   g r a c e   a u g u s t i n e \" ,   \" c r e d i t _ i d \" :   \" 5 2 f e 4 8 0 0 9 2 5 1 4 1 6 c 7 5 0 a c a 3 9 \" ,   \" g e n d e r \" :   1 ,   \" i d \" :   1 0 2 0 5 ,   \" n a m e \" :   \" s i g o u r n e y   w e a v e r \" ,   \" o r d e r \" :   2 } ,   { \" c a s t _ i d \" :   4 ,   \" c h a r a c t e r \" :   \" c o l .   q u a r i t c h \" ,   \" c r e d i t _ i d \" :   \" 5 2 f e 4 8 0 0 9 2 5 1 4 1 6 c 7 5 0 a c 9 c f \" ,   \" g e n d e r \" :   2 ,   \" i d \" :   3 2 7 4 7 ,   \" n a m e \" :   \" s t e p h e n   l a n g \" ,   \" o r d e r \" :   3 } ,   { \" c a s t _ i d \" :   5 ,   \" c h a r a c t e r \" :   \" t r u d y   c h a c o n \" ,   \" c r e d i t _ i d \" :   \" 5 2 f e 4 8 0 0 9 2 5 1 4 1 6 c 7 5 0 a c 9 d 3 \" ,   \" g e n d e r \" :   1 ,   \" i d \" :   1 7 6 4 7 ,   \" n a m e \" :   \" m i c h e l l e   r o d r i g u e z \" ,   \" o r d e r \" :   4 } ,   { \" c a s t _ i d \" :   8 ,   \" c h a r a c t e r \" :   \" s e l f r i d g e \" ,   \" c r e d i t _ i d \" :   \" 5 2 f e 4 8 0 0 9 2 5 1 4 1 6 c 7 5 0 a c 9 e 1 \" ,   \" g e n d e r \" :   2 ,   \" i d \" :   1 7 7 1 ,   \" n a m e \" :   \" g i o v a n n i   r i b i s i \" ,   \" o r d e r \" :   5 } ,   { \" c a s t _ i d \" :   7 ,   \" c h a r a c t e r \" :   \" n o r m   s p e l l m a n \" ,   \" c r e d i t _ i d \" :   \" 5 2 f e 4 8 0 0 9 2 5 1 4 1 6 c 7 5 0 a c 9 d d \" ,   \" g e n d e r \" :   2 ,   \" i d \" :   5 9 2 3 1 ,   \" n a m e \" :   \" j o e l   d a v i d   m o o r e \" ,   \" o r d e r \" :   6 } ,   { \" c a s t _ i d \" :   9 ,   \" c h a r a c t e r \" :   \" m o a t \" ,   \" c r e d i t _ i d \" :   \" 5 2 f e 4 8 0 0 9 2 5 1 4 1 6 c 7 5 0 a c 9 e 5 \" ,   \" g e n d e r \" :   1 ,   \" i d \" :   3 0 4 8 5 ,   \" n a m e \" :   \" c c h   p o u n d e r \" ,   \" o r d e r \" :   7 } ,   { \" c a s t _ i d \" :   1 1 ,   \" c h a r a c t e r \" :   \" e y t u k a n \" ,   \" c r e d i t _ i d \" :   \" 5 2 f e 4 8 0 0 9 2 5 1 4 1 6 c 7 5 0 a c 9 e d \" ,   \" g e n d e r \" :   2 ,   \" i d \" :   1 5 8 5 3 ,   \" n a m e \" :   \" w e s   s t u d i \" ,   \" o r d e r \" :   8 } ,   { \" c a s t _ i d \" :   1 0 ,   \" c h a r a c t e r \" :   \" t s u \\' t e y \" ,   \" c r e d i t _ i d \" :   \" 5 2 f e 4 8 0 0 9 2 5 1 4 1 6 c 7 5 0 a c 9 e 9 \" ,   \" g e n d e r \" :   2 ,   \" i d \" :   1 0 9 6 4 ,   \" n a m e \" :   \" l a z   a l o n s o \" ,   \" o r d e r \" :   9 } ,   { \" c a s t _ i d \" :   1 2 ,   \" c h a r a c t e r \" :   \" d r .   m a x   p a t e l \" ,   \" c r e d i t _ i d \" :   \" 5 2 f e 4 8 0 0 9 2 5 1 4 1 6 c 7 5 0 a c 9 f 1 \" ,   \" g e n d e r \" :   2 ,   \" i d \" :   9 5 6 9 7 ,   \" n a m e \" :   \" d i l e e p   r a o \" ,   \" o r d e r \" :   1 0 } ,   { \" c a s t _ i d \" :   1 3 ,   \" c h a r a c t e r \" :   \" l y l e   w a i n f l e e t \" ,   \" c r e d i t _ i d \" :   \" 5 2 f e 4 8 0 0 9 2 5 1 4 1 6 c 7 5 0 a c 9 f 5 \" ,   \" g e n d e r \" :   2 ,   \" i d \" :   9 8 2 1 5 ,   \" n a m e \" :   \" m a t t   g e r a l d \" ,   \" o r d e r \" :   1 1 } ,   { \" c a s t _ i d \" :   3 2 ,   \" c h a r a c t e r \" :   \" p r i v a t e   f i k e \" ,   \" c r e d i t _ i d \" :   \" 5 2 f e 4 8 0 0 9 2 5 1 4 1 6 c 7 5 0 a c a 5 b \" ,   \" g e n d e r \" :   2 ,   \" i d \" :   1 5 4 1 5 3 ,   \" n a m e \" :   \" s e a n   a n t h o n y   m o r a n \" ,   \" o r d e r \" :   1 2 } ,   { \" c a s t _ i d \" :   3 3 ,   \" c h a r a c t e r \" :   \" c r y o   v a u l t   m e d   t e c h \" ,   \" c r e d i t _ i d \" :   \" 5 2 f e 4 8 0 0 9 2 5 1 4 1 6 c 7 5 0 a c a 5 f \" ,   \" g e n d e r \" :   2 ,   \" i d \" :   3 9 7 3 1 2 ,   \" n a m e \" :   \" j a s o n   w h y t e \" ,   \" o r d e r \" :   1 3 } ,   { \" c a s t _ i d \" :   3 4 ,   \" c h a r a c t e r \" :   \" v e n t u r e   s t a r   c r e w   c h i e f \" ,   \" c r e d i t _ i d \" :   \" 5 2 f e 4 8 0 0 9 2 5 1 4 1 6 c 7 5 0 a c a 6 3 \" ,   \" g e n d e r \" :   2 ,   \" i d \" :   4 2 3 1 7 ,   \" n a m e \" :   \" s c o t t   l a w r e n c e \" ,   \" o r d e r \" :   1 4 } ,   { \" c a s t _ i d \" :   3 5 ,   \" c h a r a c t e r \" :   \" l o c k   u p   t r o o p e r \" ,   \" c r e d i t _ i d \" :   \" 5 2 f e 4 8 0 0 9 2 5 1 4 1 6 c 7 5 0 a c a 6 7 \" ,   \" g e n d e r \" :   2 ,   \" i d \" :   9 8 6 7 3 4 ,   \" n a m e \" :   \" k e l l y   k i l g o u r \" ,   \" o r d e r \" :   1 5 } ,   { \" c a s t _ i d \" :   3 6 ,   \" c h a r a c t e r \" :   \" s h u t t l e   p i l o t \" ,   \" c r e d i t _ i d \" :   \" 5 2 f e 4 8 0 0 9 2 5 1 4 1 6 c 7 5 0 a c a 6 b \" ,   \" g e n d e r \" :   0 ,   \" i d \" :   1 2 0 7 2 2 7 ,   \" n a m e \" :   \" j a m e s   p a t r i c k   p i t t \" ,   \" o r d e r \" :   1 6 } ,   { \" c a s t _ i d \" :   3 7 ,   \" c h a r a c t e r \" :   \" s h u t t l e   c o - p i l o t \" ,   \" c r e d i t _ i d \" :   \" 5 2 f e 4 8 0 0 9 2 5 1 4 1 6 c 7 5 0 a c a 6 f \" ,   \" g e n d e r \" :   0 ,   \" i d \" :   1 1 8 0 9 3 6 ,   \" n a m e \" :   \" s e a n   p a t r i c k   m u r p h y \" ,   \" o r d e r \" :   1 7 } ,   { \" c a s t _ i d \" :   3 8 ,   \" c h a r a c t e r \" :   \" s h u t t l e   c r e w   c h i e f \" ,   \" c r e d i t _ i d \" :   \" 5 2 f e 4 8 0 0 9 2 5 1 4 1 6 c 7 5 0 a c a 7 3 \" ,   \" g e n d e r \" :   2 ,   \" i d \" :   1 0 1 9 5 7 8 ,   \" n a m e \" :   \" p e t e r   d i l l o n \" ,   \" o r d e r \" :   1 8 } ,   { \" c a s t _ i d \" :   3 9 ,   \" c h a r a c t e r \" :   \" t r a c t o r   o p e r a t o r   /   t r o u p e \" ,   \" c r e d i t _ i d \" :   \" 5 2 f e 4 8 0 0 9 2 5 1 4 1 6 c 7 5 0 a c a 7 7 \" ,   \" g e n d e r \" :   0 ,   \" i d \" :   9 1 4 4 3 ,   \" n a m e \" :   \" k e v i n   d o r m a n \" ,   \" o r d e r \" :   1 9 } ,   { \" c a s t _ i d \" :   4 0 ,   \" c h a r a c t e r \" :   \" d r a g o n   g u n s h i p   p i l o t \" ,   \" c r e d i t _ i d \" :   \" 5 2 f e 4 8 0 0 9 2 5 1 4 1 6 c 7 5 0 a c a 7 b \" ,   \" g e n d e r \" :   2 ,   \" i d \" :   1 7 3 3 9 1 ,   \" n a m e \" :   \" k e l s o n   h e n d e r s o n \" ,   \" o r d e r \" :   2 0 } ,   { \" c a s t _ i d \" :   4 1 ,   \" c h a r a c t e r \" :   \" d r a g o n   g u n s h i p   g u n n e r \" ,   \" c r e d i t _ i d \" :   \" 5 2 f e 4 8 0 0 9 2 5 1 4 1 6 c 7 5 0 a c a 7 f \" ,   \" g e n d e r \" :   0 ,   \" i d \" :   1 2 0 7 2 3 6 ,   \" n a m e \" :   \" d a v i d   v a n   h o r n \" ,   \" o r d e r \" :   2 1 } ,   { \" c a s t _ i d \" :   4 2 ,   \" c h a r a c t e r \" :   \" d r a g o n   g u n s h i p   n a v i g a t o r \" ,   \" c r e d i t _ i d \" :   \" 5 2 f e 4 8 0 0 9 2 5 1 4 1 6 c 7 5 0 a c a 8 3 \" ,   \" g e n d e r \" :   0 ,   \" i d \" :   2 1 5 9 1 3 ,   \" n a m e \" :   \" j a c o b   t o m u r i \" ,   \" o r d e r \" :   2 2 } ,   { \" c a s t _ i d \" :   4 3 ,   \" c h a r a c t e r \" :   \" s u i t   # 1 \" ,   \" c r e d i t _ i d \" :   \" 5 2 f e 4 8 0 0 9 2 5 1 4 1 6 c 7 5 0 a c a 8 7 \" ,   \" g e n d e r \" :   0 ,   \" i d \" :   1 4 3 2 0 6 ,   \" n a m e \" :   \" m i c h a e l   b l a i n - r o z g a y \" ,   \" o r d e r \" :   2 3 } ,   { \" c a s t _ i d \" :   4 4 ,   \" c h a r a c t e r \" :   \" s u i t   # 2 \" ,   \" c r e d i t _ i d \" :   \" 5 2 f e 4 8 0 0 9 2 5 1 4 1 6 c 7 5 0 a c a 8 b \" ,   \" g e n d e r \" :   2 ,   \" i d \" :   1 6 9 6 7 6 ,   \" n a m e \" :   \" j o n   c u r r y \" ,   \" o r d e r \" :   2 4 } ,   { \" c a s t _ i d \" :   4 6 ,   \" c h a r a c t e r \" :   \" a m b i e n t   r o o m   t e c h \" ,   \" c r e d i t _ i d \" :   \" 5 2 f e 4 8 0 0 9 2 5 1 4 1 6 c 7 5 0 a c a 8 f \" ,   \" g e n d e r \" :   0 ,   \" i d \" :   1 0 4 8 6 1 0 ,   \" n a m e \" :   \" l u k e   h a w k e r \" ,   \" o r d e r \" :   2 5 } ,   { \" c a s t _ i d \" :   4 7 ,   \" c h a r a c t e r \" :   \" a m b i e n t   r o o m   t e c h   /   t r o u p e \" ,   \" c r e d i t _ i d \" :   \" 5 2 f e 4 8 0 0 9 2 5 1 4 1 6 c 7 5 0 a c a 9 3 \" ,   \" g e n d e r \" :   0 ,   \" i d \" :   4 2 2 8 8 ,   \" n a m e \" :   \" w o o d y   s c h u l t z \" ,   \" o r d e r \" :   2 6 } ,   { \" c a s t _ i d \" :   4 8 ,   \" c h a r a c t e r \" :   \" h o r s e   c l a n   l e a d e r \" ,   \" c r e d i t _ i d \" :   \" 5 2 f e 4 8 0 0 9 2 5 1 4 1 6 c 7 5 0 a c a 9 7 \" ,   \" g e n d e r \" :   2 ,   \" i d \" :   6 8 2 7 8 ,   \" n a m e \" :   \" p e t e r   m e n s a h \" ,   \" o r d e r \" :   2 7 } ,   { \" c a s t _ i d \" :   4 9 ,   \" c h a r a c t e r \" :   \" l i n k   r o o m   t e c h \" ,   \" c r e d i t _ i d \" :   \" 5 2 f e 4 8 0 0 9 2 5 1 4 1 6 c 7 5 0 a c a 9 b \" ,   \" g e n d e r \" :   0 ,   \" i d \" :   1 2 0 7 2 4 7 ,   \" n a m e \" :   \" s o n i a   y e e \" ,   \" o r d e r \" :   2 8 } ,   { \" c a s t _ i d \" :   5 0 ,   \" c h a r a c t e r \" :   \" b a s k e t b a l l   a v a t a r   /   t r o u p e \" ,   \" c r e d i t _ i d \" :   \" 5 2 f e 4 8 0 0 9 2 5 1 4 1 6 c 7 5 0 a c a 9 f \" ,   \" g e n d e r \" :   1 ,   \" i d \" :   1 2 0 7 2 4 8 ,   \" n a m e \" :   \" j a h n e l   c u r f m a n \" ,   \" o r d e r \" :   2 9 } ,   { \" c a s t _ i d \" :   5 1 ,   \" c h a r a c t e r \" :   \" b a s k e t b a l l   a v a t a r \" ,   \" c r e d i t _ i d \" :   \" 5 2 f e 4 8 0 0 9 2 5 1 4 1 6 c 7 5 0 a c a a 3 \" ,   \" g e n d e r \" :   0 ,   \" i d \" :   8 9 7 1 4 ,   \" n a m e \" :   \" i l r a m   c h o i \" ,   \" o r d e r \" :   3 0 } ,   { \" c a s t _ i d \" :   5 2 ,   \" c h a r a c t e r \" :   \" n a \\' v i   c h i l d \" ,   \" c r e d i t _ i d \" :   \" 5 2 f e 4 8 0 0 9 2 5 1 4 1 6 c 7 5 0 a c a a 7 \" ,   \" g e n d e r \" :   0 ,   \" i d \" :   1 2 0 7 2 4 9 ,   \" n a m e \" :   \" k y l a   w a r r e n \" ,   \" o r d e r \" :   3 1 } ,   { \" c a s t _ i d \" :   5 3 ,   \" c h a r a c t e r \" :   \" t r o u p e \" ,   \" c r e d i t _ i d \" :   \" 5 2 f e 4 8 0 0 9 2 5 1 4 1 6 c 7 5 0 a c a a b \" ,   \" g e n d e r \" :   0 ,   \" i d \" :   1 2 0 7 2 5 0 ,   \" n a m e \" :   \" l i s a   r o u m a i n \" ,   \" o r d e r \" :   3 2 } ,   { \" c a s t _ i d \" :   5 4 ,   \" c h a r a c t e r \" :   \" t r o u p e \" ,   \" c r e d i t _ i d \" :   \" 5 2 f e 4 8 0 0 9 2 5 1 4 1 6 c 7 5 0 a c a a f \" ,   \" g e n d e r \" :   1 ,   \" i d \" :   8 3 1 0 5 ,   \" n a m e \" :   \" d e b r a   w i l s o n \" ,   \" o r d e r \" :   3 3 } ,   { \" c a s t _ i d \" :   5 7 ,   \" c h a r a c t e r \" :   \" t r o u p e \" ,   \" c r e d i t _ i d \" :   \" 5 2 f e 4 8 0 0 9 2 5 1 4 1 6 c 7 5 0 a c a b b \" ,   \" g e n d e r \" :   0 ,   \" i d \" :   1 2 0 7 2 5 3 ,   \" n a m e \" :   \" c h r i s   m a l a \" ,   \" o r d e r \" :   3 4 } ,   { \" c a s t _ i d \" :   5 5 ,   \" c h a r a c t e r \" :   \" t r o u p e \" ,   \" c r e d i t _ i d \" :   \" 5 2 f e 4 8 0 0 9 2 5 1 4 1 6 c 7 5 0 a c a b 3 \" ,   \" g e n d e r \" :   0 ,   \" i d \" :   1 2 0 7 2 5 1 ,   \" n a m e \" :   \" t a y l o r   k i b b y \" ,   \" o r d e r \" :   3 5 } ,   { \" c a s t _ i d \" :   5 6 ,   \" c h a r a c t e r \" :   \" t r o u p e \" ,   \" c r e d i t _ i d \" :   \" 5 2 f e 4 8 0 0 9 2 5 1 4 1 6 c 7 5 0 a c a b 7 \" ,   \" g e n d e r \" :   0 ,   \" i d \" :   1 2 0 7 2 5 2 ,   \" n a m e \" :   \" j o d i e   l a n d a u \" ,   \" o r d e r \" :   3 6 } ,   { \" c a s t _ i d \" :   5 8 ,   \" c h a r a c t e r \" :   \" t r o u p e \" ,   \" c r e d i t _ i d \" :   \" 5 2 f e 4 8 0 0 9 2 5 1 4 1 6 c 7 5 0 a c a b f \" ,   \" g e n d e r \" :   0 ,   \" i d \" :   1 2 0 7 2 5 4 ,   \" n a m e \" :   \" j u l i e   l a m m \" ,   \" o r d e r \" :   3 7 } ,   { \" c a s t _ i d \" :   5 9 ,   \" c h a r a c t e r \" :   \" t r o u p e \" ,   \" c r e d i t _ i d \" :   \" 5 2 f e 4 8 0 0 9 2 5 1 4 1 6 c 7 5 0 a c a c 3 \" ,   \" g e n d e r \" :   0 ,   \" i d \" :   1 2 0 7 2 5 7 ,   \" n a m e \" :   \" c u l l e n   b .   m a d d e n \" ,   \" o r d e r \" :   3 8 } ,   { \" c a s t _ i d \" :   6 0 ,   \" c h a r a c t e r \" :   \" t r o u p e \" ,   \" c r e d i t _ i d \" :   \" 5 2 f e 4 8 0 0 9 2 5 1 4 1 6 c 7 5 0 a c a c 7 \" ,   \" g e n d e r \" :   0 ,   \" i d \" :   1 2 0 7 2 5 9 ,   \" n a m e \" :   \" j o s e p h   b r a d y   m a d d e n \" ,   \" o r d e r \" :   3 9 } ,   { \" c a s t _ i d \" :   6 1 ,   \" c h a r a c t e r \" :   \" t r o u p e \" ,   \" c r e d i t _ i d \" :   \" 5 2 f e 4 8 0 0 9 2 5 1 4 1 6 c 7 5 0 a c a c b \" ,   \" g e n d e r \" :   0 ,   \" i d \" :   1 2 0 7 2 6 2 ,   \" n a m e \" :   \" f r a n k i e   t o r r e s \" ,   \" o r d e r \" :   4 0 } ,   { \" c a s t _ i d \" :   6 2 ,   \" c h a r a c t e r \" :   \" t r o u p e \" ,   \" c r e d i t _ i d \" :   \" 5 2 f e 4 8 0 0 9 2 5 1 4 1 6 c 7 5 0 a c a c f \" ,   \" g e n d e r \" :   1 ,   \" i d \" :   1 1 5 8 6 0 0 ,   \" n a m e \" :   \" a u s t i n   w i l s o n \" ,   \" o r d e r \" :   4 1 } ,   { \" c a s t _ i d \" :   6 3 ,   \" c h a r a c t e r \" :   \" t r o u p e \" ,   \" c r e d i t _ i d \" :   \" 5 2 f e 4 8 0 1 9 2 5 1 4 1 6 c 7 5 0 a c a d 3 \" ,   \" g e n d e r \" :   1 ,   \" i d \" :   9 8 3 7 0 5 ,   \" n a m e \" :   \" s a r a   w i l s o n \" ,   \" o r d e r \" :   4 2 } ,   { \" c a s t _ i d \" :   6 4 ,   \" c h a r a c t e r \" :   \" t r o u p e \" ,   \" c r e d i t _ i d \" :   \" 5 2 f e 4 8 0 1 9 2 5 1 4 1 6 c 7 5 0 a c a d 7 \" ,   \" g e n d e r \" :   0 ,   \" i d \" :   1 2 0 7 2 6 3 ,   \" n a m e \" :   \" t a m i c a   w a s h i n g t o n - m i l l e r \" ,   \" o r d e r \" :   4 3 } ,   { \" c a s t _ i d \" :   6 5 ,   \" c h a r a c t e r \" :   \" o p   c e n t e r   s t a f f \" ,   \" c r e d i t _ i d \" :   \" 5 2 f e 4 8 0 1 9 2 5 1 4 1 6 c 7 5 0 a c a d b \" ,   \" g e n d e r \" :   1 ,   \" i d \" :   1 1 4 5 0 9 8 ,   \" n a m e \" :   \" l u c y   b r i a n t \" ,   \" o r d e r \" :   4 4 } ,   { \" c a s t _ i d \" :   6 6 ,   \" c h a r a c t e r \" :   \" o p   c e n t e r   s t a f f \" ,   \" c r e d i t _ i d \" :   \" 5 2 f e 4 8 0 1 9 2 5 1 4 1 6 c 7 5 0 a c a d f \" ,   \" g e n d e r \" :   2 ,   \" i d \" :   3 3 3 0 5 ,   \" n a m e \" :   \" n a t h a n   m e i s t e r \" ,   \" o r d e r \" :   4 5 } ,   { \" c a s t _ i d \" :   6 7 ,   \" c h a r a c t e r \" :   \" o p   c e n t e r   s t a f f \" ,   \" c r e d i t _ i d \" :   \" 5 2 f e 4 8 0 1 9 2 5 1 4 1 6 c 7 5 0 a c a e 3 \" ,   \" g e n d e r \" :   0 ,   \" i d \" :   1 2 0 7 2 6 4 ,   \" n a m e \" :   \" g e r r y   b l a i r \" ,   \" o r d e r \" :   4 6 } ,   { \" c a s t _ i d \" :   6 8 ,   \" c h a r a c t e r \" :   \" o p   c e n t e r   s t a f f \" ,   \" c r e d i t _ i d \" :   \" 5 2 f e 4 8 0 1 9 2 5 1 4 1 6 c 7 5 0 a c a e 7 \" ,   \" g e n d e r \" :   2 ,   \" i d \" :   3 3 3 1 1 ,   \" n a m e \" :   \" m a t t h e w   c h a m b e r l a i n \" ,   \" o r d e r \" :   4 7 } ,   { \" c a s t _ i d \" :   6 9 ,   \" c h a r a c t e r \" :   \" o p   c e n t e r   s t a f f \" ,   \" c r e d i t _ i d \" :   \" 5 2 f e 4 8 0 1 9 2 5 1 4 1 6 c 7 5 0 a c a e b \" ,   \" g e n d e r \" :   0 ,   \" i d \" :   1 2 0 7 2 6 5 ,   \" n a m e \" :   \" p a u l   y a t e s \" ,   \" o r d e r \" :   4 8 } ,   { \" c a s t _ i d \" :   7 0 ,   \" c h a r a c t e r \" :   \" o p   c e n t e r   d u t y   o f f i c e r \" ,   \" c r e d i t _ i d \" :   \" 5 2 f e 4 8 0 1 9 2 5 1 4 1 6 c 7 5 0 a c a e f \" ,   \" g e n d e r \" :   0 ,   \" i d \" :   1 2 0 7 2 6 6 ,   \" n a m e \" :   \" w r a y   w i l s o n \" ,   \" o r d e r \" :   4 9 } ,   { \" c a s t _ i d \" :   7 1 ,   \" c h a r a c t e r \" :   \" o p   c e n t e r   s t a f f \" ,   \" c r e d i t _ i d \" :   \" 5 2 f e 4 8 0 1 9 2 5 1 4 1 6 c 7 5 0 a c a f 3 \" ,   \" g e n d e r \" :   2 ,   \" i d \" :   5 4 4 9 2 ,   \" n a m e \" :   \" j a m e s   g a y l y n \" ,   \" o r d e r \" :   5 0 } ,   { \" c a s t _ i d \" :   7 2 ,   \" c h a r a c t e r \" :   \" d a n c e r \" ,   \" c r e d i t _ i d \" :   \" 5 2 f e 4 8 0 1 9 2 5 1 4 1 6 c 7 5 0 a c a f 7 \" ,   \" g e n d e r \" :   0 ,   \" i d \" :   1 2 0 7 2 6 7 ,   \" n a m e \" :   \" m e l v i n   l e n o   c l a r k   i i i \" ,   \" o r d e r \" :   5 1 } ,   { \" c a s t _ i d \" :   7 3 ,   \" c h a r a c t e r \" :   \" d a n c e r \" ,   \" c r e d i t _ i d \" :   \" 5 2 f e 4 8 0 1 9 2 5 1 4 1 6 c 7 5 0 a c a f b \" ,   \" g e n d e r \" :   0 ,   \" i d \" :   1 2 0 7 2 6 8 ,   \" n a m e \" :   \" c a r v o n   f u t r e l l \" ,   \" o r d e r \" :   5 2 } ,   { \" c a s t _ i d \" :   7 4 ,   \" c h a r a c t e r \" :   \" d a n c e r \" ,   \" c r e d i t _ i d \" :   \" 5 2 f e 4 8 0 1 9 2 5 1 4 1 6 c 7 5 0 a c a f f \" ,   \" g e n d e r \" :   0 ,   \" i d \" :   1 2 0 7 2 6 9 ,   \" n a m e \" :   \" b r a n d o n   j e l k e s \" ,   \" o r d e r \" :   5 3 } ,   { \" c a s t _ i d \" :   7 5 ,   \" c h a r a c t e r \" :   \" d a n c e r \" ,   \" c r e d i t _ i d \" :   \" 5 2 f e 4 8 0 1 9 2 5 1 4 1 6 c 7 5 0 a c b 0 3 \" ,   \" g e n d e r \" :   0 ,   \" i d \" :   1 2 0 7 2 7 0 ,   \" n a m e \" :   \" m i c a h   m o c h \" ,   \" o r d e r \" :   5 4 } ,   { \" c a s t _ i d \" :   7 6 ,   \" c h a r a c t e r \" :   \" d a n c e r \" ,   \" c r e d i t _ i d \" :   \" 5 2 f e 4 8 0 1 9 2 5 1 4 1 6 c 7 5 0 a c b 0 7 \" ,   \" g e n d e r \" :   0 ,   \" i d \" :   1 2 0 7 2 7 1 ,   \" n a m e \" :   \" h a n n i y a h   m u h a m m a d \" ,   \" o r d e r \" :   5 5 } ,   { \" c a s t _ i d \" :   7 7 ,   \" c h a r a c t e r \" :   \" d a n c e r \" ,   \" c r e d i t _ i d \" :   \" 5 2 f e 4 8 0 1 9 2 5 1 4 1 6 c 7 5 0 a c b 0 b \" ,   \" g e n d e r \" :   0 ,   \" i d \" :   1 2 0 7 2 7 2 ,   \" n a m e \" :   \" c h r i s t o p h e r   n o l e n \" ,   \" o r d e r \" :   5 6 } ,   { \" c a s t _ i d \" :   7 8 ,   \" c h a r a c t e r \" :   \" d a n c e r \" ,   \" c r e d i t _ i d \" :   \" 5 2 f e 4 8 0 1 9 2 5 1 4 1 6 c 7 5 0 a c b 0 f \" ,   \" g e n d e r \" :   0 ,   \" i d \" :   1 2 0 7 2 7 3 ,   \" n a m e \" :   \" c h r i s t a   o l i v e r \" ,   \" o r d e r \" :   5 7 } ,   { \" c a s t _ i d \" :   7 9 ,   \" c h a r a c t e r \" :   \" d a n c e r \" ,   \" c r e d i t _ i d \" :   \" 5 2 f e 4 8 0 1 9 2 5 1 4 1 6 c 7 5 0 a c b 1 3 \" ,   \" g e n d e r \" :   0 ,   \" i d \" :   1 2 0 7 2 7 4 ,   \" n a m e \" :   \" a p r i l   m a r i e   t h o m a s \" ,   \" o r d e r \" :   5 8 } ,   { \" c a s t _ i d \" :   8 0 ,   \" c h a r a c t e r \" :   \" d a n c e r \" ,   \" c r e d i t _ i d \" :   \" 5 2 f e 4 8 0 1 9 2 5 1 4 1 6 c 7 5 0 a c b 1 7 \" ,   \" g e n d e r \" :   0 ,   \" i d \" :   1 2 0 7 2 7 5 ,   \" n a m e \" :   \" b r a v i t a   a .   t h r e a t t \" ,   \" o r d e r \" :   5 9 } ,   { \" c a s t _ i d \" :   8 1 ,   \" c h a r a c t e r \" :   \" m i n i n g   c h i e f   ( u n c r e d i t e d ) \" ,   \" c r e d i t _ i d \" :   \" 5 2 f e 4 8 0 1 9 2 5 1 4 1 6 c 7 5 0 a c b 1 b \" ,   \" g e n d e r \" :   0 ,   \" i d \" :   1 2 0 7 2 7 6 ,   \" n a m e \" :   \" c o l i n   b l e a s d a l e \" ,   \" o r d e r \" :   6 0 } ,   { \" c a s t _ i d \" :   8 2 ,   \" c h a r a c t e r \" :   \" v e t e r a n   m i n e r   ( u n c r e d i t e d ) \" ,   \" c r e d i t _ i d \" :   \" 5 2 f e 4 8 0 1 9 2 5 1 4 1 6 c 7 5 0 a c b 1 f \" ,   \" g e n d e r \" :   0 ,   \" i d \" :   1 0 7 9 6 9 ,   \" n a m e \" :   \" m i k e   b o d n a r \" ,   \" o r d e r \" :   6 1 } ,   { \" c a s t _ i d \" :   8 3 ,   \" c h a r a c t e r \" :   \" r i c h a r d   ( u n c r e d i t e d ) \" ,   \" c r e d i t _ i d \" :   \" 5 2 f e 4 8 0 1 9 2 5 1 4 1 6 c 7 5 0 a c b 2 3 \" ,   \" g e n d e r \" :   0 ,   \" i d \" :   1 2 0 7 2 7 8 ,   \" n a m e \" :   \" m a t t   c l a y t o n \" ,   \" o r d e r \" :   6 2 } ,   { \" c a s t _ i d \" :   8 4 ,   \" c h a r a c t e r \" :   \" n a v \\' i   ( u n c r e d i t e d ) \" ,   \" c r e d i t _ i d \" :   \" 5 2 f e 4 8 0 1 9 2 5 1 4 1 6 c 7 5 0 a c b 2 7 \" ,   \" g e n d e r \" :   1 ,   \" i d \" :   1 4 7 8 9 8 ,   \" n a m e \" :   \" n i c o l e   d i o n n e \" ,   \" o r d e r \" :   6 3 } ,   { \" c a s t _ i d \" :   8 5 ,   \" c h a r a c t e r \" :   \" t r o o p e r   ( u n c r e d i t e d ) \" ,   \" c r e d i t _ i d \" :   \" 5 2 f e 4 8 0 1 9 2 5 1 4 1 6 c 7 5 0 a c b 2 b \" ,   \" g e n d e r \" :   0 ,   \" i d \" :   1 2 0 7 2 8 0 ,   \" n a m e \" :   \" j a m i e   h a r r i s o n \" ,   \" o r d e r \" :   6 4 } ,   { \" c a s t _ i d \" :   8 6 ,   \" c h a r a c t e r \" :   \" t r o o p e r   ( u n c r e d i t e d ) \" ,   \" c r e d i t _ i d \" :   \" 5 2 f e 4 8 0 1 9 2 5 1 4 1 6 c 7 5 0 a c b 2 f \" ,   \" g e n d e r \" :   0 ,   \" i d \" :   1 2 0 7 2 8 1 ,   \" n a m e \" :   \" a l l a n   h e n r y \" ,   \" o r d e r \" :   6 5 } ,   { \" c a s t _ i d \" :   8 7 ,   \" c h a r a c t e r \" :   \" g r o u n d   t e c h n i c i a n   ( u n c r e d i t e d ) \" ,   \" c r e d i t _ i d \" :   \" 5 2 f e 4 8 0 1 9 2 5 1 4 1 6 c 7 5 0 a c b 3 3 \" ,   \" g e n d e r \" :   2 ,   \" i d \" :   1 2 0 7 2 8 2 ,   \" n a m e \" :   \" a n t h o n y   i n g r u b e r \" ,   \" o r d e r \" :   6 6 } ,   { \" c a s t _ i d \" :   8 8 ,   \" c h a r a c t e r \" :   \" f l i g h t   c r e w   m e c h a n i c   ( u n c r e d i t e d ) \" ,   \" c r e d i t _ i d \" :   \" 5 2 f e 4 8 0 1 9 2 5 1 4 1 6 c 7 5 0 a c b 3 7 \" ,   \" g e n d e r \" :   0 ,   \" i d \" :   1 2 0 7 2 8 3 ,   \" n a m e \" :   \" a s h l e y   j e f f e r y \" ,   \" o r d e r \" :   6 7 } ,   { \" c a s t _ i d \" :   1 4 ,   \" c h a r a c t e r \" :   \" s a m s o n   p i l o t \" ,   \" c r e d i t _ i d \" :   \" 5 2 f e 4 8 0 0 9 2 5 1 4 1 6 c 7 5 0 a c 9 f 9 \" ,   \" g e n d e r \" :   0 ,   \" i d \" :   9 8 2 1 6 ,   \" n a m e \" :   \" d e a n   k n o w s l e y \" ,   \" o r d e r \" :   6 8 } ,   { \" c a s t _ i d \" :   8 9 ,   \" c h a r a c t e r \" :   \" t r o o p e r   ( u n c r e d i t e d ) \" ,   \" c r e d i t _ i d \" :   \" 5 2 f e 4 8 0 1 9 2 5 1 4 1 6 c 7 5 0 a c b 3 b \" ,   \" g e n d e r \" :   0 ,   \" i d \" :   1 2 0 1 3 9 9 ,   \" n a m e \" :   \" j o s e p h   m i k a - h u n t \" ,   \" o r d e r \" :   6 9 } ,   { \" c a s t _ i d \" :   9 0 ,   \" c h a r a c t e r \" :   \" b a n s h e e   ( u n c r e d i t e d ) \" ,   \" c r e d i t _ i d \" :   \" 5 2 f e 4 8 0 1 9 2 5 1 4 1 6 c 7 5 0 a c b 3 f \" ,   \" g e n d e r \" :   0 ,   \" i d \" :   2 3 6 6 9 6 ,   \" n a m e \" :   \" t e r r y   n o t a r y \" ,   \" o r d e r \" :   7 0 } ,   { \" c a s t _ i d \" :   9 1 ,   \" c h a r a c t e r \" :   \" s o l d i e r   ( u n c r e d i t e d ) \" ,   \" c r e d i t _ i d \" :   \" 5 2 f e 4 8 0 1 9 2 5 1 4 1 6 c 7 5 0 a c b 4 3 \" ,   \" g e n d e r \" :   0 ,   \" i d \" :   1 2 0 7 2 8 7 ,   \" n a m e \" :   \" k a i   p a n t a n o \" ,   \" o r d e r \" :   7 1 } ,   { \" c a s t _ i d \" :   9 2 ,   \" c h a r a c t e r \" :   \" b l a s t   t e c h n i c i a n   ( u n c r e d i t e d ) \" ,   \" c r e d i t _ i d \" :   \" 5 2 f e 4 8 0 1 9 2 5 1 4 1 6 c 7 5 0 a c b 4 7 \" ,   \" g e n d e r \" :   0 ,   \" i d \" :   1 2 0 7 2 8 8 ,   \" n a m e \" :   \" l o g a n   p i t h y o u \" ,   \" o r d e r \" :   7 2 } ,   { \" c a s t _ i d \" :   9 3 ,   \" c h a r a c t e r \" :   \" v i n d u m   r a a h   ( u n c r e d i t e d ) \" ,   \" c r e d i t _ i d \" :   \" 5 2 f e 4 8 0 1 9 2 5 1 4 1 6 c 7 5 0 a c b 4 b \" ,   \" g e n d e r \" :   0 ,   \" i d \" :   1 2 0 7 2 8 9 ,   \" n a m e \" :   \" s t u a r t   p o l l o c k \" ,   \" o r d e r \" :   7 3 } ,   { \" c a s t _ i d \" :   9 4 ,   \" c h a r a c t e r \" :   \" h e r o   ( u n c r e d i t e d ) \" ,   \" c r e d i t _ i d \" :   \" 5 2 f e 4 8 0 1 9 2 5 1 4 1 6 c 7 5 0 a c b 4 f \" ,   \" g e n d e r \" :   0 ,   \" i d \" :   5 8 4 8 6 8 ,   \" n a m e \" :   \" r a j a \" ,   \" o r d e r \" :   7 4 } ,   { \" c a s t _ i d \" :   9 5 ,   \" c h a r a c t e r \" :   \" o p s   c e n t r e w o r k e r   ( u n c r e d i t e d ) \" ,   \" c r e d i t _ i d \" :   \" 5 2 f e 4 8 0 1 9 2 5 1 4 1 6 c 7 5 0 a c b 5 3 \" ,   \" g e n d e r \" :   0 ,   \" i d \" :   1 2 0 7 2 9 0 ,   \" n a m e \" :   \" g a r e t h   r u c k \" ,   \" o r d e r \" :   7 5 } ,   { \" c a s t _ i d \" :   9 6 ,   \" c h a r a c t e r \" :   \" e n g i n e e r   ( u n c r e d i t e d ) \" ,   \" c r e d i t _ i d \" :   \" 5 2 f e 4 8 0 1 9 2 5 1 4 1 6 c 7 5 0 a c b 5 7 \" ,   \" g e n d e r \" :   0 ,   \" i d \" :   1 0 6 2 4 6 3 ,   \" n a m e \" :   \" r h i a n   s h e e h a n \" ,   \" o r d e r \" :   7 6 } ,   { \" c a s t _ i d \" :   9 7 ,   \" c h a r a c t e r \" :   \" c o l .   q u a r i t c h \\' s   m e c h   s u i t   ( u n c r e d i t e d ) \" ,   \" c r e d i t _ i d \" :   \" 5 2 f e 4 8 0 1 9 2 5 1 4 1 6 c 7 5 0 a c b 5 b \" ,   \" g e n d e r \" :   0 ,   \" i d \" :   6 0 6 5 6 ,   \" n a m e \" :   \" t .   j .   s t o r m \" ,   \" o r d e r \" :   7 7 } ,   { \" c a s t _ i d \" :   9 8 ,   \" c h a r a c t e r \" :   \" f e m a l e   m a r i n e   ( u n c r e d i t e d ) \" ,   \" c r e d i t _ i d \" :   \" 5 2 f e 4 8 0 1 9 2 5 1 4 1 6 c 7 5 0 a c b 5 f \" ,   \" g e n d e r \" :   0 ,   \" i d \" :   1 2 0 7 2 9 1 ,   \" n a m e \" :   \" j o d i e   t a y l o r \" ,   \" o r d e r \" :   7 8 } ,   { \" c a s t _ i d \" :   9 9 ,   \" c h a r a c t e r \" :   \" i k r a n   c l a n   l e a d e r   ( u n c r e d i t e d ) \" ,   \" c r e d i t _ i d \" :   \" 5 2 f e 4 8 0 1 9 2 5 1 4 1 6 c 7 5 0 a c b 6 3 \" ,   \" g e n d e r \" :   1 ,   \" i d \" :   1 1 8 6 0 2 7 ,   \" n a m e \" :   \" a l i c i a   v e l a - b a i l e y \" ,   \" o r d e r \" :   7 9 } ,   { \" c a s t _ i d \" :   1 0 0 ,   \" c h a r a c t e r \" :   \" g e o l o g i s t   ( u n c r e d i t e d ) \" ,   \" c r e d i t _ i d \" :   \" 5 2 f e 4 8 0 1 9 2 5 1 4 1 6 c 7 5 0 a c b 6 7 \" ,   \" g e n d e r \" :   0 ,   \" i d \" :   1 2 0 7 2 9 2 ,   \" n a m e \" :   \" r i c h a r d   w h i t e s i d e \" ,   \" o r d e r \" :   8 0 } ,   { \" c a s t _ i d \" :   1 0 1 ,   \" c h a r a c t e r \" :   \" n a \\' v i   ( u n c r e d i t e d ) \" ,   \" c r e d i t _ i d \" :   \" 5 2 f e 4 8 0 1 9 2 5 1 4 1 6 c 7 5 0 a c b 6 b \" ,   \" g e n d e r \" :   0 ,   \" i d \" :   1 0 3 2 5 9 ,   \" n a m e \" :   \" n i k i e   z a m b o \" ,   \" o r d e r \" :   8 1 } ,   { \" c a s t _ i d \" :   1 0 2 ,   \" c h a r a c t e r \" :   \" a m b i e n t   r o o m   t e c h   /   t r o u p e \" ,   \" c r e d i t _ i d \" :   \" 5 2 f e 4 8 0 1 9 2 5 1 4 1 6 c 7 5 0 a c b 6 f \" ,   \" g e n d e r \" :   1 ,   \" i d \" :   4 2 2 8 6 ,   \" n a m e \" :   \" j u l e n e   r e n e e \" ,   \" o r d e r \" :   8 2 } ] james cameron'"
      ]
     },
     "execution_count": 45,
     "metadata": {},
     "output_type": "execute_result"
    }
   ],
   "source": [
    "new_df.iloc[0].tags"
   ]
  },
  {
   "cell_type": "markdown",
   "id": "2df632df",
   "metadata": {
    "papermill": {
     "duration": 0.023899,
     "end_time": "2023-01-27T15:22:09.176639",
     "exception": false,
     "start_time": "2023-01-27T15:22:09.152740",
     "status": "completed"
    },
    "tags": []
   },
   "source": [
    "## Building Model NLP"
   ]
  },
  {
   "cell_type": "code",
   "execution_count": 46,
   "id": "433b439e",
   "metadata": {
    "execution": {
     "iopub.execute_input": "2023-01-27T15:22:09.229048Z",
     "iopub.status.busy": "2023-01-27T15:22:09.228307Z",
     "iopub.status.idle": "2023-01-27T15:22:10.357658Z",
     "shell.execute_reply": "2023-01-27T15:22:10.356394Z"
    },
    "papermill": {
     "duration": 1.159497,
     "end_time": "2023-01-27T15:22:10.360572",
     "exception": false,
     "start_time": "2023-01-27T15:22:09.201075",
     "status": "completed"
    },
    "tags": []
   },
   "outputs": [],
   "source": [
    "import nltk\n",
    "from nltk.stem import PorterStemmer"
   ]
  },
  {
   "cell_type": "code",
   "execution_count": 47,
   "id": "b0305575",
   "metadata": {
    "execution": {
     "iopub.execute_input": "2023-01-27T15:22:10.410801Z",
     "iopub.status.busy": "2023-01-27T15:22:10.410356Z",
     "iopub.status.idle": "2023-01-27T15:22:10.415336Z",
     "shell.execute_reply": "2023-01-27T15:22:10.414241Z"
    },
    "papermill": {
     "duration": 0.033121,
     "end_time": "2023-01-27T15:22:10.417745",
     "exception": false,
     "start_time": "2023-01-27T15:22:10.384624",
     "status": "completed"
    },
    "tags": []
   },
   "outputs": [],
   "source": [
    "ps=PorterStemmer()"
   ]
  },
  {
   "cell_type": "markdown",
   "id": "df93ace6",
   "metadata": {
    "papermill": {
     "duration": 0.02329,
     "end_time": "2023-01-27T15:22:10.465451",
     "exception": false,
     "start_time": "2023-01-27T15:22:10.442161",
     "status": "completed"
    },
    "tags": []
   },
   "source": [
    "**Building Function Handle Text**"
   ]
  },
  {
   "cell_type": "code",
   "execution_count": 48,
   "id": "bc61f2bf",
   "metadata": {
    "execution": {
     "iopub.execute_input": "2023-01-27T15:22:10.513951Z",
     "iopub.status.busy": "2023-01-27T15:22:10.513458Z",
     "iopub.status.idle": "2023-01-27T15:22:10.519364Z",
     "shell.execute_reply": "2023-01-27T15:22:10.518367Z"
    },
    "papermill": {
     "duration": 0.032543,
     "end_time": "2023-01-27T15:22:10.521405",
     "exception": false,
     "start_time": "2023-01-27T15:22:10.488862",
     "status": "completed"
    },
    "tags": []
   },
   "outputs": [],
   "source": [
    "def stems(text):\n",
    "    T=[]\n",
    "    \n",
    "    for i in text.split():\n",
    "        T.append(ps.stem(i))\n",
    "    return ' '.join(T)"
   ]
  },
  {
   "cell_type": "code",
   "execution_count": 49,
   "id": "37a92788",
   "metadata": {
    "execution": {
     "iopub.execute_input": "2023-01-27T15:22:10.570807Z",
     "iopub.status.busy": "2023-01-27T15:22:10.570112Z",
     "iopub.status.idle": "2023-01-27T15:22:31.721288Z",
     "shell.execute_reply": "2023-01-27T15:22:31.720087Z"
    },
    "papermill": {
     "duration": 21.17991,
     "end_time": "2023-01-27T15:22:31.724763",
     "exception": false,
     "start_time": "2023-01-27T15:22:10.544853",
     "status": "completed"
    },
    "tags": []
   },
   "outputs": [
    {
     "name": "stderr",
     "output_type": "stream",
     "text": [
      "/opt/conda/lib/python3.7/site-packages/ipykernel_launcher.py:1: SettingWithCopyWarning: \n",
      "A value is trying to be set on a copy of a slice from a DataFrame.\n",
      "Try using .loc[row_indexer,col_indexer] = value instead\n",
      "\n",
      "See the caveats in the documentation: https://pandas.pydata.org/pandas-docs/stable/user_guide/indexing.html#returning-a-view-versus-a-copy\n",
      "  \"\"\"Entry point for launching an IPython kernel.\n"
     ]
    }
   ],
   "source": [
    "new_df['tags']=new_df['tags'].apply(stems)"
   ]
  },
  {
   "cell_type": "code",
   "execution_count": 50,
   "id": "ea760c52",
   "metadata": {
    "execution": {
     "iopub.execute_input": "2023-01-27T15:22:31.775368Z",
     "iopub.status.busy": "2023-01-27T15:22:31.774911Z",
     "iopub.status.idle": "2023-01-27T15:22:31.783038Z",
     "shell.execute_reply": "2023-01-27T15:22:31.781909Z"
    },
    "papermill": {
     "duration": 0.035466,
     "end_time": "2023-01-27T15:22:31.785570",
     "exception": false,
     "start_time": "2023-01-27T15:22:31.750104",
     "status": "completed"
    },
    "tags": []
   },
   "outputs": [
    {
     "data": {
      "text/plain": [
       "'in the 22nd century, a parapleg marin is dispatch to the moon pandora on a uniqu mission, but becom torn between follow order and protect an alien civilization. action adventur fantasi scienc fiction cultur clash futur space war space coloni societi space travel futurist romanc space alien tribe alien planet cgi marin soldier battl love affair anti war power relat mind and soul 3d [ { \" c a s t _ i d \" : 2 4 2 , \" c h a r a c t e r \" : \" j a k e s u l l y \" , \" c r e d i t _ i d \" : \" 5 6 0 2 a 8 a 7 c 3 a 3 6 8 5 5 3 2 0 0 1 c 9 a \" , \" g e n d e r \" : 2 , \" i d \" : 6 5 7 3 1 , \" n a m e \" : \" s a m w o r t h i n g t o n \" , \" o r d e r \" : 0 } , { \" c a s t _ i d \" : 3 , \" c h a r a c t e r \" : \" n e y t i r i \" , \" c r e d i t _ i d \" : \" 5 2 f e 4 8 0 0 9 2 5 1 4 1 6 c 7 5 0 a c 9 c b \" , \" g e n d e r \" : 1 , \" i d \" : 8 6 9 1 , \" n a m e \" : \" z o e s a l d a n a \" , \" o r d e r \" : 1 } , { \" c a s t _ i d \" : 2 5 , \" c h a r a c t e r \" : \" d r . g r a c e a u g u s t i n e \" , \" c r e d i t _ i d \" : \" 5 2 f e 4 8 0 0 9 2 5 1 4 1 6 c 7 5 0 a c a 3 9 \" , \" g e n d e r \" : 1 , \" i d \" : 1 0 2 0 5 , \" n a m e \" : \" s i g o u r n e y w e a v e r \" , \" o r d e r \" : 2 } , { \" c a s t _ i d \" : 4 , \" c h a r a c t e r \" : \" c o l . q u a r i t c h \" , \" c r e d i t _ i d \" : \" 5 2 f e 4 8 0 0 9 2 5 1 4 1 6 c 7 5 0 a c 9 c f \" , \" g e n d e r \" : 2 , \" i d \" : 3 2 7 4 7 , \" n a m e \" : \" s t e p h e n l a n g \" , \" o r d e r \" : 3 } , { \" c a s t _ i d \" : 5 , \" c h a r a c t e r \" : \" t r u d y c h a c o n \" , \" c r e d i t _ i d \" : \" 5 2 f e 4 8 0 0 9 2 5 1 4 1 6 c 7 5 0 a c 9 d 3 \" , \" g e n d e r \" : 1 , \" i d \" : 1 7 6 4 7 , \" n a m e \" : \" m i c h e l l e r o d r i g u e z \" , \" o r d e r \" : 4 } , { \" c a s t _ i d \" : 8 , \" c h a r a c t e r \" : \" s e l f r i d g e \" , \" c r e d i t _ i d \" : \" 5 2 f e 4 8 0 0 9 2 5 1 4 1 6 c 7 5 0 a c 9 e 1 \" , \" g e n d e r \" : 2 , \" i d \" : 1 7 7 1 , \" n a m e \" : \" g i o v a n n i r i b i s i \" , \" o r d e r \" : 5 } , { \" c a s t _ i d \" : 7 , \" c h a r a c t e r \" : \" n o r m s p e l l m a n \" , \" c r e d i t _ i d \" : \" 5 2 f e 4 8 0 0 9 2 5 1 4 1 6 c 7 5 0 a c 9 d d \" , \" g e n d e r \" : 2 , \" i d \" : 5 9 2 3 1 , \" n a m e \" : \" j o e l d a v i d m o o r e \" , \" o r d e r \" : 6 } , { \" c a s t _ i d \" : 9 , \" c h a r a c t e r \" : \" m o a t \" , \" c r e d i t _ i d \" : \" 5 2 f e 4 8 0 0 9 2 5 1 4 1 6 c 7 5 0 a c 9 e 5 \" , \" g e n d e r \" : 1 , \" i d \" : 3 0 4 8 5 , \" n a m e \" : \" c c h p o u n d e r \" , \" o r d e r \" : 7 } , { \" c a s t _ i d \" : 1 1 , \" c h a r a c t e r \" : \" e y t u k a n \" , \" c r e d i t _ i d \" : \" 5 2 f e 4 8 0 0 9 2 5 1 4 1 6 c 7 5 0 a c 9 e d \" , \" g e n d e r \" : 2 , \" i d \" : 1 5 8 5 3 , \" n a m e \" : \" w e s s t u d i \" , \" o r d e r \" : 8 } , { \" c a s t _ i d \" : 1 0 , \" c h a r a c t e r \" : \" t s u \\' t e y \" , \" c r e d i t _ i d \" : \" 5 2 f e 4 8 0 0 9 2 5 1 4 1 6 c 7 5 0 a c 9 e 9 \" , \" g e n d e r \" : 2 , \" i d \" : 1 0 9 6 4 , \" n a m e \" : \" l a z a l o n s o \" , \" o r d e r \" : 9 } , { \" c a s t _ i d \" : 1 2 , \" c h a r a c t e r \" : \" d r . m a x p a t e l \" , \" c r e d i t _ i d \" : \" 5 2 f e 4 8 0 0 9 2 5 1 4 1 6 c 7 5 0 a c 9 f 1 \" , \" g e n d e r \" : 2 , \" i d \" : 9 5 6 9 7 , \" n a m e \" : \" d i l e e p r a o \" , \" o r d e r \" : 1 0 } , { \" c a s t _ i d \" : 1 3 , \" c h a r a c t e r \" : \" l y l e w a i n f l e e t \" , \" c r e d i t _ i d \" : \" 5 2 f e 4 8 0 0 9 2 5 1 4 1 6 c 7 5 0 a c 9 f 5 \" , \" g e n d e r \" : 2 , \" i d \" : 9 8 2 1 5 , \" n a m e \" : \" m a t t g e r a l d \" , \" o r d e r \" : 1 1 } , { \" c a s t _ i d \" : 3 2 , \" c h a r a c t e r \" : \" p r i v a t e f i k e \" , \" c r e d i t _ i d \" : \" 5 2 f e 4 8 0 0 9 2 5 1 4 1 6 c 7 5 0 a c a 5 b \" , \" g e n d e r \" : 2 , \" i d \" : 1 5 4 1 5 3 , \" n a m e \" : \" s e a n a n t h o n y m o r a n \" , \" o r d e r \" : 1 2 } , { \" c a s t _ i d \" : 3 3 , \" c h a r a c t e r \" : \" c r y o v a u l t m e d t e c h \" , \" c r e d i t _ i d \" : \" 5 2 f e 4 8 0 0 9 2 5 1 4 1 6 c 7 5 0 a c a 5 f \" , \" g e n d e r \" : 2 , \" i d \" : 3 9 7 3 1 2 , \" n a m e \" : \" j a s o n w h y t e \" , \" o r d e r \" : 1 3 } , { \" c a s t _ i d \" : 3 4 , \" c h a r a c t e r \" : \" v e n t u r e s t a r c r e w c h i e f \" , \" c r e d i t _ i d \" : \" 5 2 f e 4 8 0 0 9 2 5 1 4 1 6 c 7 5 0 a c a 6 3 \" , \" g e n d e r \" : 2 , \" i d \" : 4 2 3 1 7 , \" n a m e \" : \" s c o t t l a w r e n c e \" , \" o r d e r \" : 1 4 } , { \" c a s t _ i d \" : 3 5 , \" c h a r a c t e r \" : \" l o c k u p t r o o p e r \" , \" c r e d i t _ i d \" : \" 5 2 f e 4 8 0 0 9 2 5 1 4 1 6 c 7 5 0 a c a 6 7 \" , \" g e n d e r \" : 2 , \" i d \" : 9 8 6 7 3 4 , \" n a m e \" : \" k e l l y k i l g o u r \" , \" o r d e r \" : 1 5 } , { \" c a s t _ i d \" : 3 6 , \" c h a r a c t e r \" : \" s h u t t l e p i l o t \" , \" c r e d i t _ i d \" : \" 5 2 f e 4 8 0 0 9 2 5 1 4 1 6 c 7 5 0 a c a 6 b \" , \" g e n d e r \" : 0 , \" i d \" : 1 2 0 7 2 2 7 , \" n a m e \" : \" j a m e s p a t r i c k p i t t \" , \" o r d e r \" : 1 6 } , { \" c a s t _ i d \" : 3 7 , \" c h a r a c t e r \" : \" s h u t t l e c o - p i l o t \" , \" c r e d i t _ i d \" : \" 5 2 f e 4 8 0 0 9 2 5 1 4 1 6 c 7 5 0 a c a 6 f \" , \" g e n d e r \" : 0 , \" i d \" : 1 1 8 0 9 3 6 , \" n a m e \" : \" s e a n p a t r i c k m u r p h y \" , \" o r d e r \" : 1 7 } , { \" c a s t _ i d \" : 3 8 , \" c h a r a c t e r \" : \" s h u t t l e c r e w c h i e f \" , \" c r e d i t _ i d \" : \" 5 2 f e 4 8 0 0 9 2 5 1 4 1 6 c 7 5 0 a c a 7 3 \" , \" g e n d e r \" : 2 , \" i d \" : 1 0 1 9 5 7 8 , \" n a m e \" : \" p e t e r d i l l o n \" , \" o r d e r \" : 1 8 } , { \" c a s t _ i d \" : 3 9 , \" c h a r a c t e r \" : \" t r a c t o r o p e r a t o r / t r o u p e \" , \" c r e d i t _ i d \" : \" 5 2 f e 4 8 0 0 9 2 5 1 4 1 6 c 7 5 0 a c a 7 7 \" , \" g e n d e r \" : 0 , \" i d \" : 9 1 4 4 3 , \" n a m e \" : \" k e v i n d o r m a n \" , \" o r d e r \" : 1 9 } , { \" c a s t _ i d \" : 4 0 , \" c h a r a c t e r \" : \" d r a g o n g u n s h i p p i l o t \" , \" c r e d i t _ i d \" : \" 5 2 f e 4 8 0 0 9 2 5 1 4 1 6 c 7 5 0 a c a 7 b \" , \" g e n d e r \" : 2 , \" i d \" : 1 7 3 3 9 1 , \" n a m e \" : \" k e l s o n h e n d e r s o n \" , \" o r d e r \" : 2 0 } , { \" c a s t _ i d \" : 4 1 , \" c h a r a c t e r \" : \" d r a g o n g u n s h i p g u n n e r \" , \" c r e d i t _ i d \" : \" 5 2 f e 4 8 0 0 9 2 5 1 4 1 6 c 7 5 0 a c a 7 f \" , \" g e n d e r \" : 0 , \" i d \" : 1 2 0 7 2 3 6 , \" n a m e \" : \" d a v i d v a n h o r n \" , \" o r d e r \" : 2 1 } , { \" c a s t _ i d \" : 4 2 , \" c h a r a c t e r \" : \" d r a g o n g u n s h i p n a v i g a t o r \" , \" c r e d i t _ i d \" : \" 5 2 f e 4 8 0 0 9 2 5 1 4 1 6 c 7 5 0 a c a 8 3 \" , \" g e n d e r \" : 0 , \" i d \" : 2 1 5 9 1 3 , \" n a m e \" : \" j a c o b t o m u r i \" , \" o r d e r \" : 2 2 } , { \" c a s t _ i d \" : 4 3 , \" c h a r a c t e r \" : \" s u i t # 1 \" , \" c r e d i t _ i d \" : \" 5 2 f e 4 8 0 0 9 2 5 1 4 1 6 c 7 5 0 a c a 8 7 \" , \" g e n d e r \" : 0 , \" i d \" : 1 4 3 2 0 6 , \" n a m e \" : \" m i c h a e l b l a i n - r o z g a y \" , \" o r d e r \" : 2 3 } , { \" c a s t _ i d \" : 4 4 , \" c h a r a c t e r \" : \" s u i t # 2 \" , \" c r e d i t _ i d \" : \" 5 2 f e 4 8 0 0 9 2 5 1 4 1 6 c 7 5 0 a c a 8 b \" , \" g e n d e r \" : 2 , \" i d \" : 1 6 9 6 7 6 , \" n a m e \" : \" j o n c u r r y \" , \" o r d e r \" : 2 4 } , { \" c a s t _ i d \" : 4 6 , \" c h a r a c t e r \" : \" a m b i e n t r o o m t e c h \" , \" c r e d i t _ i d \" : \" 5 2 f e 4 8 0 0 9 2 5 1 4 1 6 c 7 5 0 a c a 8 f \" , \" g e n d e r \" : 0 , \" i d \" : 1 0 4 8 6 1 0 , \" n a m e \" : \" l u k e h a w k e r \" , \" o r d e r \" : 2 5 } , { \" c a s t _ i d \" : 4 7 , \" c h a r a c t e r \" : \" a m b i e n t r o o m t e c h / t r o u p e \" , \" c r e d i t _ i d \" : \" 5 2 f e 4 8 0 0 9 2 5 1 4 1 6 c 7 5 0 a c a 9 3 \" , \" g e n d e r \" : 0 , \" i d \" : 4 2 2 8 8 , \" n a m e \" : \" w o o d y s c h u l t z \" , \" o r d e r \" : 2 6 } , { \" c a s t _ i d \" : 4 8 , \" c h a r a c t e r \" : \" h o r s e c l a n l e a d e r \" , \" c r e d i t _ i d \" : \" 5 2 f e 4 8 0 0 9 2 5 1 4 1 6 c 7 5 0 a c a 9 7 \" , \" g e n d e r \" : 2 , \" i d \" : 6 8 2 7 8 , \" n a m e \" : \" p e t e r m e n s a h \" , \" o r d e r \" : 2 7 } , { \" c a s t _ i d \" : 4 9 , \" c h a r a c t e r \" : \" l i n k r o o m t e c h \" , \" c r e d i t _ i d \" : \" 5 2 f e 4 8 0 0 9 2 5 1 4 1 6 c 7 5 0 a c a 9 b \" , \" g e n d e r \" : 0 , \" i d \" : 1 2 0 7 2 4 7 , \" n a m e \" : \" s o n i a y e e \" , \" o r d e r \" : 2 8 } , { \" c a s t _ i d \" : 5 0 , \" c h a r a c t e r \" : \" b a s k e t b a l l a v a t a r / t r o u p e \" , \" c r e d i t _ i d \" : \" 5 2 f e 4 8 0 0 9 2 5 1 4 1 6 c 7 5 0 a c a 9 f \" , \" g e n d e r \" : 1 , \" i d \" : 1 2 0 7 2 4 8 , \" n a m e \" : \" j a h n e l c u r f m a n \" , \" o r d e r \" : 2 9 } , { \" c a s t _ i d \" : 5 1 , \" c h a r a c t e r \" : \" b a s k e t b a l l a v a t a r \" , \" c r e d i t _ i d \" : \" 5 2 f e 4 8 0 0 9 2 5 1 4 1 6 c 7 5 0 a c a a 3 \" , \" g e n d e r \" : 0 , \" i d \" : 8 9 7 1 4 , \" n a m e \" : \" i l r a m c h o i \" , \" o r d e r \" : 3 0 } , { \" c a s t _ i d \" : 5 2 , \" c h a r a c t e r \" : \" n a \\' v i c h i l d \" , \" c r e d i t _ i d \" : \" 5 2 f e 4 8 0 0 9 2 5 1 4 1 6 c 7 5 0 a c a a 7 \" , \" g e n d e r \" : 0 , \" i d \" : 1 2 0 7 2 4 9 , \" n a m e \" : \" k y l a w a r r e n \" , \" o r d e r \" : 3 1 } , { \" c a s t _ i d \" : 5 3 , \" c h a r a c t e r \" : \" t r o u p e \" , \" c r e d i t _ i d \" : \" 5 2 f e 4 8 0 0 9 2 5 1 4 1 6 c 7 5 0 a c a a b \" , \" g e n d e r \" : 0 , \" i d \" : 1 2 0 7 2 5 0 , \" n a m e \" : \" l i s a r o u m a i n \" , \" o r d e r \" : 3 2 } , { \" c a s t _ i d \" : 5 4 , \" c h a r a c t e r \" : \" t r o u p e \" , \" c r e d i t _ i d \" : \" 5 2 f e 4 8 0 0 9 2 5 1 4 1 6 c 7 5 0 a c a a f \" , \" g e n d e r \" : 1 , \" i d \" : 8 3 1 0 5 , \" n a m e \" : \" d e b r a w i l s o n \" , \" o r d e r \" : 3 3 } , { \" c a s t _ i d \" : 5 7 , \" c h a r a c t e r \" : \" t r o u p e \" , \" c r e d i t _ i d \" : \" 5 2 f e 4 8 0 0 9 2 5 1 4 1 6 c 7 5 0 a c a b b \" , \" g e n d e r \" : 0 , \" i d \" : 1 2 0 7 2 5 3 , \" n a m e \" : \" c h r i s m a l a \" , \" o r d e r \" : 3 4 } , { \" c a s t _ i d \" : 5 5 , \" c h a r a c t e r \" : \" t r o u p e \" , \" c r e d i t _ i d \" : \" 5 2 f e 4 8 0 0 9 2 5 1 4 1 6 c 7 5 0 a c a b 3 \" , \" g e n d e r \" : 0 , \" i d \" : 1 2 0 7 2 5 1 , \" n a m e \" : \" t a y l o r k i b b y \" , \" o r d e r \" : 3 5 } , { \" c a s t _ i d \" : 5 6 , \" c h a r a c t e r \" : \" t r o u p e \" , \" c r e d i t _ i d \" : \" 5 2 f e 4 8 0 0 9 2 5 1 4 1 6 c 7 5 0 a c a b 7 \" , \" g e n d e r \" : 0 , \" i d \" : 1 2 0 7 2 5 2 , \" n a m e \" : \" j o d i e l a n d a u \" , \" o r d e r \" : 3 6 } , { \" c a s t _ i d \" : 5 8 , \" c h a r a c t e r \" : \" t r o u p e \" , \" c r e d i t _ i d \" : \" 5 2 f e 4 8 0 0 9 2 5 1 4 1 6 c 7 5 0 a c a b f \" , \" g e n d e r \" : 0 , \" i d \" : 1 2 0 7 2 5 4 , \" n a m e \" : \" j u l i e l a m m \" , \" o r d e r \" : 3 7 } , { \" c a s t _ i d \" : 5 9 , \" c h a r a c t e r \" : \" t r o u p e \" , \" c r e d i t _ i d \" : \" 5 2 f e 4 8 0 0 9 2 5 1 4 1 6 c 7 5 0 a c a c 3 \" , \" g e n d e r \" : 0 , \" i d \" : 1 2 0 7 2 5 7 , \" n a m e \" : \" c u l l e n b . m a d d e n \" , \" o r d e r \" : 3 8 } , { \" c a s t _ i d \" : 6 0 , \" c h a r a c t e r \" : \" t r o u p e \" , \" c r e d i t _ i d \" : \" 5 2 f e 4 8 0 0 9 2 5 1 4 1 6 c 7 5 0 a c a c 7 \" , \" g e n d e r \" : 0 , \" i d \" : 1 2 0 7 2 5 9 , \" n a m e \" : \" j o s e p h b r a d y m a d d e n \" , \" o r d e r \" : 3 9 } , { \" c a s t _ i d \" : 6 1 , \" c h a r a c t e r \" : \" t r o u p e \" , \" c r e d i t _ i d \" : \" 5 2 f e 4 8 0 0 9 2 5 1 4 1 6 c 7 5 0 a c a c b \" , \" g e n d e r \" : 0 , \" i d \" : 1 2 0 7 2 6 2 , \" n a m e \" : \" f r a n k i e t o r r e s \" , \" o r d e r \" : 4 0 } , { \" c a s t _ i d \" : 6 2 , \" c h a r a c t e r \" : \" t r o u p e \" , \" c r e d i t _ i d \" : \" 5 2 f e 4 8 0 0 9 2 5 1 4 1 6 c 7 5 0 a c a c f \" , \" g e n d e r \" : 1 , \" i d \" : 1 1 5 8 6 0 0 , \" n a m e \" : \" a u s t i n w i l s o n \" , \" o r d e r \" : 4 1 } , { \" c a s t _ i d \" : 6 3 , \" c h a r a c t e r \" : \" t r o u p e \" , \" c r e d i t _ i d \" : \" 5 2 f e 4 8 0 1 9 2 5 1 4 1 6 c 7 5 0 a c a d 3 \" , \" g e n d e r \" : 1 , \" i d \" : 9 8 3 7 0 5 , \" n a m e \" : \" s a r a w i l s o n \" , \" o r d e r \" : 4 2 } , { \" c a s t _ i d \" : 6 4 , \" c h a r a c t e r \" : \" t r o u p e \" , \" c r e d i t _ i d \" : \" 5 2 f e 4 8 0 1 9 2 5 1 4 1 6 c 7 5 0 a c a d 7 \" , \" g e n d e r \" : 0 , \" i d \" : 1 2 0 7 2 6 3 , \" n a m e \" : \" t a m i c a w a s h i n g t o n - m i l l e r \" , \" o r d e r \" : 4 3 } , { \" c a s t _ i d \" : 6 5 , \" c h a r a c t e r \" : \" o p c e n t e r s t a f f \" , \" c r e d i t _ i d \" : \" 5 2 f e 4 8 0 1 9 2 5 1 4 1 6 c 7 5 0 a c a d b \" , \" g e n d e r \" : 1 , \" i d \" : 1 1 4 5 0 9 8 , \" n a m e \" : \" l u c y b r i a n t \" , \" o r d e r \" : 4 4 } , { \" c a s t _ i d \" : 6 6 , \" c h a r a c t e r \" : \" o p c e n t e r s t a f f \" , \" c r e d i t _ i d \" : \" 5 2 f e 4 8 0 1 9 2 5 1 4 1 6 c 7 5 0 a c a d f \" , \" g e n d e r \" : 2 , \" i d \" : 3 3 3 0 5 , \" n a m e \" : \" n a t h a n m e i s t e r \" , \" o r d e r \" : 4 5 } , { \" c a s t _ i d \" : 6 7 , \" c h a r a c t e r \" : \" o p c e n t e r s t a f f \" , \" c r e d i t _ i d \" : \" 5 2 f e 4 8 0 1 9 2 5 1 4 1 6 c 7 5 0 a c a e 3 \" , \" g e n d e r \" : 0 , \" i d \" : 1 2 0 7 2 6 4 , \" n a m e \" : \" g e r r y b l a i r \" , \" o r d e r \" : 4 6 } , { \" c a s t _ i d \" : 6 8 , \" c h a r a c t e r \" : \" o p c e n t e r s t a f f \" , \" c r e d i t _ i d \" : \" 5 2 f e 4 8 0 1 9 2 5 1 4 1 6 c 7 5 0 a c a e 7 \" , \" g e n d e r \" : 2 , \" i d \" : 3 3 3 1 1 , \" n a m e \" : \" m a t t h e w c h a m b e r l a i n \" , \" o r d e r \" : 4 7 } , { \" c a s t _ i d \" : 6 9 , \" c h a r a c t e r \" : \" o p c e n t e r s t a f f \" , \" c r e d i t _ i d \" : \" 5 2 f e 4 8 0 1 9 2 5 1 4 1 6 c 7 5 0 a c a e b \" , \" g e n d e r \" : 0 , \" i d \" : 1 2 0 7 2 6 5 , \" n a m e \" : \" p a u l y a t e s \" , \" o r d e r \" : 4 8 } , { \" c a s t _ i d \" : 7 0 , \" c h a r a c t e r \" : \" o p c e n t e r d u t y o f f i c e r \" , \" c r e d i t _ i d \" : \" 5 2 f e 4 8 0 1 9 2 5 1 4 1 6 c 7 5 0 a c a e f \" , \" g e n d e r \" : 0 , \" i d \" : 1 2 0 7 2 6 6 , \" n a m e \" : \" w r a y w i l s o n \" , \" o r d e r \" : 4 9 } , { \" c a s t _ i d \" : 7 1 , \" c h a r a c t e r \" : \" o p c e n t e r s t a f f \" , \" c r e d i t _ i d \" : \" 5 2 f e 4 8 0 1 9 2 5 1 4 1 6 c 7 5 0 a c a f 3 \" , \" g e n d e r \" : 2 , \" i d \" : 5 4 4 9 2 , \" n a m e \" : \" j a m e s g a y l y n \" , \" o r d e r \" : 5 0 } , { \" c a s t _ i d \" : 7 2 , \" c h a r a c t e r \" : \" d a n c e r \" , \" c r e d i t _ i d \" : \" 5 2 f e 4 8 0 1 9 2 5 1 4 1 6 c 7 5 0 a c a f 7 \" , \" g e n d e r \" : 0 , \" i d \" : 1 2 0 7 2 6 7 , \" n a m e \" : \" m e l v i n l e n o c l a r k i i i \" , \" o r d e r \" : 5 1 } , { \" c a s t _ i d \" : 7 3 , \" c h a r a c t e r \" : \" d a n c e r \" , \" c r e d i t _ i d \" : \" 5 2 f e 4 8 0 1 9 2 5 1 4 1 6 c 7 5 0 a c a f b \" , \" g e n d e r \" : 0 , \" i d \" : 1 2 0 7 2 6 8 , \" n a m e \" : \" c a r v o n f u t r e l l \" , \" o r d e r \" : 5 2 } , { \" c a s t _ i d \" : 7 4 , \" c h a r a c t e r \" : \" d a n c e r \" , \" c r e d i t _ i d \" : \" 5 2 f e 4 8 0 1 9 2 5 1 4 1 6 c 7 5 0 a c a f f \" , \" g e n d e r \" : 0 , \" i d \" : 1 2 0 7 2 6 9 , \" n a m e \" : \" b r a n d o n j e l k e s \" , \" o r d e r \" : 5 3 } , { \" c a s t _ i d \" : 7 5 , \" c h a r a c t e r \" : \" d a n c e r \" , \" c r e d i t _ i d \" : \" 5 2 f e 4 8 0 1 9 2 5 1 4 1 6 c 7 5 0 a c b 0 3 \" , \" g e n d e r \" : 0 , \" i d \" : 1 2 0 7 2 7 0 , \" n a m e \" : \" m i c a h m o c h \" , \" o r d e r \" : 5 4 } , { \" c a s t _ i d \" : 7 6 , \" c h a r a c t e r \" : \" d a n c e r \" , \" c r e d i t _ i d \" : \" 5 2 f e 4 8 0 1 9 2 5 1 4 1 6 c 7 5 0 a c b 0 7 \" , \" g e n d e r \" : 0 , \" i d \" : 1 2 0 7 2 7 1 , \" n a m e \" : \" h a n n i y a h m u h a m m a d \" , \" o r d e r \" : 5 5 } , { \" c a s t _ i d \" : 7 7 , \" c h a r a c t e r \" : \" d a n c e r \" , \" c r e d i t _ i d \" : \" 5 2 f e 4 8 0 1 9 2 5 1 4 1 6 c 7 5 0 a c b 0 b \" , \" g e n d e r \" : 0 , \" i d \" : 1 2 0 7 2 7 2 , \" n a m e \" : \" c h r i s t o p h e r n o l e n \" , \" o r d e r \" : 5 6 } , { \" c a s t _ i d \" : 7 8 , \" c h a r a c t e r \" : \" d a n c e r \" , \" c r e d i t _ i d \" : \" 5 2 f e 4 8 0 1 9 2 5 1 4 1 6 c 7 5 0 a c b 0 f \" , \" g e n d e r \" : 0 , \" i d \" : 1 2 0 7 2 7 3 , \" n a m e \" : \" c h r i s t a o l i v e r \" , \" o r d e r \" : 5 7 } , { \" c a s t _ i d \" : 7 9 , \" c h a r a c t e r \" : \" d a n c e r \" , \" c r e d i t _ i d \" : \" 5 2 f e 4 8 0 1 9 2 5 1 4 1 6 c 7 5 0 a c b 1 3 \" , \" g e n d e r \" : 0 , \" i d \" : 1 2 0 7 2 7 4 , \" n a m e \" : \" a p r i l m a r i e t h o m a s \" , \" o r d e r \" : 5 8 } , { \" c a s t _ i d \" : 8 0 , \" c h a r a c t e r \" : \" d a n c e r \" , \" c r e d i t _ i d \" : \" 5 2 f e 4 8 0 1 9 2 5 1 4 1 6 c 7 5 0 a c b 1 7 \" , \" g e n d e r \" : 0 , \" i d \" : 1 2 0 7 2 7 5 , \" n a m e \" : \" b r a v i t a a . t h r e a t t \" , \" o r d e r \" : 5 9 } , { \" c a s t _ i d \" : 8 1 , \" c h a r a c t e r \" : \" m i n i n g c h i e f ( u n c r e d i t e d ) \" , \" c r e d i t _ i d \" : \" 5 2 f e 4 8 0 1 9 2 5 1 4 1 6 c 7 5 0 a c b 1 b \" , \" g e n d e r \" : 0 , \" i d \" : 1 2 0 7 2 7 6 , \" n a m e \" : \" c o l i n b l e a s d a l e \" , \" o r d e r \" : 6 0 } , { \" c a s t _ i d \" : 8 2 , \" c h a r a c t e r \" : \" v e t e r a n m i n e r ( u n c r e d i t e d ) \" , \" c r e d i t _ i d \" : \" 5 2 f e 4 8 0 1 9 2 5 1 4 1 6 c 7 5 0 a c b 1 f \" , \" g e n d e r \" : 0 , \" i d \" : 1 0 7 9 6 9 , \" n a m e \" : \" m i k e b o d n a r \" , \" o r d e r \" : 6 1 } , { \" c a s t _ i d \" : 8 3 , \" c h a r a c t e r \" : \" r i c h a r d ( u n c r e d i t e d ) \" , \" c r e d i t _ i d \" : \" 5 2 f e 4 8 0 1 9 2 5 1 4 1 6 c 7 5 0 a c b 2 3 \" , \" g e n d e r \" : 0 , \" i d \" : 1 2 0 7 2 7 8 , \" n a m e \" : \" m a t t c l a y t o n \" , \" o r d e r \" : 6 2 } , { \" c a s t _ i d \" : 8 4 , \" c h a r a c t e r \" : \" n a v \\' i ( u n c r e d i t e d ) \" , \" c r e d i t _ i d \" : \" 5 2 f e 4 8 0 1 9 2 5 1 4 1 6 c 7 5 0 a c b 2 7 \" , \" g e n d e r \" : 1 , \" i d \" : 1 4 7 8 9 8 , \" n a m e \" : \" n i c o l e d i o n n e \" , \" o r d e r \" : 6 3 } , { \" c a s t _ i d \" : 8 5 , \" c h a r a c t e r \" : \" t r o o p e r ( u n c r e d i t e d ) \" , \" c r e d i t _ i d \" : \" 5 2 f e 4 8 0 1 9 2 5 1 4 1 6 c 7 5 0 a c b 2 b \" , \" g e n d e r \" : 0 , \" i d \" : 1 2 0 7 2 8 0 , \" n a m e \" : \" j a m i e h a r r i s o n \" , \" o r d e r \" : 6 4 } , { \" c a s t _ i d \" : 8 6 , \" c h a r a c t e r \" : \" t r o o p e r ( u n c r e d i t e d ) \" , \" c r e d i t _ i d \" : \" 5 2 f e 4 8 0 1 9 2 5 1 4 1 6 c 7 5 0 a c b 2 f \" , \" g e n d e r \" : 0 , \" i d \" : 1 2 0 7 2 8 1 , \" n a m e \" : \" a l l a n h e n r y \" , \" o r d e r \" : 6 5 } , { \" c a s t _ i d \" : 8 7 , \" c h a r a c t e r \" : \" g r o u n d t e c h n i c i a n ( u n c r e d i t e d ) \" , \" c r e d i t _ i d \" : \" 5 2 f e 4 8 0 1 9 2 5 1 4 1 6 c 7 5 0 a c b 3 3 \" , \" g e n d e r \" : 2 , \" i d \" : 1 2 0 7 2 8 2 , \" n a m e \" : \" a n t h o n y i n g r u b e r \" , \" o r d e r \" : 6 6 } , { \" c a s t _ i d \" : 8 8 , \" c h a r a c t e r \" : \" f l i g h t c r e w m e c h a n i c ( u n c r e d i t e d ) \" , \" c r e d i t _ i d \" : \" 5 2 f e 4 8 0 1 9 2 5 1 4 1 6 c 7 5 0 a c b 3 7 \" , \" g e n d e r \" : 0 , \" i d \" : 1 2 0 7 2 8 3 , \" n a m e \" : \" a s h l e y j e f f e r y \" , \" o r d e r \" : 6 7 } , { \" c a s t _ i d \" : 1 4 , \" c h a r a c t e r \" : \" s a m s o n p i l o t \" , \" c r e d i t _ i d \" : \" 5 2 f e 4 8 0 0 9 2 5 1 4 1 6 c 7 5 0 a c 9 f 9 \" , \" g e n d e r \" : 0 , \" i d \" : 9 8 2 1 6 , \" n a m e \" : \" d e a n k n o w s l e y \" , \" o r d e r \" : 6 8 } , { \" c a s t _ i d \" : 8 9 , \" c h a r a c t e r \" : \" t r o o p e r ( u n c r e d i t e d ) \" , \" c r e d i t _ i d \" : \" 5 2 f e 4 8 0 1 9 2 5 1 4 1 6 c 7 5 0 a c b 3 b \" , \" g e n d e r \" : 0 , \" i d \" : 1 2 0 1 3 9 9 , \" n a m e \" : \" j o s e p h m i k a - h u n t \" , \" o r d e r \" : 6 9 } , { \" c a s t _ i d \" : 9 0 , \" c h a r a c t e r \" : \" b a n s h e e ( u n c r e d i t e d ) \" , \" c r e d i t _ i d \" : \" 5 2 f e 4 8 0 1 9 2 5 1 4 1 6 c 7 5 0 a c b 3 f \" , \" g e n d e r \" : 0 , \" i d \" : 2 3 6 6 9 6 , \" n a m e \" : \" t e r r y n o t a r y \" , \" o r d e r \" : 7 0 } , { \" c a s t _ i d \" : 9 1 , \" c h a r a c t e r \" : \" s o l d i e r ( u n c r e d i t e d ) \" , \" c r e d i t _ i d \" : \" 5 2 f e 4 8 0 1 9 2 5 1 4 1 6 c 7 5 0 a c b 4 3 \" , \" g e n d e r \" : 0 , \" i d \" : 1 2 0 7 2 8 7 , \" n a m e \" : \" k a i p a n t a n o \" , \" o r d e r \" : 7 1 } , { \" c a s t _ i d \" : 9 2 , \" c h a r a c t e r \" : \" b l a s t t e c h n i c i a n ( u n c r e d i t e d ) \" , \" c r e d i t _ i d \" : \" 5 2 f e 4 8 0 1 9 2 5 1 4 1 6 c 7 5 0 a c b 4 7 \" , \" g e n d e r \" : 0 , \" i d \" : 1 2 0 7 2 8 8 , \" n a m e \" : \" l o g a n p i t h y o u \" , \" o r d e r \" : 7 2 } , { \" c a s t _ i d \" : 9 3 , \" c h a r a c t e r \" : \" v i n d u m r a a h ( u n c r e d i t e d ) \" , \" c r e d i t _ i d \" : \" 5 2 f e 4 8 0 1 9 2 5 1 4 1 6 c 7 5 0 a c b 4 b \" , \" g e n d e r \" : 0 , \" i d \" : 1 2 0 7 2 8 9 , \" n a m e \" : \" s t u a r t p o l l o c k \" , \" o r d e r \" : 7 3 } , { \" c a s t _ i d \" : 9 4 , \" c h a r a c t e r \" : \" h e r o ( u n c r e d i t e d ) \" , \" c r e d i t _ i d \" : \" 5 2 f e 4 8 0 1 9 2 5 1 4 1 6 c 7 5 0 a c b 4 f \" , \" g e n d e r \" : 0 , \" i d \" : 5 8 4 8 6 8 , \" n a m e \" : \" r a j a \" , \" o r d e r \" : 7 4 } , { \" c a s t _ i d \" : 9 5 , \" c h a r a c t e r \" : \" o p s c e n t r e w o r k e r ( u n c r e d i t e d ) \" , \" c r e d i t _ i d \" : \" 5 2 f e 4 8 0 1 9 2 5 1 4 1 6 c 7 5 0 a c b 5 3 \" , \" g e n d e r \" : 0 , \" i d \" : 1 2 0 7 2 9 0 , \" n a m e \" : \" g a r e t h r u c k \" , \" o r d e r \" : 7 5 } , { \" c a s t _ i d \" : 9 6 , \" c h a r a c t e r \" : \" e n g i n e e r ( u n c r e d i t e d ) \" , \" c r e d i t _ i d \" : \" 5 2 f e 4 8 0 1 9 2 5 1 4 1 6 c 7 5 0 a c b 5 7 \" , \" g e n d e r \" : 0 , \" i d \" : 1 0 6 2 4 6 3 , \" n a m e \" : \" r h i a n s h e e h a n \" , \" o r d e r \" : 7 6 } , { \" c a s t _ i d \" : 9 7 , \" c h a r a c t e r \" : \" c o l . q u a r i t c h \\' s m e c h s u i t ( u n c r e d i t e d ) \" , \" c r e d i t _ i d \" : \" 5 2 f e 4 8 0 1 9 2 5 1 4 1 6 c 7 5 0 a c b 5 b \" , \" g e n d e r \" : 0 , \" i d \" : 6 0 6 5 6 , \" n a m e \" : \" t . j . s t o r m \" , \" o r d e r \" : 7 7 } , { \" c a s t _ i d \" : 9 8 , \" c h a r a c t e r \" : \" f e m a l e m a r i n e ( u n c r e d i t e d ) \" , \" c r e d i t _ i d \" : \" 5 2 f e 4 8 0 1 9 2 5 1 4 1 6 c 7 5 0 a c b 5 f \" , \" g e n d e r \" : 0 , \" i d \" : 1 2 0 7 2 9 1 , \" n a m e \" : \" j o d i e t a y l o r \" , \" o r d e r \" : 7 8 } , { \" c a s t _ i d \" : 9 9 , \" c h a r a c t e r \" : \" i k r a n c l a n l e a d e r ( u n c r e d i t e d ) \" , \" c r e d i t _ i d \" : \" 5 2 f e 4 8 0 1 9 2 5 1 4 1 6 c 7 5 0 a c b 6 3 \" , \" g e n d e r \" : 1 , \" i d \" : 1 1 8 6 0 2 7 , \" n a m e \" : \" a l i c i a v e l a - b a i l e y \" , \" o r d e r \" : 7 9 } , { \" c a s t _ i d \" : 1 0 0 , \" c h a r a c t e r \" : \" g e o l o g i s t ( u n c r e d i t e d ) \" , \" c r e d i t _ i d \" : \" 5 2 f e 4 8 0 1 9 2 5 1 4 1 6 c 7 5 0 a c b 6 7 \" , \" g e n d e r \" : 0 , \" i d \" : 1 2 0 7 2 9 2 , \" n a m e \" : \" r i c h a r d w h i t e s i d e \" , \" o r d e r \" : 8 0 } , { \" c a s t _ i d \" : 1 0 1 , \" c h a r a c t e r \" : \" n a \\' v i ( u n c r e d i t e d ) \" , \" c r e d i t _ i d \" : \" 5 2 f e 4 8 0 1 9 2 5 1 4 1 6 c 7 5 0 a c b 6 b \" , \" g e n d e r \" : 0 , \" i d \" : 1 0 3 2 5 9 , \" n a m e \" : \" n i k i e z a m b o \" , \" o r d e r \" : 8 1 } , { \" c a s t _ i d \" : 1 0 2 , \" c h a r a c t e r \" : \" a m b i e n t r o o m t e c h / t r o u p e \" , \" c r e d i t _ i d \" : \" 5 2 f e 4 8 0 1 9 2 5 1 4 1 6 c 7 5 0 a c b 6 f \" , \" g e n d e r \" : 1 , \" i d \" : 4 2 2 8 6 , \" n a m e \" : \" j u l e n e r e n e e \" , \" o r d e r \" : 8 2 } ] jame cameron'"
      ]
     },
     "execution_count": 50,
     "metadata": {},
     "output_type": "execute_result"
    }
   ],
   "source": [
    "new_df.iloc[0]['tags']"
   ]
  },
  {
   "cell_type": "code",
   "execution_count": 51,
   "id": "5a21a4df",
   "metadata": {
    "execution": {
     "iopub.execute_input": "2023-01-27T15:22:31.835752Z",
     "iopub.status.busy": "2023-01-27T15:22:31.835320Z",
     "iopub.status.idle": "2023-01-27T15:22:31.840824Z",
     "shell.execute_reply": "2023-01-27T15:22:31.839578Z"
    },
    "papermill": {
     "duration": 0.033325,
     "end_time": "2023-01-27T15:22:31.843210",
     "exception": false,
     "start_time": "2023-01-27T15:22:31.809885",
     "status": "completed"
    },
    "tags": []
   },
   "outputs": [],
   "source": [
    "from  sklearn.feature_extraction.text import CountVectorizer\n",
    "# Counter Vector Indetifies Unique Word\n",
    "cv=CountVectorizer(max_features=5000,stop_words='english')"
   ]
  },
  {
   "cell_type": "code",
   "execution_count": 52,
   "id": "d9331082",
   "metadata": {
    "execution": {
     "iopub.execute_input": "2023-01-27T15:22:31.893713Z",
     "iopub.status.busy": "2023-01-27T15:22:31.892467Z",
     "iopub.status.idle": "2023-01-27T15:22:33.619851Z",
     "shell.execute_reply": "2023-01-27T15:22:33.618455Z"
    },
    "papermill": {
     "duration": 1.755386,
     "end_time": "2023-01-27T15:22:33.622559",
     "exception": false,
     "start_time": "2023-01-27T15:22:31.867173",
     "status": "completed"
    },
    "tags": []
   },
   "outputs": [],
   "source": [
    "vector=cv.fit_transform(new_df['tags']).toarray()"
   ]
  },
  {
   "cell_type": "code",
   "execution_count": 53,
   "id": "d336e0f1",
   "metadata": {
    "execution": {
     "iopub.execute_input": "2023-01-27T15:22:33.672756Z",
     "iopub.status.busy": "2023-01-27T15:22:33.672035Z",
     "iopub.status.idle": "2023-01-27T15:22:33.679308Z",
     "shell.execute_reply": "2023-01-27T15:22:33.678085Z"
    },
    "papermill": {
     "duration": 0.035088,
     "end_time": "2023-01-27T15:22:33.681735",
     "exception": false,
     "start_time": "2023-01-27T15:22:33.646647",
     "status": "completed"
    },
    "tags": []
   },
   "outputs": [
    {
     "data": {
      "text/plain": [
       "array([0, 0, 0, ..., 0, 0, 0])"
      ]
     },
     "execution_count": 53,
     "metadata": {},
     "output_type": "execute_result"
    }
   ],
   "source": [
    "vector[0]"
   ]
  },
  {
   "cell_type": "code",
   "execution_count": 54,
   "id": "164bb0de",
   "metadata": {
    "execution": {
     "iopub.execute_input": "2023-01-27T15:22:33.733244Z",
     "iopub.status.busy": "2023-01-27T15:22:33.732795Z",
     "iopub.status.idle": "2023-01-27T15:22:33.739741Z",
     "shell.execute_reply": "2023-01-27T15:22:33.738551Z"
    },
    "papermill": {
     "duration": 0.035642,
     "end_time": "2023-01-27T15:22:33.742412",
     "exception": false,
     "start_time": "2023-01-27T15:22:33.706770",
     "status": "completed"
    },
    "tags": []
   },
   "outputs": [
    {
     "data": {
      "text/plain": [
       "(4806, 5000)"
      ]
     },
     "execution_count": 54,
     "metadata": {},
     "output_type": "execute_result"
    }
   ],
   "source": [
    "vector.shape"
   ]
  },
  {
   "cell_type": "code",
   "execution_count": 55,
   "id": "b0493a02",
   "metadata": {
    "execution": {
     "iopub.execute_input": "2023-01-27T15:22:33.795356Z",
     "iopub.status.busy": "2023-01-27T15:22:33.794847Z",
     "iopub.status.idle": "2023-01-27T15:22:33.807760Z",
     "shell.execute_reply": "2023-01-27T15:22:33.806936Z"
    },
    "papermill": {
     "duration": 0.043356,
     "end_time": "2023-01-27T15:22:33.811003",
     "exception": false,
     "start_time": "2023-01-27T15:22:33.767647",
     "status": "completed"
    },
    "tags": []
   },
   "outputs": [
    {
     "name": "stderr",
     "output_type": "stream",
     "text": [
      "/opt/conda/lib/python3.7/site-packages/sklearn/utils/deprecation.py:87: FutureWarning: Function get_feature_names is deprecated; get_feature_names is deprecated in 1.0 and will be removed in 1.2. Please use get_feature_names_out instead.\n",
      "  warnings.warn(msg, category=FutureWarning)\n"
     ]
    },
    {
     "data": {
      "text/plain": [
       "5000"
      ]
     },
     "execution_count": 55,
     "metadata": {},
     "output_type": "execute_result"
    }
   ],
   "source": [
    "len(cv.get_feature_names())"
   ]
  },
  {
   "cell_type": "code",
   "execution_count": 56,
   "id": "bffc51d1",
   "metadata": {
    "execution": {
     "iopub.execute_input": "2023-01-27T15:22:33.862498Z",
     "iopub.status.busy": "2023-01-27T15:22:33.862090Z",
     "iopub.status.idle": "2023-01-27T15:22:33.867274Z",
     "shell.execute_reply": "2023-01-27T15:22:33.866095Z"
    },
    "papermill": {
     "duration": 0.033574,
     "end_time": "2023-01-27T15:22:33.869641",
     "exception": false,
     "start_time": "2023-01-27T15:22:33.836067",
     "status": "completed"
    },
    "tags": []
   },
   "outputs": [],
   "source": [
    "from sklearn.metrics.pairwise import cosine_similarity"
   ]
  },
  {
   "cell_type": "code",
   "execution_count": 57,
   "id": "e8e392aa",
   "metadata": {
    "execution": {
     "iopub.execute_input": "2023-01-27T15:22:33.920274Z",
     "iopub.status.busy": "2023-01-27T15:22:33.919845Z",
     "iopub.status.idle": "2023-01-27T15:22:36.203254Z",
     "shell.execute_reply": "2023-01-27T15:22:36.201587Z"
    },
    "papermill": {
     "duration": 2.314398,
     "end_time": "2023-01-27T15:22:36.208303",
     "exception": false,
     "start_time": "2023-01-27T15:22:33.893905",
     "status": "completed"
    },
    "tags": []
   },
   "outputs": [],
   "source": [
    "similarity= cosine_similarity(vector)"
   ]
  },
  {
   "cell_type": "code",
   "execution_count": 58,
   "id": "8d7990b5",
   "metadata": {
    "execution": {
     "iopub.execute_input": "2023-01-27T15:22:36.260857Z",
     "iopub.status.busy": "2023-01-27T15:22:36.260434Z",
     "iopub.status.idle": "2023-01-27T15:22:36.268098Z",
     "shell.execute_reply": "2023-01-27T15:22:36.266842Z"
    },
    "papermill": {
     "duration": 0.03622,
     "end_time": "2023-01-27T15:22:36.270867",
     "exception": false,
     "start_time": "2023-01-27T15:22:36.234647",
     "status": "completed"
    },
    "tags": []
   },
   "outputs": [
    {
     "data": {
      "text/plain": [
       "(4806, 4806)"
      ]
     },
     "execution_count": 58,
     "metadata": {},
     "output_type": "execute_result"
    }
   ],
   "source": [
    "similarity.shape"
   ]
  },
  {
   "cell_type": "code",
   "execution_count": 59,
   "id": "9730aad3",
   "metadata": {
    "execution": {
     "iopub.execute_input": "2023-01-27T15:22:36.323118Z",
     "iopub.status.busy": "2023-01-27T15:22:36.322670Z",
     "iopub.status.idle": "2023-01-27T15:22:36.332100Z",
     "shell.execute_reply": "2023-01-27T15:22:36.331113Z"
    },
    "papermill": {
     "duration": 0.038024,
     "end_time": "2023-01-27T15:22:36.334467",
     "exception": false,
     "start_time": "2023-01-27T15:22:36.296443",
     "status": "completed"
    },
    "tags": []
   },
   "outputs": [
    {
     "data": {
      "text/plain": [
       "744"
      ]
     },
     "execution_count": 59,
     "metadata": {},
     "output_type": "execute_result"
    }
   ],
   "source": [
    "new_df[new_df['title']=='The Lego Movie'].index[0]"
   ]
  },
  {
   "cell_type": "code",
   "execution_count": 60,
   "id": "39b1e7d2",
   "metadata": {
    "execution": {
     "iopub.execute_input": "2023-01-27T15:22:36.386305Z",
     "iopub.status.busy": "2023-01-27T15:22:36.385867Z",
     "iopub.status.idle": "2023-01-27T15:22:36.392451Z",
     "shell.execute_reply": "2023-01-27T15:22:36.391038Z"
    },
    "papermill": {
     "duration": 0.035658,
     "end_time": "2023-01-27T15:22:36.394754",
     "exception": false,
     "start_time": "2023-01-27T15:22:36.359096",
     "status": "completed"
    },
    "tags": []
   },
   "outputs": [],
   "source": [
    "def recommend(movie):\n",
    "    index=new_df[new_df['title']==movie].index[0]\n",
    "    distances =sorted(list(enumerate(similarity[index])),reverse=True,key=lambda x: x[1])\n",
    "    for i in distances[1:6]:\n",
    "        print(new_df.iloc[i[0]].title)"
   ]
  },
  {
   "cell_type": "code",
   "execution_count": 61,
   "id": "9bcf7553",
   "metadata": {
    "execution": {
     "iopub.execute_input": "2023-01-27T15:22:36.445952Z",
     "iopub.status.busy": "2023-01-27T15:22:36.445537Z",
     "iopub.status.idle": "2023-01-27T15:22:36.457998Z",
     "shell.execute_reply": "2023-01-27T15:22:36.456487Z"
    },
    "papermill": {
     "duration": 0.040825,
     "end_time": "2023-01-27T15:22:36.460490",
     "exception": false,
     "start_time": "2023-01-27T15:22:36.419665",
     "status": "completed"
    },
    "tags": []
   },
   "outputs": [
    {
     "name": "stdout",
     "output_type": "stream",
     "text": [
      "Superman Returns\n",
      "Superman II\n",
      "Superman III\n",
      "Superman IV: The Quest for Peace\n",
      "X-Men: Apocalypse\n"
     ]
    }
   ],
   "source": [
    "recommend(\"Superman\")"
   ]
  },
  {
   "cell_type": "code",
   "execution_count": null,
   "id": "0b94cb0f",
   "metadata": {
    "papermill": {
     "duration": 0.024715,
     "end_time": "2023-01-27T15:22:36.510659",
     "exception": false,
     "start_time": "2023-01-27T15:22:36.485944",
     "status": "completed"
    },
    "tags": []
   },
   "outputs": [],
   "source": []
  }
 ],
 "metadata": {
  "kernelspec": {
   "display_name": "Python 3",
   "language": "python",
   "name": "python3"
  },
  "language_info": {
   "codemirror_mode": {
    "name": "ipython",
    "version": 3
   },
   "file_extension": ".py",
   "mimetype": "text/x-python",
   "name": "python",
   "nbconvert_exporter": "python",
   "pygments_lexer": "ipython3",
   "version": "3.7.12"
  },
  "papermill": {
   "default_parameters": {},
   "duration": 52.825748,
   "end_time": "2023-01-27T15:22:37.761173",
   "environment_variables": {},
   "exception": null,
   "input_path": "__notebook__.ipynb",
   "output_path": "__notebook__.ipynb",
   "parameters": {},
   "start_time": "2023-01-27T15:21:44.935425",
   "version": "2.3.4"
  }
 },
 "nbformat": 4,
 "nbformat_minor": 5
}
